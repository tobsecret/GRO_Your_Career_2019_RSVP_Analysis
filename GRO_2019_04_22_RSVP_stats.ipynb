{
 "cells": [
  {
   "cell_type": "code",
   "execution_count": 1,
   "metadata": {},
   "outputs": [],
   "source": [
    "%matplotlib inline\n",
    "import altair as alt\n",
    "import pandas as pd"
   ]
  },
  {
   "cell_type": "markdown",
   "metadata": {},
   "source": [
    "## Aims\n",
    "The aim of this notebook is to analyze our RSVP data and see which schools I have to encourage to send more e-mails to their listservs."
   ]
  },
  {
   "cell_type": "code",
   "execution_count": 2,
   "metadata": {},
   "outputs": [
    {
     "data": {
      "text/html": [
       "<div>\n",
       "<style scoped>\n",
       "    .dataframe tbody tr th:only-of-type {\n",
       "        vertical-align: middle;\n",
       "    }\n",
       "\n",
       "    .dataframe tbody tr th {\n",
       "        vertical-align: top;\n",
       "    }\n",
       "\n",
       "    .dataframe thead th {\n",
       "        text-align: right;\n",
       "    }\n",
       "</style>\n",
       "<table border=\"1\" class=\"dataframe\">\n",
       "  <thead>\n",
       "    <tr style=\"text-align: right;\">\n",
       "      <th></th>\n",
       "      <th>rsvp_no</th>\n",
       "      <th>time</th>\n",
       "      <th>institution</th>\n",
       "    </tr>\n",
       "  </thead>\n",
       "  <tbody>\n",
       "    <tr>\n",
       "      <th>0</th>\n",
       "      <td>1</td>\n",
       "      <td>2019-03-07 16:58:00</td>\n",
       "      <td>Non-academic Institution</td>\n",
       "    </tr>\n",
       "    <tr>\n",
       "      <th>1</th>\n",
       "      <td>2</td>\n",
       "      <td>2019-03-14 19:11:00</td>\n",
       "      <td>Other</td>\n",
       "    </tr>\n",
       "    <tr>\n",
       "      <th>2</th>\n",
       "      <td>3</td>\n",
       "      <td>2019-03-18 14:28:00</td>\n",
       "      <td>Non-academic Institution</td>\n",
       "    </tr>\n",
       "    <tr>\n",
       "      <th>3</th>\n",
       "      <td>4</td>\n",
       "      <td>2019-03-19 16:33:00</td>\n",
       "      <td>CUNY</td>\n",
       "    </tr>\n",
       "    <tr>\n",
       "      <th>4</th>\n",
       "      <td>5</td>\n",
       "      <td>2019-03-19 16:45:00</td>\n",
       "      <td>CUNY</td>\n",
       "    </tr>\n",
       "  </tbody>\n",
       "</table>\n",
       "</div>"
      ],
      "text/plain": [
       "   rsvp_no                time               institution\n",
       "0        1 2019-03-07 16:58:00  Non-academic Institution\n",
       "1        2 2019-03-14 19:11:00                     Other\n",
       "2        3 2019-03-18 14:28:00  Non-academic Institution\n",
       "3        4 2019-03-19 16:33:00                      CUNY\n",
       "4        5 2019-03-19 16:45:00                      CUNY"
      ]
     },
     "execution_count": 2,
     "metadata": {},
     "output_type": "execute_result"
    }
   ],
   "source": [
    "df = pd.read_csv('rsvp_data.csv')\n",
    "df['time'] = pd.to_datetime(df['time'])\n",
    "df.head()"
   ]
  },
  {
   "cell_type": "code",
   "execution_count": 3,
   "metadata": {},
   "outputs": [],
   "source": [
    "df['counts'] = df.groupby('institution').cumcount()+1"
   ]
  },
  {
   "cell_type": "code",
   "execution_count": 4,
   "metadata": {},
   "outputs": [
    {
     "data": {
      "application/vnd.vegalite.v2+json": {
       "$schema": "https://vega.github.io/schema/vega-lite/v2.6.0.json",
       "config": {
        "view": {
         "height": 300,
         "width": 400
        }
       },
       "data": {
        "name": "data-092a3415f002100849b264f01cf8736a"
       },
       "datasets": {
        "data-092a3415f002100849b264f01cf8736a": [
         {
          "counts": 1,
          "institution": "Non-academic Institution",
          "rsvp_no": 1,
          "time": "2019-03-07T16:58:00"
         },
         {
          "counts": 1,
          "institution": "Other",
          "rsvp_no": 2,
          "time": "2019-03-14T19:11:00"
         },
         {
          "counts": 2,
          "institution": "Non-academic Institution",
          "rsvp_no": 3,
          "time": "2019-03-18T14:28:00"
         },
         {
          "counts": 1,
          "institution": "CUNY",
          "rsvp_no": 4,
          "time": "2019-03-19T16:33:00"
         },
         {
          "counts": 2,
          "institution": "CUNY",
          "rsvp_no": 5,
          "time": "2019-03-19T16:45:00"
         },
         {
          "counts": 3,
          "institution": "CUNY",
          "rsvp_no": 6,
          "time": "2019-03-20T12:58:00"
         },
         {
          "counts": 4,
          "institution": "CUNY",
          "rsvp_no": 7,
          "time": "2019-03-24T23:46:00"
         },
         {
          "counts": 5,
          "institution": "CUNY",
          "rsvp_no": 8,
          "time": "2019-03-24T23:48:00"
         },
         {
          "counts": 6,
          "institution": "CUNY",
          "rsvp_no": 9,
          "time": "2019-03-25T07:25:00"
         },
         {
          "counts": 3,
          "institution": "Non-academic Institution",
          "rsvp_no": 10,
          "time": "2019-03-25T09:05:00"
         },
         {
          "counts": 1,
          "institution": "Mount Sinai",
          "rsvp_no": 11,
          "time": "2019-03-25T09:06:00"
         },
         {
          "counts": 1,
          "institution": "Columbia",
          "rsvp_no": 12,
          "time": "2019-03-25T09:06:00"
         },
         {
          "counts": 2,
          "institution": "Mount Sinai",
          "rsvp_no": 13,
          "time": "2019-03-25T09:06:00"
         },
         {
          "counts": 7,
          "institution": "CUNY",
          "rsvp_no": 14,
          "time": "2019-03-25T09:08:00"
         },
         {
          "counts": 1,
          "institution": "Einstein",
          "rsvp_no": 15,
          "time": "2019-03-25T09:08:00"
         },
         {
          "counts": 4,
          "institution": "Non-academic Institution",
          "rsvp_no": 16,
          "time": "2019-03-25T09:09:00"
         },
         {
          "counts": 2,
          "institution": "Einstein",
          "rsvp_no": 17,
          "time": "2019-03-25T09:11:00"
         },
         {
          "counts": 8,
          "institution": "CUNY",
          "rsvp_no": 18,
          "time": "2019-03-25T09:12:00"
         },
         {
          "counts": 2,
          "institution": "Other",
          "rsvp_no": 19,
          "time": "2019-03-25T09:14:00"
         },
         {
          "counts": 9,
          "institution": "CUNY",
          "rsvp_no": 20,
          "time": "2019-03-25T09:16:00"
         },
         {
          "counts": 1,
          "institution": "NYU",
          "rsvp_no": 21,
          "time": "2019-03-25T09:16:00"
         },
         {
          "counts": 3,
          "institution": "Mount Sinai",
          "rsvp_no": 22,
          "time": "2019-03-25T09:18:00"
         },
         {
          "counts": 2,
          "institution": "Columbia",
          "rsvp_no": 23,
          "time": "2019-03-25T09:20:00"
         },
         {
          "counts": 3,
          "institution": "Einstein",
          "rsvp_no": 24,
          "time": "2019-03-25T09:22:00"
         },
         {
          "counts": 10,
          "institution": "CUNY",
          "rsvp_no": 25,
          "time": "2019-03-25T09:24:00"
         },
         {
          "counts": 4,
          "institution": "Mount Sinai",
          "rsvp_no": 26,
          "time": "2019-03-25T09:36:00"
         },
         {
          "counts": 2,
          "institution": "NYU",
          "rsvp_no": 27,
          "time": "2019-03-25T09:39:00"
         },
         {
          "counts": 4,
          "institution": "Einstein",
          "rsvp_no": 28,
          "time": "2019-03-25T09:42:00"
         },
         {
          "counts": 3,
          "institution": "Columbia",
          "rsvp_no": 29,
          "time": "2019-03-25T09:54:00"
         },
         {
          "counts": 5,
          "institution": "Einstein",
          "rsvp_no": 30,
          "time": "2019-03-25T09:59:00"
         },
         {
          "counts": 1,
          "institution": "MSKCC",
          "rsvp_no": 31,
          "time": "2019-03-25T10:08:00"
         },
         {
          "counts": 5,
          "institution": "Mount Sinai",
          "rsvp_no": 32,
          "time": "2019-03-25T10:15:00"
         },
         {
          "counts": 3,
          "institution": "NYU",
          "rsvp_no": 33,
          "time": "2019-03-25T10:21:00"
         },
         {
          "counts": 6,
          "institution": "Mount Sinai",
          "rsvp_no": 34,
          "time": "2019-03-25T10:26:00"
         },
         {
          "counts": 7,
          "institution": "Mount Sinai",
          "rsvp_no": 35,
          "time": "2019-03-25T10:28:00"
         },
         {
          "counts": 4,
          "institution": "NYU",
          "rsvp_no": 36,
          "time": "2019-03-25T10:30:00"
         },
         {
          "counts": 5,
          "institution": "NYU",
          "rsvp_no": 37,
          "time": "2019-03-25T10:46:00"
         },
         {
          "counts": 6,
          "institution": "NYU",
          "rsvp_no": 38,
          "time": "2019-03-25T10:46:00"
         },
         {
          "counts": 4,
          "institution": "Columbia",
          "rsvp_no": 39,
          "time": "2019-03-25T10:56:00"
         },
         {
          "counts": 7,
          "institution": "NYU",
          "rsvp_no": 40,
          "time": "2019-03-25T10:56:00"
         },
         {
          "counts": 8,
          "institution": "Mount Sinai",
          "rsvp_no": 41,
          "time": "2019-03-25T10:56:00"
         },
         {
          "counts": 8,
          "institution": "NYU",
          "rsvp_no": 42,
          "time": "2019-03-25T11:04:00"
         },
         {
          "counts": 9,
          "institution": "NYU",
          "rsvp_no": 43,
          "time": "2019-03-25T11:09:00"
         },
         {
          "counts": 10,
          "institution": "NYU",
          "rsvp_no": 44,
          "time": "2019-03-25T11:10:00"
         },
         {
          "counts": 11,
          "institution": "NYU",
          "rsvp_no": 45,
          "time": "2019-03-25T11:11:00"
         },
         {
          "counts": 12,
          "institution": "NYU",
          "rsvp_no": 46,
          "time": "2019-03-25T11:12:00"
         },
         {
          "counts": 5,
          "institution": "Columbia",
          "rsvp_no": 47,
          "time": "2019-03-25T11:14:00"
         },
         {
          "counts": 13,
          "institution": "NYU",
          "rsvp_no": 48,
          "time": "2019-03-25T11:17:00"
         },
         {
          "counts": 14,
          "institution": "NYU",
          "rsvp_no": 49,
          "time": "2019-03-25T11:19:00"
         },
         {
          "counts": 5,
          "institution": "Non-academic Institution",
          "rsvp_no": 50,
          "time": "2019-03-25T11:20:00"
         },
         {
          "counts": 3,
          "institution": "Other",
          "rsvp_no": 51,
          "time": "2019-03-25T11:21:00"
         },
         {
          "counts": 15,
          "institution": "NYU",
          "rsvp_no": 52,
          "time": "2019-03-25T11:24:00"
         },
         {
          "counts": 16,
          "institution": "NYU",
          "rsvp_no": 53,
          "time": "2019-03-25T11:25:00"
         },
         {
          "counts": 17,
          "institution": "NYU",
          "rsvp_no": 54,
          "time": "2019-03-25T11:26:00"
         },
         {
          "counts": 18,
          "institution": "NYU",
          "rsvp_no": 55,
          "time": "2019-03-25T11:29:00"
         },
         {
          "counts": 19,
          "institution": "NYU",
          "rsvp_no": 56,
          "time": "2019-03-25T11:29:00"
         },
         {
          "counts": 20,
          "institution": "NYU",
          "rsvp_no": 57,
          "time": "2019-03-25T11:32:00"
         },
         {
          "counts": 21,
          "institution": "NYU",
          "rsvp_no": 58,
          "time": "2019-03-25T11:32:00"
         },
         {
          "counts": 9,
          "institution": "Mount Sinai",
          "rsvp_no": 59,
          "time": "2019-03-25T11:32:00"
         },
         {
          "counts": 22,
          "institution": "NYU",
          "rsvp_no": 60,
          "time": "2019-03-25T11:39:00"
         },
         {
          "counts": 1,
          "institution": "Weill Cornell",
          "rsvp_no": 61,
          "time": "2019-03-25T11:43:00"
         },
         {
          "counts": 6,
          "institution": "Non-academic Institution",
          "rsvp_no": 62,
          "time": "2019-03-25T11:44:00"
         },
         {
          "counts": 6,
          "institution": "Einstein",
          "rsvp_no": 63,
          "time": "2019-03-25T11:57:00"
         },
         {
          "counts": 7,
          "institution": "Einstein",
          "rsvp_no": 64,
          "time": "2019-03-25T11:57:00"
         },
         {
          "counts": 4,
          "institution": "Other",
          "rsvp_no": 65,
          "time": "2019-03-25T12:05:00"
         },
         {
          "counts": 6,
          "institution": "Columbia",
          "rsvp_no": 66,
          "time": "2019-03-25T12:10:00"
         },
         {
          "counts": 23,
          "institution": "NYU",
          "rsvp_no": 67,
          "time": "2019-03-25T12:11:00"
         },
         {
          "counts": 7,
          "institution": "Columbia",
          "rsvp_no": 68,
          "time": "2019-03-25T12:15:00"
         },
         {
          "counts": 10,
          "institution": "Mount Sinai",
          "rsvp_no": 69,
          "time": "2019-03-25T12:31:00"
         },
         {
          "counts": 7,
          "institution": "Non-academic Institution",
          "rsvp_no": 70,
          "time": "2019-03-25T12:36:00"
         },
         {
          "counts": 11,
          "institution": "Mount Sinai",
          "rsvp_no": 71,
          "time": "2019-03-25T12:41:00"
         },
         {
          "counts": 8,
          "institution": "Non-academic Institution",
          "rsvp_no": 72,
          "time": "2019-03-25T12:43:00"
         },
         {
          "counts": 24,
          "institution": "NYU",
          "rsvp_no": 73,
          "time": "2019-03-25T12:44:00"
         },
         {
          "counts": 25,
          "institution": "NYU",
          "rsvp_no": 74,
          "time": "2019-03-25T12:56:00"
         },
         {
          "counts": 8,
          "institution": "Columbia",
          "rsvp_no": 75,
          "time": "2019-03-25T13:01:00"
         },
         {
          "counts": 11,
          "institution": "CUNY",
          "rsvp_no": 76,
          "time": "2019-03-25T13:03:00"
         },
         {
          "counts": 26,
          "institution": "NYU",
          "rsvp_no": 77,
          "time": "2019-03-25T13:08:00"
         },
         {
          "counts": 27,
          "institution": "NYU",
          "rsvp_no": 78,
          "time": "2019-03-25T13:16:00"
         },
         {
          "counts": 12,
          "institution": "Mount Sinai",
          "rsvp_no": 79,
          "time": "2019-03-25T13:17:00"
         },
         {
          "counts": 28,
          "institution": "NYU",
          "rsvp_no": 80,
          "time": "2019-03-25T13:17:00"
         },
         {
          "counts": 12,
          "institution": "CUNY",
          "rsvp_no": 81,
          "time": "2019-03-25T13:22:00"
         },
         {
          "counts": 13,
          "institution": "Mount Sinai",
          "rsvp_no": 82,
          "time": "2019-03-25T13:52:00"
         },
         {
          "counts": 29,
          "institution": "NYU",
          "rsvp_no": 83,
          "time": "2019-03-25T14:02:00"
         },
         {
          "counts": 2,
          "institution": "Weill Cornell",
          "rsvp_no": 84,
          "time": "2019-03-25T14:07:00"
         },
         {
          "counts": 14,
          "institution": "Mount Sinai",
          "rsvp_no": 85,
          "time": "2019-03-25T14:16:00"
         },
         {
          "counts": 13,
          "institution": "CUNY",
          "rsvp_no": 86,
          "time": "2019-03-25T14:29:00"
         },
         {
          "counts": 30,
          "institution": "NYU",
          "rsvp_no": 87,
          "time": "2019-03-25T14:30:00"
         },
         {
          "counts": 1,
          "institution": "Rutgers",
          "rsvp_no": 88,
          "time": "2019-03-25T14:48:00"
         },
         {
          "counts": 31,
          "institution": "NYU",
          "rsvp_no": 89,
          "time": "2019-03-25T14:50:00"
         },
         {
          "counts": 9,
          "institution": "Columbia",
          "rsvp_no": 90,
          "time": "2019-03-25T14:59:00"
         },
         {
          "counts": 32,
          "institution": "NYU",
          "rsvp_no": 91,
          "time": "2019-03-25T15:00:00"
         },
         {
          "counts": 10,
          "institution": "Columbia",
          "rsvp_no": 92,
          "time": "2019-03-25T15:05:00"
         },
         {
          "counts": 11,
          "institution": "Columbia",
          "rsvp_no": 93,
          "time": "2019-03-25T15:05:00"
         },
         {
          "counts": 12,
          "institution": "Columbia",
          "rsvp_no": 94,
          "time": "2019-03-25T15:06:00"
         },
         {
          "counts": 8,
          "institution": "Einstein",
          "rsvp_no": 95,
          "time": "2019-03-25T15:17:00"
         },
         {
          "counts": 2,
          "institution": "MSKCC",
          "rsvp_no": 96,
          "time": "2019-03-25T15:30:00"
         },
         {
          "counts": 9,
          "institution": "Einstein",
          "rsvp_no": 97,
          "time": "2019-03-25T15:38:00"
         },
         {
          "counts": 33,
          "institution": "NYU",
          "rsvp_no": 98,
          "time": "2019-03-25T15:40:00"
         },
         {
          "counts": 15,
          "institution": "Mount Sinai",
          "rsvp_no": 99,
          "time": "2019-03-25T15:48:00"
         },
         {
          "counts": 13,
          "institution": "Columbia",
          "rsvp_no": 100,
          "time": "2019-03-25T15:57:00"
         },
         {
          "counts": 9,
          "institution": "Non-academic Institution",
          "rsvp_no": 101,
          "time": "2019-03-25T16:00:00"
         },
         {
          "counts": 5,
          "institution": "Other",
          "rsvp_no": 102,
          "time": "2019-03-25T16:16:00"
         },
         {
          "counts": 14,
          "institution": "Columbia",
          "rsvp_no": 103,
          "time": "2019-03-25T16:34:00"
         },
         {
          "counts": 6,
          "institution": "Other",
          "rsvp_no": 104,
          "time": "2019-03-25T16:39:00"
         },
         {
          "counts": 7,
          "institution": "Other",
          "rsvp_no": 105,
          "time": "2019-03-25T16:40:00"
         },
         {
          "counts": 10,
          "institution": "Non-academic Institution",
          "rsvp_no": 106,
          "time": "2019-03-25T16:41:00"
         },
         {
          "counts": 11,
          "institution": "Non-academic Institution",
          "rsvp_no": 107,
          "time": "2019-03-25T16:42:00"
         },
         {
          "counts": 3,
          "institution": "Weill Cornell",
          "rsvp_no": 108,
          "time": "2019-03-25T16:42:00"
         },
         {
          "counts": 8,
          "institution": "Other",
          "rsvp_no": 109,
          "time": "2019-03-25T16:42:00"
         },
         {
          "counts": 15,
          "institution": "Columbia",
          "rsvp_no": 110,
          "time": "2019-03-25T16:45:00"
         },
         {
          "counts": 16,
          "institution": "Columbia",
          "rsvp_no": 111,
          "time": "2019-03-25T16:47:00"
         },
         {
          "counts": 17,
          "institution": "Columbia",
          "rsvp_no": 112,
          "time": "2019-03-25T16:48:00"
         },
         {
          "counts": 12,
          "institution": "Non-academic Institution",
          "rsvp_no": 113,
          "time": "2019-03-25T16:50:00"
         },
         {
          "counts": 13,
          "institution": "Non-academic Institution",
          "rsvp_no": 114,
          "time": "2019-03-25T16:52:00"
         },
         {
          "counts": 34,
          "institution": "NYU",
          "rsvp_no": 115,
          "time": "2019-03-25T16:54:00"
         },
         {
          "counts": 14,
          "institution": "Non-academic Institution",
          "rsvp_no": 116,
          "time": "2019-03-25T16:54:00"
         },
         {
          "counts": 18,
          "institution": "Columbia",
          "rsvp_no": 117,
          "time": "2019-03-25T16:54:00"
         },
         {
          "counts": 19,
          "institution": "Columbia",
          "rsvp_no": 118,
          "time": "2019-03-25T17:03:00"
         },
         {
          "counts": 20,
          "institution": "Columbia",
          "rsvp_no": 119,
          "time": "2019-03-25T17:04:00"
         },
         {
          "counts": 15,
          "institution": "Non-academic Institution",
          "rsvp_no": 120,
          "time": "2019-03-25T17:09:00"
         },
         {
          "counts": 10,
          "institution": "Einstein",
          "rsvp_no": 121,
          "time": "2019-03-25T17:12:00"
         },
         {
          "counts": 14,
          "institution": "CUNY",
          "rsvp_no": 122,
          "time": "2019-03-25T17:12:00"
         },
         {
          "counts": 35,
          "institution": "NYU",
          "rsvp_no": 123,
          "time": "2019-03-25T17:15:00"
         },
         {
          "counts": 9,
          "institution": "Other",
          "rsvp_no": 124,
          "time": "2019-03-25T17:19:00"
         },
         {
          "counts": 21,
          "institution": "Columbia",
          "rsvp_no": 125,
          "time": "2019-03-25T17:23:00"
         },
         {
          "counts": 36,
          "institution": "NYU",
          "rsvp_no": 126,
          "time": "2019-03-25T17:27:00"
         },
         {
          "counts": 16,
          "institution": "Mount Sinai",
          "rsvp_no": 127,
          "time": "2019-03-25T17:33:00"
         },
         {
          "counts": 16,
          "institution": "Non-academic Institution",
          "rsvp_no": 128,
          "time": "2019-03-25T17:48:00"
         },
         {
          "counts": 17,
          "institution": "Non-academic Institution",
          "rsvp_no": 129,
          "time": "2019-03-25T17:50:00"
         },
         {
          "counts": 10,
          "institution": "Other",
          "rsvp_no": 130,
          "time": "2019-03-25T18:00:00"
         },
         {
          "counts": 22,
          "institution": "Columbia",
          "rsvp_no": 131,
          "time": "2019-03-25T18:01:00"
         },
         {
          "counts": 37,
          "institution": "NYU",
          "rsvp_no": 132,
          "time": "2019-03-25T18:02:00"
         },
         {
          "counts": 11,
          "institution": "Other",
          "rsvp_no": 133,
          "time": "2019-03-25T18:08:00"
         },
         {
          "counts": 38,
          "institution": "NYU",
          "rsvp_no": 134,
          "time": "2019-03-25T18:09:00"
         },
         {
          "counts": 23,
          "institution": "Columbia",
          "rsvp_no": 135,
          "time": "2019-03-25T18:11:00"
         },
         {
          "counts": 24,
          "institution": "Columbia",
          "rsvp_no": 136,
          "time": "2019-03-25T18:13:00"
         },
         {
          "counts": 12,
          "institution": "Other",
          "rsvp_no": 137,
          "time": "2019-03-25T18:37:00"
         },
         {
          "counts": 15,
          "institution": "CUNY",
          "rsvp_no": 138,
          "time": "2019-03-25T19:09:00"
         },
         {
          "counts": 2,
          "institution": "Rutgers",
          "rsvp_no": 139,
          "time": "2019-03-25T19:40:00"
         },
         {
          "counts": 18,
          "institution": "Non-academic Institution",
          "rsvp_no": 140,
          "time": "2019-03-25T19:51:00"
         },
         {
          "counts": 19,
          "institution": "Non-academic Institution",
          "rsvp_no": 141,
          "time": "2019-03-25T20:12:00"
         },
         {
          "counts": 39,
          "institution": "NYU",
          "rsvp_no": 142,
          "time": "2019-03-25T20:52:00"
         },
         {
          "counts": 40,
          "institution": "NYU",
          "rsvp_no": 143,
          "time": "2019-03-25T21:09:00"
         },
         {
          "counts": 41,
          "institution": "NYU",
          "rsvp_no": 144,
          "time": "2019-03-25T21:12:00"
         },
         {
          "counts": 25,
          "institution": "Columbia",
          "rsvp_no": 145,
          "time": "2019-03-25T21:14:00"
         },
         {
          "counts": 20,
          "institution": "Non-academic Institution",
          "rsvp_no": 146,
          "time": "2019-03-25T21:42:00"
         },
         {
          "counts": 26,
          "institution": "Columbia",
          "rsvp_no": 147,
          "time": "2019-03-25T21:49:00"
         },
         {
          "counts": 13,
          "institution": "Other",
          "rsvp_no": 148,
          "time": "2019-03-25T22:52:00"
         },
         {
          "counts": 21,
          "institution": "Non-academic Institution",
          "rsvp_no": 149,
          "time": "2019-03-25T23:03:00"
         },
         {
          "counts": 14,
          "institution": "Other",
          "rsvp_no": 150,
          "time": "2019-03-25T23:17:00"
         },
         {
          "counts": 42,
          "institution": "NYU",
          "rsvp_no": 151,
          "time": "2019-03-26T00:00:00"
         },
         {
          "counts": 27,
          "institution": "Columbia",
          "rsvp_no": 152,
          "time": "2019-03-26T04:04:00"
         },
         {
          "counts": 3,
          "institution": "Rutgers",
          "rsvp_no": 153,
          "time": "2019-03-26T04:23:00"
         },
         {
          "counts": 22,
          "institution": "Non-academic Institution",
          "rsvp_no": 154,
          "time": "2019-03-26T05:50:00"
         },
         {
          "counts": 23,
          "institution": "Non-academic Institution",
          "rsvp_no": 155,
          "time": "2019-03-26T05:55:00"
         },
         {
          "counts": 43,
          "institution": "NYU",
          "rsvp_no": 156,
          "time": "2019-03-26T08:15:00"
         },
         {
          "counts": 15,
          "institution": "Other",
          "rsvp_no": 157,
          "time": "2019-03-26T09:14:00"
         },
         {
          "counts": 44,
          "institution": "NYU",
          "rsvp_no": 158,
          "time": "2019-03-26T09:28:00"
         },
         {
          "counts": 45,
          "institution": "NYU",
          "rsvp_no": 159,
          "time": "2019-03-26T09:50:00"
         },
         {
          "counts": 28,
          "institution": "Columbia",
          "rsvp_no": 160,
          "time": "2019-03-26T09:50:00"
         },
         {
          "counts": 11,
          "institution": "Einstein",
          "rsvp_no": 161,
          "time": "2019-03-26T09:59:00"
         },
         {
          "counts": 24,
          "institution": "Non-academic Institution",
          "rsvp_no": 162,
          "time": "2019-03-26T10:01:00"
         },
         {
          "counts": 4,
          "institution": "Weill Cornell",
          "rsvp_no": 163,
          "time": "2019-03-26T10:08:00"
         },
         {
          "counts": 3,
          "institution": "MSKCC",
          "rsvp_no": 164,
          "time": "2019-03-26T10:09:00"
         },
         {
          "counts": 17,
          "institution": "Mount Sinai",
          "rsvp_no": 165,
          "time": "2019-03-26T10:10:00"
         },
         {
          "counts": 16,
          "institution": "Other",
          "rsvp_no": 166,
          "time": "2019-03-26T10:19:00"
         },
         {
          "counts": 4,
          "institution": "MSKCC",
          "rsvp_no": 167,
          "time": "2019-03-26T10:21:00"
         },
         {
          "counts": 5,
          "institution": "MSKCC",
          "rsvp_no": 168,
          "time": "2019-03-26T10:22:00"
         },
         {
          "counts": 6,
          "institution": "MSKCC",
          "rsvp_no": 169,
          "time": "2019-03-26T10:22:00"
         },
         {
          "counts": 7,
          "institution": "MSKCC",
          "rsvp_no": 170,
          "time": "2019-03-26T10:28:00"
         },
         {
          "counts": 5,
          "institution": "Weill Cornell",
          "rsvp_no": 171,
          "time": "2019-03-26T10:31:00"
         },
         {
          "counts": 6,
          "institution": "Weill Cornell",
          "rsvp_no": 172,
          "time": "2019-03-26T10:32:00"
         },
         {
          "counts": 18,
          "institution": "Mount Sinai",
          "rsvp_no": 173,
          "time": "2019-03-26T10:33:00"
         },
         {
          "counts": 7,
          "institution": "Weill Cornell",
          "rsvp_no": 174,
          "time": "2019-03-26T10:34:00"
         },
         {
          "counts": 8,
          "institution": "Weill Cornell",
          "rsvp_no": 175,
          "time": "2019-03-26T10:36:00"
         },
         {
          "counts": 9,
          "institution": "Weill Cornell",
          "rsvp_no": 176,
          "time": "2019-03-26T10:38:00"
         },
         {
          "counts": 10,
          "institution": "Weill Cornell",
          "rsvp_no": 177,
          "time": "2019-03-26T10:38:00"
         },
         {
          "counts": 11,
          "institution": "Weill Cornell",
          "rsvp_no": 178,
          "time": "2019-03-26T10:50:00"
         },
         {
          "counts": 46,
          "institution": "NYU",
          "rsvp_no": 179,
          "time": "2019-03-26T10:50:00"
         },
         {
          "counts": 12,
          "institution": "Weill Cornell",
          "rsvp_no": 180,
          "time": "2019-03-26T10:55:00"
         },
         {
          "counts": 13,
          "institution": "Weill Cornell",
          "rsvp_no": 181,
          "time": "2019-03-26T10:56:00"
         },
         {
          "counts": 14,
          "institution": "Weill Cornell",
          "rsvp_no": 182,
          "time": "2019-03-26T11:04:00"
         },
         {
          "counts": 15,
          "institution": "Weill Cornell",
          "rsvp_no": 183,
          "time": "2019-03-26T11:29:00"
         },
         {
          "counts": 16,
          "institution": "Weill Cornell",
          "rsvp_no": 184,
          "time": "2019-03-26T11:49:00"
         },
         {
          "counts": 17,
          "institution": "Weill Cornell",
          "rsvp_no": 185,
          "time": "2019-03-26T11:59:00"
         },
         {
          "counts": 47,
          "institution": "NYU",
          "rsvp_no": 186,
          "time": "2019-03-26T12:00:00"
         },
         {
          "counts": 18,
          "institution": "Weill Cornell",
          "rsvp_no": 187,
          "time": "2019-03-26T12:06:00"
         },
         {
          "counts": 19,
          "institution": "Weill Cornell",
          "rsvp_no": 188,
          "time": "2019-03-26T12:07:00"
         },
         {
          "counts": 12,
          "institution": "Einstein",
          "rsvp_no": 189,
          "time": "2019-03-26T12:10:00"
         },
         {
          "counts": 20,
          "institution": "Weill Cornell",
          "rsvp_no": 190,
          "time": "2019-03-26T12:21:00"
         },
         {
          "counts": 25,
          "institution": "Non-academic Institution",
          "rsvp_no": 191,
          "time": "2019-03-26T12:25:00"
         },
         {
          "counts": 21,
          "institution": "Weill Cornell",
          "rsvp_no": 192,
          "time": "2019-03-26T12:47:00"
         },
         {
          "counts": 8,
          "institution": "MSKCC",
          "rsvp_no": 193,
          "time": "2019-03-26T12:50:00"
         },
         {
          "counts": 22,
          "institution": "Weill Cornell",
          "rsvp_no": 194,
          "time": "2019-03-26T13:04:00"
         },
         {
          "counts": 9,
          "institution": "MSKCC",
          "rsvp_no": 195,
          "time": "2019-03-26T13:11:00"
         },
         {
          "counts": 23,
          "institution": "Weill Cornell",
          "rsvp_no": 196,
          "time": "2019-03-26T13:18:00"
         },
         {
          "counts": 24,
          "institution": "Weill Cornell",
          "rsvp_no": 197,
          "time": "2019-03-26T13:47:00"
         },
         {
          "counts": 25,
          "institution": "Weill Cornell",
          "rsvp_no": 198,
          "time": "2019-03-26T13:52:00"
         },
         {
          "counts": 17,
          "institution": "Other",
          "rsvp_no": 199,
          "time": "2019-03-26T13:56:00"
         },
         {
          "counts": 26,
          "institution": "Weill Cornell",
          "rsvp_no": 200,
          "time": "2019-03-26T14:45:00"
         },
         {
          "counts": 13,
          "institution": "Einstein",
          "rsvp_no": 201,
          "time": "2019-03-26T14:50:00"
         },
         {
          "counts": 18,
          "institution": "Other",
          "rsvp_no": 202,
          "time": "2019-03-26T15:00:00"
         },
         {
          "counts": 19,
          "institution": "Other",
          "rsvp_no": 203,
          "time": "2019-03-26T15:05:00"
         },
         {
          "counts": 48,
          "institution": "NYU",
          "rsvp_no": 204,
          "time": "2019-03-26T15:08:00"
         },
         {
          "counts": 29,
          "institution": "Columbia",
          "rsvp_no": 205,
          "time": "2019-03-26T15:09:00"
         },
         {
          "counts": 27,
          "institution": "Weill Cornell",
          "rsvp_no": 206,
          "time": "2019-03-26T15:14:00"
         },
         {
          "counts": 28,
          "institution": "Weill Cornell",
          "rsvp_no": 207,
          "time": "2019-03-26T15:42:00"
         },
         {
          "counts": 26,
          "institution": "Non-academic Institution",
          "rsvp_no": 208,
          "time": "2019-03-26T15:44:00"
         },
         {
          "counts": 29,
          "institution": "Weill Cornell",
          "rsvp_no": 209,
          "time": "2019-03-26T15:47:00"
         },
         {
          "counts": 27,
          "institution": "Non-academic Institution",
          "rsvp_no": 210,
          "time": "2019-03-26T15:52:00"
         },
         {
          "counts": 49,
          "institution": "NYU",
          "rsvp_no": 211,
          "time": "2019-03-26T16:01:00"
         },
         {
          "counts": 10,
          "institution": "MSKCC",
          "rsvp_no": 212,
          "time": "2019-03-26T16:32:00"
         },
         {
          "counts": 30,
          "institution": "Weill Cornell",
          "rsvp_no": 213,
          "time": "2019-03-26T16:46:00"
         },
         {
          "counts": 16,
          "institution": "CUNY",
          "rsvp_no": 214,
          "time": "2019-03-26T16:48:00"
         },
         {
          "counts": 19,
          "institution": "Mount Sinai",
          "rsvp_no": 215,
          "time": "2019-03-26T16:57:00"
         },
         {
          "counts": 14,
          "institution": "Einstein",
          "rsvp_no": 216,
          "time": "2019-03-26T17:05:00"
         },
         {
          "counts": 28,
          "institution": "Non-academic Institution",
          "rsvp_no": 217,
          "time": "2019-03-26T17:14:00"
         },
         {
          "counts": 20,
          "institution": "Other",
          "rsvp_no": 218,
          "time": "2019-03-26T17:35:00"
         },
         {
          "counts": 30,
          "institution": "Columbia",
          "rsvp_no": 219,
          "time": "2019-03-26T18:20:00"
         },
         {
          "counts": 31,
          "institution": "Columbia",
          "rsvp_no": 220,
          "time": "2019-03-26T18:26:00"
         },
         {
          "counts": 29,
          "institution": "Non-academic Institution",
          "rsvp_no": 221,
          "time": "2019-03-26T18:29:00"
         },
         {
          "counts": 11,
          "institution": "MSKCC",
          "rsvp_no": 222,
          "time": "2019-03-26T21:49:00"
         },
         {
          "counts": 12,
          "institution": "MSKCC",
          "rsvp_no": 223,
          "time": "2019-03-26T21:56:00"
         },
         {
          "counts": 21,
          "institution": "Other",
          "rsvp_no": 224,
          "time": "2019-03-26T22:45:00"
         },
         {
          "counts": 32,
          "institution": "Columbia",
          "rsvp_no": 225,
          "time": "2019-03-26T22:52:00"
         },
         {
          "counts": 50,
          "institution": "NYU",
          "rsvp_no": 226,
          "time": "2019-03-26T22:56:00"
         },
         {
          "counts": 30,
          "institution": "Non-academic Institution",
          "rsvp_no": 227,
          "time": "2019-03-27T04:20:00"
         },
         {
          "counts": 51,
          "institution": "NYU",
          "rsvp_no": 228,
          "time": "2019-03-27T08:47:00"
         },
         {
          "counts": 22,
          "institution": "Other",
          "rsvp_no": 229,
          "time": "2019-03-27T09:43:00"
         },
         {
          "counts": 33,
          "institution": "Columbia",
          "rsvp_no": 230,
          "time": "2019-03-27T10:00:00"
         },
         {
          "counts": 52,
          "institution": "NYU",
          "rsvp_no": 231,
          "time": "2019-03-27T10:05:00"
         },
         {
          "counts": 23,
          "institution": "Other",
          "rsvp_no": 232,
          "time": "2019-03-27T11:00:00"
         },
         {
          "counts": 31,
          "institution": "Weill Cornell",
          "rsvp_no": 233,
          "time": "2019-03-27T11:14:00"
         },
         {
          "counts": 53,
          "institution": "NYU",
          "rsvp_no": 234,
          "time": "2019-03-27T11:17:00"
         },
         {
          "counts": 54,
          "institution": "NYU",
          "rsvp_no": 235,
          "time": "2019-03-27T12:08:00"
         },
         {
          "counts": 34,
          "institution": "Columbia",
          "rsvp_no": 236,
          "time": "2019-03-27T13:03:00"
         },
         {
          "counts": 31,
          "institution": "Non-academic Institution",
          "rsvp_no": 237,
          "time": "2019-03-27T13:08:00"
         },
         {
          "counts": 55,
          "institution": "NYU",
          "rsvp_no": 238,
          "time": "2019-03-27T13:16:00"
         },
         {
          "counts": 56,
          "institution": "NYU",
          "rsvp_no": 239,
          "time": "2019-03-27T13:30:00"
         },
         {
          "counts": 32,
          "institution": "Non-academic Institution",
          "rsvp_no": 240,
          "time": "2019-03-27T13:39:00"
         },
         {
          "counts": 15,
          "institution": "Einstein",
          "rsvp_no": 241,
          "time": "2019-03-27T13:49:00"
         },
         {
          "counts": 13,
          "institution": "MSKCC",
          "rsvp_no": 242,
          "time": "2019-03-27T14:35:00"
         },
         {
          "counts": 24,
          "institution": "Other",
          "rsvp_no": 243,
          "time": "2019-03-27T14:43:00"
         },
         {
          "counts": 33,
          "institution": "Non-academic Institution",
          "rsvp_no": 244,
          "time": "2019-03-27T14:45:00"
         },
         {
          "counts": 25,
          "institution": "Other",
          "rsvp_no": 245,
          "time": "2019-03-27T15:12:00"
         },
         {
          "counts": 32,
          "institution": "Weill Cornell",
          "rsvp_no": 246,
          "time": "2019-03-27T15:26:00"
         },
         {
          "counts": 16,
          "institution": "Einstein",
          "rsvp_no": 247,
          "time": "2019-03-27T16:11:00"
         },
         {
          "counts": 17,
          "institution": "CUNY",
          "rsvp_no": 248,
          "time": "2019-03-27T18:22:00"
         },
         {
          "counts": 35,
          "institution": "Columbia",
          "rsvp_no": 249,
          "time": "2019-03-27T19:58:00"
         },
         {
          "counts": 33,
          "institution": "Weill Cornell",
          "rsvp_no": 250,
          "time": "2019-03-27T20:46:00"
         },
         {
          "counts": 26,
          "institution": "Other",
          "rsvp_no": 252,
          "time": "2019-03-27T21:04:00"
         },
         {
          "counts": 34,
          "institution": "Non-academic Institution",
          "rsvp_no": 253,
          "time": "2019-03-27T21:05:00"
         },
         {
          "counts": 35,
          "institution": "Non-academic Institution",
          "rsvp_no": 254,
          "time": "2019-03-27T22:36:00"
         },
         {
          "counts": 34,
          "institution": "Weill Cornell",
          "rsvp_no": 255,
          "time": "2019-03-28T09:26:00"
         },
         {
          "counts": 18,
          "institution": "CUNY",
          "rsvp_no": 256,
          "time": "2019-03-28T09:31:00"
         },
         {
          "counts": 36,
          "institution": "Non-academic Institution",
          "rsvp_no": 257,
          "time": "2019-03-28T09:43:00"
         },
         {
          "counts": 37,
          "institution": "Non-academic Institution",
          "rsvp_no": 258,
          "time": "2019-03-28T09:48:00"
         },
         {
          "counts": 38,
          "institution": "Non-academic Institution",
          "rsvp_no": 259,
          "time": "2019-03-28T10:08:00"
         },
         {
          "counts": 36,
          "institution": "Columbia",
          "rsvp_no": 260,
          "time": "2019-03-28T10:13:00"
         },
         {
          "counts": 57,
          "institution": "NYU",
          "rsvp_no": 261,
          "time": "2019-03-28T10:16:00"
         },
         {
          "counts": 58,
          "institution": "NYU",
          "rsvp_no": 262,
          "time": "2019-03-28T10:29:00"
         },
         {
          "counts": 4,
          "institution": "Rutgers",
          "rsvp_no": 263,
          "time": "2019-03-28T10:34:00"
         },
         {
          "counts": 39,
          "institution": "Non-academic Institution",
          "rsvp_no": 264,
          "time": "2019-03-28T10:42:00"
         },
         {
          "counts": 1,
          "institution": "Rockefeller",
          "rsvp_no": 265,
          "time": "2019-03-28T10:51:00"
         },
         {
          "counts": 40,
          "institution": "Non-academic Institution",
          "rsvp_no": 266,
          "time": "2019-03-28T11:59:00"
         },
         {
          "counts": 41,
          "institution": "Non-academic Institution",
          "rsvp_no": 267,
          "time": "2019-03-28T13:13:00"
         },
         {
          "counts": 27,
          "institution": "Other",
          "rsvp_no": 268,
          "time": "2019-03-28T15:48:00"
         },
         {
          "counts": 20,
          "institution": "Mount Sinai",
          "rsvp_no": 269,
          "time": "2019-03-28T15:49:00"
         },
         {
          "counts": 21,
          "institution": "Mount Sinai",
          "rsvp_no": 270,
          "time": "2019-03-28T16:02:00"
         },
         {
          "counts": 5,
          "institution": "Rutgers",
          "rsvp_no": 271,
          "time": "2019-03-28T16:03:00"
         },
         {
          "counts": 42,
          "institution": "Non-academic Institution",
          "rsvp_no": 272,
          "time": "2019-03-28T16:09:00"
         },
         {
          "counts": 43,
          "institution": "Non-academic Institution",
          "rsvp_no": 273,
          "time": "2019-03-28T16:10:00"
         },
         {
          "counts": 59,
          "institution": "NYU",
          "rsvp_no": 274,
          "time": "2019-03-28T16:47:00"
         },
         {
          "counts": 37,
          "institution": "Columbia",
          "rsvp_no": 275,
          "time": "2019-03-29T01:02:00"
         },
         {
          "counts": 44,
          "institution": "Non-academic Institution",
          "rsvp_no": 276,
          "time": "2019-03-29T09:18:00"
         },
         {
          "counts": 45,
          "institution": "Non-academic Institution",
          "rsvp_no": 277,
          "time": "2019-03-29T09:22:00"
         },
         {
          "counts": 46,
          "institution": "Non-academic Institution",
          "rsvp_no": 278,
          "time": "2019-03-29T11:21:00"
         },
         {
          "counts": 60,
          "institution": "NYU",
          "rsvp_no": 279,
          "time": "2019-03-29T12:11:00"
         },
         {
          "counts": 28,
          "institution": "Other",
          "rsvp_no": 280,
          "time": "2019-03-29T12:18:00"
         },
         {
          "counts": 38,
          "institution": "Columbia",
          "rsvp_no": 281,
          "time": "2019-03-29T13:43:00"
         },
         {
          "counts": 35,
          "institution": "Weill Cornell",
          "rsvp_no": 282,
          "time": "2019-03-29T14:08:00"
         },
         {
          "counts": 29,
          "institution": "Other",
          "rsvp_no": 283,
          "time": "2019-03-29T16:34:00"
         },
         {
          "counts": 30,
          "institution": "Other",
          "rsvp_no": 284,
          "time": "2019-03-29T16:48:00"
         },
         {
          "counts": 31,
          "institution": "Other",
          "rsvp_no": 285,
          "time": "2019-03-29T18:26:00"
         },
         {
          "counts": 61,
          "institution": "NYU",
          "rsvp_no": 286,
          "time": "2019-03-29T19:14:00"
         },
         {
          "counts": 17,
          "institution": "Einstein",
          "rsvp_no": 287,
          "time": "2019-03-29T20:30:00"
         },
         {
          "counts": 6,
          "institution": "Rutgers",
          "rsvp_no": 288,
          "time": "2019-03-30T18:01:00"
         },
         {
          "counts": 39,
          "institution": "Columbia",
          "rsvp_no": 289,
          "time": "2019-03-30T23:00:00"
         },
         {
          "counts": 19,
          "institution": "CUNY",
          "rsvp_no": 290,
          "time": "2019-03-30T23:03:00"
         },
         {
          "counts": 47,
          "institution": "Non-academic Institution",
          "rsvp_no": 291,
          "time": "2019-03-31T06:06:00"
         },
         {
          "counts": 36,
          "institution": "Weill Cornell",
          "rsvp_no": 292,
          "time": "2019-03-31T14:19:00"
         },
         {
          "counts": 48,
          "institution": "Non-academic Institution",
          "rsvp_no": 293,
          "time": "2019-04-01T09:20:00"
         },
         {
          "counts": 62,
          "institution": "NYU",
          "rsvp_no": 294,
          "time": "2019-04-01T09:41:00"
         },
         {
          "counts": 63,
          "institution": "NYU",
          "rsvp_no": 295,
          "time": "2019-04-01T09:46:00"
         },
         {
          "counts": 64,
          "institution": "NYU",
          "rsvp_no": 296,
          "time": "2019-04-01T09:54:00"
         },
         {
          "counts": 65,
          "institution": "NYU",
          "rsvp_no": 297,
          "time": "2019-04-01T10:15:00"
         },
         {
          "counts": 66,
          "institution": "NYU",
          "rsvp_no": 298,
          "time": "2019-04-01T10:18:00"
         },
         {
          "counts": 49,
          "institution": "Non-academic Institution",
          "rsvp_no": 299,
          "time": "2019-04-01T10:26:00"
         },
         {
          "counts": 67,
          "institution": "NYU",
          "rsvp_no": 300,
          "time": "2019-04-01T11:03:00"
         },
         {
          "counts": 22,
          "institution": "Mount Sinai",
          "rsvp_no": 301,
          "time": "2019-04-01T11:36:00"
         },
         {
          "counts": 68,
          "institution": "NYU",
          "rsvp_no": 302,
          "time": "2019-04-01T12:02:00"
         },
         {
          "counts": 69,
          "institution": "NYU",
          "rsvp_no": 303,
          "time": "2019-04-01T12:27:00"
         },
         {
          "counts": 70,
          "institution": "NYU",
          "rsvp_no": 304,
          "time": "2019-04-01T12:31:00"
         },
         {
          "counts": 71,
          "institution": "NYU",
          "rsvp_no": 305,
          "time": "2019-04-01T12:52:00"
         },
         {
          "counts": 40,
          "institution": "Columbia",
          "rsvp_no": 306,
          "time": "2019-04-01T13:25:00"
         },
         {
          "counts": 72,
          "institution": "NYU",
          "rsvp_no": 307,
          "time": "2019-04-01T14:15:00"
         },
         {
          "counts": 73,
          "institution": "NYU",
          "rsvp_no": 308,
          "time": "2019-04-01T14:40:00"
         },
         {
          "counts": 20,
          "institution": "CUNY",
          "rsvp_no": 309,
          "time": "2019-04-01T14:53:00"
         },
         {
          "counts": 41,
          "institution": "Columbia",
          "rsvp_no": 310,
          "time": "2019-04-01T15:08:00"
         },
         {
          "counts": 18,
          "institution": "Einstein",
          "rsvp_no": 311,
          "time": "2019-04-01T17:20:00"
         },
         {
          "counts": 42,
          "institution": "Columbia",
          "rsvp_no": 312,
          "time": "2019-04-01T17:21:00"
         },
         {
          "counts": 43,
          "institution": "Columbia",
          "rsvp_no": 313,
          "time": "2019-04-01T17:23:00"
         },
         {
          "counts": 7,
          "institution": "Rutgers",
          "rsvp_no": 314,
          "time": "2019-04-01T18:27:00"
         },
         {
          "counts": 8,
          "institution": "Rutgers",
          "rsvp_no": 315,
          "time": "2019-04-01T19:09:00"
         },
         {
          "counts": 9,
          "institution": "Rutgers",
          "rsvp_no": 316,
          "time": "2019-04-01T19:59:00"
         },
         {
          "counts": 32,
          "institution": "Other",
          "rsvp_no": 317,
          "time": "2019-04-02T01:07:00"
         },
         {
          "counts": 23,
          "institution": "Mount Sinai",
          "rsvp_no": 318,
          "time": "2019-04-02T08:54:00"
         },
         {
          "counts": 10,
          "institution": "Rutgers",
          "rsvp_no": 319,
          "time": "2019-04-02T09:05:00"
         },
         {
          "counts": 24,
          "institution": "Mount Sinai",
          "rsvp_no": 320,
          "time": "2019-04-02T09:07:00"
         },
         {
          "counts": 74,
          "institution": "NYU",
          "rsvp_no": 321,
          "time": "2019-04-02T09:07:00"
         },
         {
          "counts": 2,
          "institution": "Rockefeller",
          "rsvp_no": 322,
          "time": "2019-04-02T09:08:00"
         },
         {
          "counts": 21,
          "institution": "CUNY",
          "rsvp_no": 323,
          "time": "2019-04-02T09:09:00"
         },
         {
          "counts": 14,
          "institution": "MSKCC",
          "rsvp_no": 324,
          "time": "2019-04-02T09:44:00"
         },
         {
          "counts": 33,
          "institution": "Other",
          "rsvp_no": 325,
          "time": "2019-04-02T09:48:00"
         },
         {
          "counts": 25,
          "institution": "Mount Sinai",
          "rsvp_no": 326,
          "time": "2019-04-02T09:53:00"
         },
         {
          "counts": 26,
          "institution": "Mount Sinai",
          "rsvp_no": 327,
          "time": "2019-04-02T09:54:00"
         },
         {
          "counts": 34,
          "institution": "Other",
          "rsvp_no": 328,
          "time": "2019-04-02T10:01:00"
         },
         {
          "counts": 75,
          "institution": "NYU",
          "rsvp_no": 329,
          "time": "2019-04-02T10:08:00"
         },
         {
          "counts": 19,
          "institution": "Einstein",
          "rsvp_no": 330,
          "time": "2019-04-02T10:15:00"
         },
         {
          "counts": 20,
          "institution": "Einstein",
          "rsvp_no": 331,
          "time": "2019-04-02T10:17:00"
         },
         {
          "counts": 21,
          "institution": "Einstein",
          "rsvp_no": 332,
          "time": "2019-04-02T10:26:00"
         },
         {
          "counts": 22,
          "institution": "CUNY",
          "rsvp_no": 333,
          "time": "2019-04-02T10:30:00"
         },
         {
          "counts": 27,
          "institution": "Mount Sinai",
          "rsvp_no": 334,
          "time": "2019-04-02T10:59:00"
         },
         {
          "counts": 22,
          "institution": "Einstein",
          "rsvp_no": 335,
          "time": "2019-04-02T11:16:00"
         },
         {
          "counts": 44,
          "institution": "Columbia",
          "rsvp_no": 336,
          "time": "2019-04-02T11:22:00"
         },
         {
          "counts": 76,
          "institution": "NYU",
          "rsvp_no": 340,
          "time": "2019-04-02T11:42:00"
         },
         {
          "counts": 23,
          "institution": "CUNY",
          "rsvp_no": 341,
          "time": "2019-04-02T12:45:00"
         },
         {
          "counts": 28,
          "institution": "Mount Sinai",
          "rsvp_no": 342,
          "time": "2019-04-02T12:47:00"
         },
         {
          "counts": 35,
          "institution": "Other",
          "rsvp_no": 343,
          "time": "2019-04-02T13:12:00"
         },
         {
          "counts": 15,
          "institution": "MSKCC",
          "rsvp_no": 344,
          "time": "2019-04-02T14:12:00"
         },
         {
          "counts": 77,
          "institution": "NYU",
          "rsvp_no": 345,
          "time": "2019-04-02T14:48:00"
         },
         {
          "counts": 78,
          "institution": "NYU",
          "rsvp_no": 346,
          "time": "2019-04-02T14:50:00"
         },
         {
          "counts": 79,
          "institution": "NYU",
          "rsvp_no": 347,
          "time": "2019-04-02T15:04:00"
         },
         {
          "counts": 29,
          "institution": "Mount Sinai",
          "rsvp_no": 348,
          "time": "2019-04-02T15:27:00"
         },
         {
          "counts": 80,
          "institution": "NYU",
          "rsvp_no": 349,
          "time": "2019-04-02T17:01:00"
         },
         {
          "counts": 50,
          "institution": "Non-academic Institution",
          "rsvp_no": 350,
          "time": "2019-04-02T17:23:00"
         },
         {
          "counts": 30,
          "institution": "Mount Sinai",
          "rsvp_no": 351,
          "time": "2019-04-02T18:41:00"
         },
         {
          "counts": 31,
          "institution": "Mount Sinai",
          "rsvp_no": 352,
          "time": "2019-04-02T19:24:00"
         },
         {
          "counts": 45,
          "institution": "Columbia",
          "rsvp_no": 353,
          "time": "2019-04-02T19:39:00"
         },
         {
          "counts": 32,
          "institution": "Mount Sinai",
          "rsvp_no": 354,
          "time": "2019-04-02T20:29:00"
         },
         {
          "counts": 36,
          "institution": "Other",
          "rsvp_no": 355,
          "time": "2019-04-02T22:36:00"
         },
         {
          "counts": 46,
          "institution": "Columbia",
          "rsvp_no": 356,
          "time": "2019-04-02T23:44:00"
         },
         {
          "counts": 11,
          "institution": "Rutgers",
          "rsvp_no": 357,
          "time": "2019-04-03T00:12:00"
         },
         {
          "counts": 37,
          "institution": "Other",
          "rsvp_no": 358,
          "time": "2019-04-03T00:14:00"
         },
         {
          "counts": 38,
          "institution": "Other",
          "rsvp_no": 359,
          "time": "2019-04-03T00:27:00"
         },
         {
          "counts": 37,
          "institution": "Weill Cornell",
          "rsvp_no": 360,
          "time": "2019-04-03T09:01:00"
         },
         {
          "counts": 81,
          "institution": "NYU",
          "rsvp_no": 361,
          "time": "2019-04-03T09:50:00"
         },
         {
          "counts": 33,
          "institution": "Mount Sinai",
          "rsvp_no": 362,
          "time": "2019-04-03T10:09:00"
         },
         {
          "counts": 51,
          "institution": "Non-academic Institution",
          "rsvp_no": 363,
          "time": "2019-04-03T10:12:00"
         },
         {
          "counts": 34,
          "institution": "Mount Sinai",
          "rsvp_no": 364,
          "time": "2019-04-03T10:23:00"
         },
         {
          "counts": 35,
          "institution": "Mount Sinai",
          "rsvp_no": 365,
          "time": "2019-04-03T10:29:00"
         },
         {
          "counts": 36,
          "institution": "Mount Sinai",
          "rsvp_no": 366,
          "time": "2019-04-03T10:32:00"
         },
         {
          "counts": 82,
          "institution": "NYU",
          "rsvp_no": 367,
          "time": "2019-04-03T10:35:00"
         },
         {
          "counts": 37,
          "institution": "Mount Sinai",
          "rsvp_no": 368,
          "time": "2019-04-03T10:38:00"
         },
         {
          "counts": 38,
          "institution": "Mount Sinai",
          "rsvp_no": 369,
          "time": "2019-04-03T10:58:00"
         },
         {
          "counts": 83,
          "institution": "NYU",
          "rsvp_no": 370,
          "time": "2019-04-03T11:11:00"
         },
         {
          "counts": 39,
          "institution": "Mount Sinai",
          "rsvp_no": 371,
          "time": "2019-04-03T11:14:00"
         },
         {
          "counts": 84,
          "institution": "NYU",
          "rsvp_no": 372,
          "time": "2019-04-03T11:17:00"
         },
         {
          "counts": 39,
          "institution": "Other",
          "rsvp_no": 373,
          "time": "2019-04-03T11:47:00"
         },
         {
          "counts": 40,
          "institution": "Mount Sinai",
          "rsvp_no": 374,
          "time": "2019-04-03T11:53:00"
         },
         {
          "counts": 41,
          "institution": "Mount Sinai",
          "rsvp_no": 375,
          "time": "2019-04-03T12:09:00"
         },
         {
          "counts": 40,
          "institution": "Other",
          "rsvp_no": 376,
          "time": "2019-04-03T12:15:00"
         },
         {
          "counts": 85,
          "institution": "NYU",
          "rsvp_no": 377,
          "time": "2019-04-03T12:23:00"
         },
         {
          "counts": 24,
          "institution": "CUNY",
          "rsvp_no": 378,
          "time": "2019-04-03T12:28:00"
         },
         {
          "counts": 52,
          "institution": "Non-academic Institution",
          "rsvp_no": 379,
          "time": "2019-04-03T12:53:00"
         },
         {
          "counts": 86,
          "institution": "NYU",
          "rsvp_no": 380,
          "time": "2019-04-03T13:08:00"
         },
         {
          "counts": 42,
          "institution": "Mount Sinai",
          "rsvp_no": 381,
          "time": "2019-04-03T13:22:00"
         },
         {
          "counts": 87,
          "institution": "NYU",
          "rsvp_no": 382,
          "time": "2019-04-03T13:33:00"
         },
         {
          "counts": 88,
          "institution": "NYU",
          "rsvp_no": 383,
          "time": "2019-04-03T14:34:00"
         },
         {
          "counts": 43,
          "institution": "Mount Sinai",
          "rsvp_no": 384,
          "time": "2019-04-03T15:04:00"
         },
         {
          "counts": 23,
          "institution": "Einstein",
          "rsvp_no": 385,
          "time": "2019-04-03T15:12:00"
         },
         {
          "counts": 38,
          "institution": "Weill Cornell",
          "rsvp_no": 386,
          "time": "2019-04-03T15:23:00"
         },
         {
          "counts": 39,
          "institution": "Weill Cornell",
          "rsvp_no": 387,
          "time": "2019-04-03T15:32:00"
         },
         {
          "counts": 24,
          "institution": "Einstein",
          "rsvp_no": 388,
          "time": "2019-04-03T16:57:00"
         },
         {
          "counts": 89,
          "institution": "NYU",
          "rsvp_no": 389,
          "time": "2019-04-03T21:30:00"
         },
         {
          "counts": 90,
          "institution": "NYU",
          "rsvp_no": 390,
          "time": "2019-04-03T21:37:00"
         },
         {
          "counts": 91,
          "institution": "NYU",
          "rsvp_no": 391,
          "time": "2019-04-04T09:39:00"
         },
         {
          "counts": 53,
          "institution": "Non-academic Institution",
          "rsvp_no": 392,
          "time": "2019-04-04T12:05:00"
         },
         {
          "counts": 25,
          "institution": "Einstein",
          "rsvp_no": 393,
          "time": "2019-04-04T16:07:00"
         },
         {
          "counts": 47,
          "institution": "Columbia",
          "rsvp_no": 394,
          "time": "2019-04-04T18:51:00"
         },
         {
          "counts": 48,
          "institution": "Columbia",
          "rsvp_no": 395,
          "time": "2019-04-04T19:01:00"
         },
         {
          "counts": 49,
          "institution": "Columbia",
          "rsvp_no": 396,
          "time": "2019-04-04T19:03:00"
         },
         {
          "counts": 54,
          "institution": "Non-academic Institution",
          "rsvp_no": 397,
          "time": "2019-04-04T21:20:00"
         },
         {
          "counts": 50,
          "institution": "Columbia",
          "rsvp_no": 398,
          "time": "2019-04-04T23:21:00"
         },
         {
          "counts": 44,
          "institution": "Mount Sinai",
          "rsvp_no": 399,
          "time": "2019-04-05T07:49:00"
         },
         {
          "counts": 45,
          "institution": "Mount Sinai",
          "rsvp_no": 400,
          "time": "2019-04-05T09:53:00"
         },
         {
          "counts": 92,
          "institution": "NYU",
          "rsvp_no": 401,
          "time": "2019-04-05T11:36:00"
         },
         {
          "counts": 25,
          "institution": "CUNY",
          "rsvp_no": 402,
          "time": "2019-04-05T13:50:00"
         },
         {
          "counts": 46,
          "institution": "Mount Sinai",
          "rsvp_no": 403,
          "time": "2019-04-05T19:24:00"
         },
         {
          "counts": 41,
          "institution": "Other",
          "rsvp_no": 405,
          "time": "2019-04-06T14:09:00"
         },
         {
          "counts": 42,
          "institution": "Other",
          "rsvp_no": 406,
          "time": "2019-04-06T18:26:00"
         },
         {
          "counts": 93,
          "institution": "NYU",
          "rsvp_no": 407,
          "time": "2019-04-07T14:05:00"
         },
         {
          "counts": 55,
          "institution": "Non-academic Institution",
          "rsvp_no": 408,
          "time": "2019-04-07T19:16:00"
         },
         {
          "counts": 43,
          "institution": "Other",
          "rsvp_no": 409,
          "time": "2019-04-07T23:27:00"
         },
         {
          "counts": 94,
          "institution": "NYU",
          "rsvp_no": 410,
          "time": "2019-04-08T10:21:00"
         },
         {
          "counts": 56,
          "institution": "Non-academic Institution",
          "rsvp_no": 411,
          "time": "2019-04-08T11:49:00"
         },
         {
          "counts": 26,
          "institution": "CUNY",
          "rsvp_no": 412,
          "time": "2019-04-08T16:31:00"
         },
         {
          "counts": 51,
          "institution": "Columbia",
          "rsvp_no": 413,
          "time": "2019-04-08T19:37:00"
         },
         {
          "counts": 52,
          "institution": "Columbia",
          "rsvp_no": 414,
          "time": "2019-04-08T19:39:00"
         },
         {
          "counts": 44,
          "institution": "Other",
          "rsvp_no": 415,
          "time": "2019-04-08T23:40:00"
         },
         {
          "counts": 57,
          "institution": "Non-academic Institution",
          "rsvp_no": 416,
          "time": "2019-04-09T09:26:00"
         },
         {
          "counts": 27,
          "institution": "CUNY",
          "rsvp_no": 417,
          "time": "2019-04-09T09:48:00"
         },
         {
          "counts": 47,
          "institution": "Mount Sinai",
          "rsvp_no": 418,
          "time": "2019-04-09T09:57:00"
         },
         {
          "counts": 28,
          "institution": "CUNY",
          "rsvp_no": 419,
          "time": "2019-04-09T09:58:00"
         },
         {
          "counts": 95,
          "institution": "NYU",
          "rsvp_no": 420,
          "time": "2019-04-09T10:06:00"
         },
         {
          "counts": 45,
          "institution": "Other",
          "rsvp_no": 421,
          "time": "2019-04-09T10:10:00"
         },
         {
          "counts": 53,
          "institution": "Columbia",
          "rsvp_no": 422,
          "time": "2019-04-09T10:15:00"
         },
         {
          "counts": 58,
          "institution": "Non-academic Institution",
          "rsvp_no": 423,
          "time": "2019-04-09T10:33:00"
         },
         {
          "counts": 96,
          "institution": "NYU",
          "rsvp_no": 424,
          "time": "2019-04-09T10:44:00"
         },
         {
          "counts": 48,
          "institution": "Mount Sinai",
          "rsvp_no": 425,
          "time": "2019-04-09T10:53:00"
         },
         {
          "counts": 54,
          "institution": "Columbia",
          "rsvp_no": 426,
          "time": "2019-04-09T10:53:00"
         },
         {
          "counts": 26,
          "institution": "Einstein",
          "rsvp_no": 427,
          "time": "2019-04-09T11:06:00"
         },
         {
          "counts": 12,
          "institution": "Rutgers",
          "rsvp_no": 428,
          "time": "2019-04-09T11:27:00"
         },
         {
          "counts": 46,
          "institution": "Other",
          "rsvp_no": 430,
          "time": "2019-04-09T11:30:00"
         },
         {
          "counts": 55,
          "institution": "Columbia",
          "rsvp_no": 431,
          "time": "2019-04-09T11:42:00"
         },
         {
          "counts": 97,
          "institution": "NYU",
          "rsvp_no": 432,
          "time": "2019-04-09T13:44:00"
         },
         {
          "counts": 56,
          "institution": "Columbia",
          "rsvp_no": 433,
          "time": "2019-04-09T13:46:00"
         },
         {
          "counts": 27,
          "institution": "Einstein",
          "rsvp_no": 434,
          "time": "2019-04-09T13:58:00"
         },
         {
          "counts": 40,
          "institution": "Weill Cornell",
          "rsvp_no": 435,
          "time": "2019-04-09T14:06:00"
         },
         {
          "counts": 47,
          "institution": "Other",
          "rsvp_no": 436,
          "time": "2019-04-09T14:51:00"
         },
         {
          "counts": 57,
          "institution": "Columbia",
          "rsvp_no": 437,
          "time": "2019-04-09T15:34:00"
         },
         {
          "counts": 28,
          "institution": "Einstein",
          "rsvp_no": 438,
          "time": "2019-04-09T15:49:00"
         },
         {
          "counts": 98,
          "institution": "NYU",
          "rsvp_no": 439,
          "time": "2019-04-09T16:11:00"
         },
         {
          "counts": 29,
          "institution": "Einstein",
          "rsvp_no": 440,
          "time": "2019-04-09T16:13:00"
         },
         {
          "counts": 99,
          "institution": "NYU",
          "rsvp_no": 441,
          "time": "2019-04-09T16:17:00"
         },
         {
          "counts": 48,
          "institution": "Other",
          "rsvp_no": 442,
          "time": "2019-04-09T16:22:00"
         },
         {
          "counts": 29,
          "institution": "CUNY",
          "rsvp_no": 443,
          "time": "2019-04-09T17:35:00"
         },
         {
          "counts": 49,
          "institution": "Other",
          "rsvp_no": 444,
          "time": "2019-04-09T18:40:00"
         },
         {
          "counts": 100,
          "institution": "NYU",
          "rsvp_no": 445,
          "time": "2019-04-09T21:44:00"
         },
         {
          "counts": 59,
          "institution": "Non-academic Institution",
          "rsvp_no": 446,
          "time": "2019-04-10T09:43:00"
         },
         {
          "counts": 30,
          "institution": "Einstein",
          "rsvp_no": 447,
          "time": "2019-04-10T10:18:00"
         },
         {
          "counts": 101,
          "institution": "NYU",
          "rsvp_no": 448,
          "time": "2019-04-10T11:06:00"
         },
         {
          "counts": 102,
          "institution": "NYU",
          "rsvp_no": 449,
          "time": "2019-04-10T12:08:00"
         },
         {
          "counts": 103,
          "institution": "NYU",
          "rsvp_no": 450,
          "time": "2019-04-10T12:12:00"
         },
         {
          "counts": 104,
          "institution": "NYU",
          "rsvp_no": 451,
          "time": "2019-04-10T12:12:00"
         },
         {
          "counts": 105,
          "institution": "NYU",
          "rsvp_no": 452,
          "time": "2019-04-10T12:15:00"
         },
         {
          "counts": 106,
          "institution": "NYU",
          "rsvp_no": 453,
          "time": "2019-04-10T12:23:00"
         },
         {
          "counts": 107,
          "institution": "NYU",
          "rsvp_no": 454,
          "time": "2019-04-10T12:38:00"
         },
         {
          "counts": 108,
          "institution": "NYU",
          "rsvp_no": 455,
          "time": "2019-04-10T12:51:00"
         },
         {
          "counts": 109,
          "institution": "NYU",
          "rsvp_no": 456,
          "time": "2019-04-10T12:57:00"
         },
         {
          "counts": 110,
          "institution": "NYU",
          "rsvp_no": 457,
          "time": "2019-04-10T13:01:00"
         },
         {
          "counts": 111,
          "institution": "NYU",
          "rsvp_no": 458,
          "time": "2019-04-10T13:04:00"
         },
         {
          "counts": 112,
          "institution": "NYU",
          "rsvp_no": 459,
          "time": "2019-04-10T13:09:00"
         },
         {
          "counts": 113,
          "institution": "NYU",
          "rsvp_no": 460,
          "time": "2019-04-10T13:10:00"
         },
         {
          "counts": 114,
          "institution": "NYU",
          "rsvp_no": 461,
          "time": "2019-04-10T13:17:00"
         },
         {
          "counts": 115,
          "institution": "NYU",
          "rsvp_no": 462,
          "time": "2019-04-10T13:32:00"
         },
         {
          "counts": 31,
          "institution": "Einstein",
          "rsvp_no": 463,
          "time": "2019-04-10T13:38:00"
         },
         {
          "counts": 116,
          "institution": "NYU",
          "rsvp_no": 464,
          "time": "2019-04-10T13:52:00"
         },
         {
          "counts": 16,
          "institution": "MSKCC",
          "rsvp_no": 465,
          "time": "2019-04-10T14:05:00"
         },
         {
          "counts": 117,
          "institution": "NYU",
          "rsvp_no": 466,
          "time": "2019-04-10T14:20:00"
         },
         {
          "counts": 118,
          "institution": "NYU",
          "rsvp_no": 467,
          "time": "2019-04-10T14:33:00"
         },
         {
          "counts": 32,
          "institution": "Einstein",
          "rsvp_no": 468,
          "time": "2019-04-10T15:05:00"
         },
         {
          "counts": 119,
          "institution": "NYU",
          "rsvp_no": 469,
          "time": "2019-04-10T15:16:00"
         },
         {
          "counts": 120,
          "institution": "NYU",
          "rsvp_no": 470,
          "time": "2019-04-10T15:40:00"
         },
         {
          "counts": 121,
          "institution": "NYU",
          "rsvp_no": 471,
          "time": "2019-04-10T15:51:00"
         },
         {
          "counts": 122,
          "institution": "NYU",
          "rsvp_no": 472,
          "time": "2019-04-10T15:54:00"
         },
         {
          "counts": 49,
          "institution": "Mount Sinai",
          "rsvp_no": 473,
          "time": "2019-04-10T15:56:00"
         },
         {
          "counts": 50,
          "institution": "Other",
          "rsvp_no": 474,
          "time": "2019-04-10T16:04:00"
         },
         {
          "counts": 58,
          "institution": "Columbia",
          "rsvp_no": 475,
          "time": "2019-04-10T16:30:00"
         },
         {
          "counts": 33,
          "institution": "Einstein",
          "rsvp_no": 476,
          "time": "2019-04-10T17:08:00"
         },
         {
          "counts": 3,
          "institution": "Rockefeller",
          "rsvp_no": 477,
          "time": "2019-04-10T17:38:00"
         },
         {
          "counts": 51,
          "institution": "Other",
          "rsvp_no": 478,
          "time": "2019-04-10T18:14:00"
         },
         {
          "counts": 13,
          "institution": "Rutgers",
          "rsvp_no": 479,
          "time": "2019-04-10T18:18:00"
         },
         {
          "counts": 41,
          "institution": "Weill Cornell",
          "rsvp_no": 480,
          "time": "2019-04-10T18:28:00"
         },
         {
          "counts": 50,
          "institution": "Mount Sinai",
          "rsvp_no": 481,
          "time": "2019-04-10T19:17:00"
         },
         {
          "counts": 60,
          "institution": "Non-academic Institution",
          "rsvp_no": 482,
          "time": "2019-04-10T20:09:00"
         },
         {
          "counts": 51,
          "institution": "Mount Sinai",
          "rsvp_no": 483,
          "time": "2019-04-10T22:12:00"
         },
         {
          "counts": 59,
          "institution": "Columbia",
          "rsvp_no": 484,
          "time": "2019-04-10T22:47:00"
         },
         {
          "counts": 52,
          "institution": "Mount Sinai",
          "rsvp_no": 485,
          "time": "2019-04-10T23:32:00"
         },
         {
          "counts": 53,
          "institution": "Mount Sinai",
          "rsvp_no": 486,
          "time": "2019-04-11T09:49:00"
         },
         {
          "counts": 61,
          "institution": "Non-academic Institution",
          "rsvp_no": 487,
          "time": "2019-04-11T09:55:00"
         },
         {
          "counts": 54,
          "institution": "Mount Sinai",
          "rsvp_no": 488,
          "time": "2019-04-11T10:20:00"
         },
         {
          "counts": 62,
          "institution": "Non-academic Institution",
          "rsvp_no": 489,
          "time": "2019-04-11T10:33:00"
         },
         {
          "counts": 34,
          "institution": "Einstein",
          "rsvp_no": 490,
          "time": "2019-04-11T10:53:00"
         },
         {
          "counts": 60,
          "institution": "Columbia",
          "rsvp_no": 491,
          "time": "2019-04-11T11:41:00"
         },
         {
          "counts": 30,
          "institution": "CUNY",
          "rsvp_no": 492,
          "time": "2019-04-11T12:24:00"
         },
         {
          "counts": 52,
          "institution": "Other",
          "rsvp_no": 493,
          "time": "2019-04-11T12:36:00"
         },
         {
          "counts": 63,
          "institution": "Non-academic Institution",
          "rsvp_no": 494,
          "time": "2019-04-11T12:44:00"
         },
         {
          "counts": 123,
          "institution": "NYU",
          "rsvp_no": 495,
          "time": "2019-04-11T12:45:00"
         },
         {
          "counts": 64,
          "institution": "Non-academic Institution",
          "rsvp_no": 496,
          "time": "2019-04-11T12:47:00"
         },
         {
          "counts": 31,
          "institution": "CUNY",
          "rsvp_no": 497,
          "time": "2019-04-11T13:14:00"
         },
         {
          "counts": 124,
          "institution": "NYU",
          "rsvp_no": 498,
          "time": "2019-04-11T13:20:00"
         },
         {
          "counts": 65,
          "institution": "Non-academic Institution",
          "rsvp_no": 499,
          "time": "2019-04-11T14:40:00"
         },
         {
          "counts": 32,
          "institution": "CUNY",
          "rsvp_no": 500,
          "time": "2019-04-11T15:00:00"
         },
         {
          "counts": 53,
          "institution": "Other",
          "rsvp_no": 501,
          "time": "2019-04-11T15:21:00"
         },
         {
          "counts": 54,
          "institution": "Other",
          "rsvp_no": 502,
          "time": "2019-04-11T15:37:00"
         },
         {
          "counts": 35,
          "institution": "Einstein",
          "rsvp_no": 503,
          "time": "2019-04-11T16:21:00"
         },
         {
          "counts": 125,
          "institution": "NYU",
          "rsvp_no": 504,
          "time": "2019-04-11T18:40:00"
         },
         {
          "counts": 61,
          "institution": "Columbia",
          "rsvp_no": 505,
          "time": "2019-04-11T20:01:00"
         },
         {
          "counts": 126,
          "institution": "NYU",
          "rsvp_no": 506,
          "time": "2019-04-11T22:22:00"
         },
         {
          "counts": 42,
          "institution": "Weill Cornell",
          "rsvp_no": 507,
          "time": "2019-04-11T22:35:00"
         },
         {
          "counts": 43,
          "institution": "Weill Cornell",
          "rsvp_no": 508,
          "time": "2019-04-11T22:59:00"
         },
         {
          "counts": 55,
          "institution": "Other",
          "rsvp_no": 509,
          "time": "2019-04-12T00:49:00"
         },
         {
          "counts": 44,
          "institution": "Weill Cornell",
          "rsvp_no": 510,
          "time": "2019-04-12T07:10:00"
         },
         {
          "counts": 127,
          "institution": "NYU",
          "rsvp_no": 511,
          "time": "2019-04-12T09:47:00"
         },
         {
          "counts": 128,
          "institution": "NYU",
          "rsvp_no": 512,
          "time": "2019-04-12T10:17:00"
         },
         {
          "counts": 33,
          "institution": "CUNY",
          "rsvp_no": 513,
          "time": "2019-04-12T11:35:00"
         },
         {
          "counts": 56,
          "institution": "Other",
          "rsvp_no": 514,
          "time": "2019-04-12T12:41:00"
         },
         {
          "counts": 34,
          "institution": "CUNY",
          "rsvp_no": 515,
          "time": "2019-04-12T12:44:00"
         },
         {
          "counts": 55,
          "institution": "Mount Sinai",
          "rsvp_no": 516,
          "time": "2019-04-12T13:44:00"
         },
         {
          "counts": 35,
          "institution": "CUNY",
          "rsvp_no": 517,
          "time": "2019-04-12T14:03:00"
         },
         {
          "counts": 36,
          "institution": "CUNY",
          "rsvp_no": 518,
          "time": "2019-04-12T14:08:00"
         },
         {
          "counts": 36,
          "institution": "Einstein",
          "rsvp_no": 519,
          "time": "2019-04-12T14:33:00"
         },
         {
          "counts": 66,
          "institution": "Non-academic Institution",
          "rsvp_no": 520,
          "time": "2019-04-12T14:54:00"
         },
         {
          "counts": 57,
          "institution": "Other",
          "rsvp_no": 521,
          "time": "2019-04-12T15:14:00"
         },
         {
          "counts": 67,
          "institution": "Non-academic Institution",
          "rsvp_no": 522,
          "time": "2019-04-12T15:44:00"
         },
         {
          "counts": 14,
          "institution": "Rutgers",
          "rsvp_no": 523,
          "time": "2019-04-12T17:35:00"
         },
         {
          "counts": 4,
          "institution": "Rockefeller",
          "rsvp_no": 524,
          "time": "2019-04-12T17:36:00"
         },
         {
          "counts": 58,
          "institution": "Other",
          "rsvp_no": 525,
          "time": "2019-04-12T17:49:00"
         },
         {
          "counts": 59,
          "institution": "Other",
          "rsvp_no": 526,
          "time": "2019-04-12T18:00:00"
         },
         {
          "counts": 129,
          "institution": "NYU",
          "rsvp_no": 527,
          "time": "2019-04-12T22:16:00"
         },
         {
          "counts": 62,
          "institution": "Columbia",
          "rsvp_no": 528,
          "time": "2019-04-13T00:03:00"
         },
         {
          "counts": 17,
          "institution": "MSKCC",
          "rsvp_no": 529,
          "time": "2019-04-13T01:52:00"
         },
         {
          "counts": 63,
          "institution": "Columbia",
          "rsvp_no": 530,
          "time": "2019-04-13T03:21:00"
         },
         {
          "counts": 64,
          "institution": "Columbia",
          "rsvp_no": 531,
          "time": "2019-04-13T08:03:00"
         },
         {
          "counts": 1,
          "institution": "Fordham",
          "rsvp_no": 532,
          "time": "2019-04-13T09:49:00"
         },
         {
          "counts": 60,
          "institution": "Other",
          "rsvp_no": 533,
          "time": "2019-04-13T10:15:00"
         },
         {
          "counts": 65,
          "institution": "Columbia",
          "rsvp_no": 535,
          "time": "2019-04-13T22:57:00"
         },
         {
          "counts": 68,
          "institution": "Non-academic Institution",
          "rsvp_no": 536,
          "time": "2019-04-14T01:32:00"
         },
         {
          "counts": 69,
          "institution": "Non-academic Institution",
          "rsvp_no": 537,
          "time": "2019-04-14T20:46:00"
         },
         {
          "counts": 1,
          "institution": "SUNY (Downstate)",
          "rsvp_no": 538,
          "time": "2019-04-15T00:16:00"
         },
         {
          "counts": 15,
          "institution": "Rutgers",
          "rsvp_no": 539,
          "time": "2019-04-15T09:54:00"
         },
         {
          "counts": 66,
          "institution": "Columbia",
          "rsvp_no": 540,
          "time": "2019-04-15T11:08:00"
         },
         {
          "counts": 67,
          "institution": "Columbia",
          "rsvp_no": 541,
          "time": "2019-04-15T11:11:00"
         },
         {
          "counts": 68,
          "institution": "Columbia",
          "rsvp_no": 542,
          "time": "2019-04-15T11:12:00"
         },
         {
          "counts": 69,
          "institution": "Columbia",
          "rsvp_no": 543,
          "time": "2019-04-15T11:13:00"
         },
         {
          "counts": 70,
          "institution": "Columbia",
          "rsvp_no": 544,
          "time": "2019-04-15T11:25:00"
         },
         {
          "counts": 71,
          "institution": "Columbia",
          "rsvp_no": 545,
          "time": "2019-04-15T11:42:00"
         },
         {
          "counts": 72,
          "institution": "Columbia",
          "rsvp_no": 546,
          "time": "2019-04-15T12:03:00"
         },
         {
          "counts": 1,
          "institution": "SUNY (Stony Brook)",
          "rsvp_no": 547,
          "time": "2019-04-15T12:10:00"
         },
         {
          "counts": 73,
          "institution": "Columbia",
          "rsvp_no": 548,
          "time": "2019-04-15T12:12:00"
         },
         {
          "counts": 74,
          "institution": "Columbia",
          "rsvp_no": 549,
          "time": "2019-04-15T12:30:00"
         },
         {
          "counts": 16,
          "institution": "Rutgers",
          "rsvp_no": 550,
          "time": "2019-04-15T12:36:00"
         },
         {
          "counts": 75,
          "institution": "Columbia",
          "rsvp_no": 551,
          "time": "2019-04-15T12:58:00"
         },
         {
          "counts": 61,
          "institution": "Other",
          "rsvp_no": 552,
          "time": "2019-04-15T13:37:00"
         },
         {
          "counts": 76,
          "institution": "Columbia",
          "rsvp_no": 553,
          "time": "2019-04-15T13:45:00"
         },
         {
          "counts": 62,
          "institution": "Other",
          "rsvp_no": 554,
          "time": "2019-04-15T14:32:00"
         },
         {
          "counts": 77,
          "institution": "Columbia",
          "rsvp_no": 555,
          "time": "2019-04-15T14:53:00"
         },
         {
          "counts": 78,
          "institution": "Columbia",
          "rsvp_no": 556,
          "time": "2019-04-15T15:55:00"
         },
         {
          "counts": 17,
          "institution": "Rutgers",
          "rsvp_no": 557,
          "time": "2019-04-15T15:55:00"
         },
         {
          "counts": 79,
          "institution": "Columbia",
          "rsvp_no": 558,
          "time": "2019-04-15T17:14:00"
         },
         {
          "counts": 63,
          "institution": "Other",
          "rsvp_no": 559,
          "time": "2019-04-15T19:24:00"
         },
         {
          "counts": 1,
          "institution": "Yeshiva",
          "rsvp_no": 560,
          "time": "2019-04-15T20:34:00"
         },
         {
          "counts": 45,
          "institution": "Weill Cornell",
          "rsvp_no": 561,
          "time": "2019-04-16T08:55:00"
         },
         {
          "counts": 18,
          "institution": "MSKCC",
          "rsvp_no": 562,
          "time": "2019-04-16T09:23:00"
         },
         {
          "counts": 80,
          "institution": "Columbia",
          "rsvp_no": 563,
          "time": "2019-04-16T10:15:00"
         },
         {
          "counts": 81,
          "institution": "Columbia",
          "rsvp_no": 564,
          "time": "2019-04-16T10:20:00"
         },
         {
          "counts": 130,
          "institution": "NYU",
          "rsvp_no": 565,
          "time": "2019-04-16T10:22:00"
         },
         {
          "counts": 131,
          "institution": "NYU",
          "rsvp_no": 566,
          "time": "2019-04-16T10:26:00"
         },
         {
          "counts": 1,
          "institution": "CUNY (Hunter)",
          "rsvp_no": 567,
          "time": "2019-04-16T10:28:00"
         },
         {
          "counts": 132,
          "institution": "NYU",
          "rsvp_no": 568,
          "time": "2019-04-16T10:34:00"
         },
         {
          "counts": 46,
          "institution": "Weill Cornell",
          "rsvp_no": 569,
          "time": "2019-04-16T10:40:00"
         },
         {
          "counts": 56,
          "institution": "Mount Sinai",
          "rsvp_no": 570,
          "time": "2019-04-16T10:56:00"
         },
         {
          "counts": 57,
          "institution": "Mount Sinai",
          "rsvp_no": 571,
          "time": "2019-04-16T10:59:00"
         },
         {
          "counts": 58,
          "institution": "Mount Sinai",
          "rsvp_no": 572,
          "time": "2019-04-16T11:14:00"
         },
         {
          "counts": 47,
          "institution": "Weill Cornell",
          "rsvp_no": 573,
          "time": "2019-04-16T11:21:00"
         },
         {
          "counts": 59,
          "institution": "Mount Sinai",
          "rsvp_no": 574,
          "time": "2019-04-16T11:21:00"
         },
         {
          "counts": 82,
          "institution": "Columbia",
          "rsvp_no": 575,
          "time": "2019-04-16T11:23:00"
         },
         {
          "counts": 48,
          "institution": "Weill Cornell",
          "rsvp_no": 576,
          "time": "2019-04-16T11:32:00"
         },
         {
          "counts": 60,
          "institution": "Mount Sinai",
          "rsvp_no": 577,
          "time": "2019-04-16T11:38:00"
         },
         {
          "counts": 133,
          "institution": "NYU",
          "rsvp_no": 578,
          "time": "2019-04-16T11:42:00"
         },
         {
          "counts": 134,
          "institution": "NYU",
          "rsvp_no": 579,
          "time": "2019-04-16T12:02:00"
         },
         {
          "counts": 18,
          "institution": "Rutgers",
          "rsvp_no": 580,
          "time": "2019-04-16T12:45:00"
         },
         {
          "counts": 61,
          "institution": "Mount Sinai",
          "rsvp_no": 581,
          "time": "2019-04-16T13:21:00"
         },
         {
          "counts": 135,
          "institution": "NYU",
          "rsvp_no": 582,
          "time": "2019-04-16T13:44:00"
         },
         {
          "counts": 136,
          "institution": "NYU",
          "rsvp_no": 583,
          "time": "2019-04-16T14:03:00"
         },
         {
          "counts": 83,
          "institution": "Columbia",
          "rsvp_no": 584,
          "time": "2019-04-16T14:24:00"
         },
         {
          "counts": 37,
          "institution": "Einstein",
          "rsvp_no": 585,
          "time": "2019-04-16T14:50:00"
         },
         {
          "counts": 70,
          "institution": "Non-academic Institution",
          "rsvp_no": 586,
          "time": "2019-04-16T14:59:00"
         },
         {
          "counts": 62,
          "institution": "Mount Sinai",
          "rsvp_no": 587,
          "time": "2019-04-16T15:12:00"
         },
         {
          "counts": 84,
          "institution": "Columbia",
          "rsvp_no": 588,
          "time": "2019-04-16T15:45:00"
         },
         {
          "counts": 64,
          "institution": "Other",
          "rsvp_no": 589,
          "time": "2019-04-16T15:56:00"
         },
         {
          "counts": 49,
          "institution": "Weill Cornell",
          "rsvp_no": 590,
          "time": "2019-04-16T16:47:00"
         },
         {
          "counts": 50,
          "institution": "Weill Cornell",
          "rsvp_no": 591,
          "time": "2019-04-16T16:54:00"
         },
         {
          "counts": 65,
          "institution": "Other",
          "rsvp_no": 592,
          "time": "2019-04-16T18:02:00"
         },
         {
          "counts": 66,
          "institution": "Other",
          "rsvp_no": 593,
          "time": "2019-04-16T18:11:00"
         },
         {
          "counts": 1,
          "institution": "CUNY (CCNY)",
          "rsvp_no": 594,
          "time": "2019-04-16T19:02:00"
         },
         {
          "counts": 67,
          "institution": "Other",
          "rsvp_no": 595,
          "time": "2019-04-16T20:40:00"
         },
         {
          "counts": 51,
          "institution": "Weill Cornell",
          "rsvp_no": 596,
          "time": "2019-04-17T07:41:00"
         },
         {
          "counts": 63,
          "institution": "Mount Sinai",
          "rsvp_no": 597,
          "time": "2019-04-17T09:05:00"
         },
         {
          "counts": 19,
          "institution": "Rutgers",
          "rsvp_no": 598,
          "time": "2019-04-17T10:00:00"
         },
         {
          "counts": 85,
          "institution": "Columbia",
          "rsvp_no": 599,
          "time": "2019-04-17T10:19:00"
         },
         {
          "counts": 19,
          "institution": "MSKCC",
          "rsvp_no": 601,
          "time": "2019-04-17T10:48:00"
         },
         {
          "counts": 38,
          "institution": "Einstein",
          "rsvp_no": 603,
          "time": "2019-04-17T11:36:00"
         },
         {
          "counts": 71,
          "institution": "Non-academic Institution",
          "rsvp_no": 604,
          "time": "2019-04-17T11:44:00"
         },
         {
          "counts": 86,
          "institution": "Columbia",
          "rsvp_no": 605,
          "time": "2019-04-17T12:08:00"
         },
         {
          "counts": 87,
          "institution": "Columbia",
          "rsvp_no": 606,
          "time": "2019-04-17T12:10:00"
         },
         {
          "counts": 88,
          "institution": "Columbia",
          "rsvp_no": 607,
          "time": "2019-04-17T12:10:00"
         },
         {
          "counts": 89,
          "institution": "Columbia",
          "rsvp_no": 608,
          "time": "2019-04-17T12:11:00"
         },
         {
          "counts": 90,
          "institution": "Columbia",
          "rsvp_no": 609,
          "time": "2019-04-17T12:12:00"
         },
         {
          "counts": 91,
          "institution": "Columbia",
          "rsvp_no": 610,
          "time": "2019-04-17T12:12:00"
         },
         {
          "counts": 92,
          "institution": "Columbia",
          "rsvp_no": 611,
          "time": "2019-04-17T12:19:00"
         },
         {
          "counts": 93,
          "institution": "Columbia",
          "rsvp_no": 612,
          "time": "2019-04-17T12:21:00"
         },
         {
          "counts": 94,
          "institution": "Columbia",
          "rsvp_no": 613,
          "time": "2019-04-17T12:24:00"
         },
         {
          "counts": 95,
          "institution": "Columbia",
          "rsvp_no": 614,
          "time": "2019-04-17T12:30:00"
         },
         {
          "counts": 96,
          "institution": "Columbia",
          "rsvp_no": 615,
          "time": "2019-04-17T12:38:00"
         },
         {
          "counts": 97,
          "institution": "Columbia",
          "rsvp_no": 616,
          "time": "2019-04-17T12:46:00"
         },
         {
          "counts": 52,
          "institution": "Weill Cornell",
          "rsvp_no": 617,
          "time": "2019-04-17T12:47:00"
         },
         {
          "counts": 53,
          "institution": "Weill Cornell",
          "rsvp_no": 618,
          "time": "2019-04-17T12:49:00"
         },
         {
          "counts": 98,
          "institution": "Columbia",
          "rsvp_no": 619,
          "time": "2019-04-17T13:22:00"
         },
         {
          "counts": 99,
          "institution": "Columbia",
          "rsvp_no": 620,
          "time": "2019-04-17T13:28:00"
         },
         {
          "counts": 100,
          "institution": "Columbia",
          "rsvp_no": 621,
          "time": "2019-04-17T13:39:00"
         },
         {
          "counts": 2,
          "institution": "Yeshiva",
          "rsvp_no": 622,
          "time": "2019-04-17T14:12:00"
         },
         {
          "counts": 101,
          "institution": "Columbia",
          "rsvp_no": 623,
          "time": "2019-04-17T14:21:00"
         },
         {
          "counts": 102,
          "institution": "Columbia",
          "rsvp_no": 624,
          "time": "2019-04-17T14:23:00"
         },
         {
          "counts": 103,
          "institution": "Columbia",
          "rsvp_no": 625,
          "time": "2019-04-17T14:27:00"
         },
         {
          "counts": 104,
          "institution": "Columbia",
          "rsvp_no": 626,
          "time": "2019-04-17T14:29:00"
         },
         {
          "counts": 137,
          "institution": "NYU",
          "rsvp_no": 628,
          "time": "2019-04-17T14:39:00"
         },
         {
          "counts": 105,
          "institution": "Columbia",
          "rsvp_no": 629,
          "time": "2019-04-17T14:51:00"
         },
         {
          "counts": 72,
          "institution": "Non-academic Institution",
          "rsvp_no": 630,
          "time": "2019-04-17T15:13:00"
         },
         {
          "counts": 106,
          "institution": "Columbia",
          "rsvp_no": 631,
          "time": "2019-04-17T15:15:00"
         },
         {
          "counts": 64,
          "institution": "Mount Sinai",
          "rsvp_no": 632,
          "time": "2019-04-17T15:22:00"
         },
         {
          "counts": 107,
          "institution": "Columbia",
          "rsvp_no": 633,
          "time": "2019-04-17T15:27:00"
         },
         {
          "counts": 108,
          "institution": "Columbia",
          "rsvp_no": 634,
          "time": "2019-04-17T15:32:00"
         },
         {
          "counts": 109,
          "institution": "Columbia",
          "rsvp_no": 635,
          "time": "2019-04-17T15:32:00"
         },
         {
          "counts": 73,
          "institution": "Non-academic Institution",
          "rsvp_no": 636,
          "time": "2019-04-17T15:42:00"
         },
         {
          "counts": 110,
          "institution": "Columbia",
          "rsvp_no": 637,
          "time": "2019-04-17T15:59:00"
         },
         {
          "counts": 74,
          "institution": "Non-academic Institution",
          "rsvp_no": 639,
          "time": "2019-04-17T17:24:00"
         },
         {
          "counts": 54,
          "institution": "Weill Cornell",
          "rsvp_no": 640,
          "time": "2019-04-17T17:53:00"
         },
         {
          "counts": 2,
          "institution": "CUNY (CCNY)",
          "rsvp_no": 641,
          "time": "2019-04-17T18:19:00"
         },
         {
          "counts": 111,
          "institution": "Columbia",
          "rsvp_no": 642,
          "time": "2019-04-17T19:21:00"
         },
         {
          "counts": 39,
          "institution": "Einstein",
          "rsvp_no": 643,
          "time": "2019-04-17T21:31:00"
         },
         {
          "counts": 3,
          "institution": "CUNY (CCNY)",
          "rsvp_no": 644,
          "time": "2019-04-18T06:35:00"
         },
         {
          "counts": 4,
          "institution": "CUNY (CCNY)",
          "rsvp_no": 645,
          "time": "2019-04-18T07:14:00"
         },
         {
          "counts": 55,
          "institution": "Weill Cornell",
          "rsvp_no": 646,
          "time": "2019-04-18T09:16:00"
         },
         {
          "counts": 112,
          "institution": "Columbia",
          "rsvp_no": 647,
          "time": "2019-04-18T11:10:00"
         },
         {
          "counts": 113,
          "institution": "Columbia",
          "rsvp_no": 648,
          "time": "2019-04-18T11:46:00"
         },
         {
          "counts": 65,
          "institution": "Mount Sinai",
          "rsvp_no": 649,
          "time": "2019-04-18T14:23:00"
         },
         {
          "counts": 5,
          "institution": "CUNY (CCNY)",
          "rsvp_no": 650,
          "time": "2019-04-18T14:29:00"
         },
         {
          "counts": 114,
          "institution": "Columbia",
          "rsvp_no": 651,
          "time": "2019-04-18T15:36:00"
         },
         {
          "counts": 115,
          "institution": "Columbia",
          "rsvp_no": 652,
          "time": "2019-04-18T15:38:00"
         },
         {
          "counts": 116,
          "institution": "Columbia",
          "rsvp_no": 653,
          "time": "2019-04-18T15:44:00"
         },
         {
          "counts": 117,
          "institution": "Columbia",
          "rsvp_no": 654,
          "time": "2019-04-18T15:50:00"
         },
         {
          "counts": 118,
          "institution": "Columbia",
          "rsvp_no": 655,
          "time": "2019-04-18T16:04:00"
         },
         {
          "counts": 68,
          "institution": "Other",
          "rsvp_no": 656,
          "time": "2019-04-18T16:37:00"
         },
         {
          "counts": 6,
          "institution": "CUNY (CCNY)",
          "rsvp_no": 657,
          "time": "2019-04-18T16:40:00"
         },
         {
          "counts": 119,
          "institution": "Columbia",
          "rsvp_no": 658,
          "time": "2019-04-18T16:45:00"
         },
         {
          "counts": 69,
          "institution": "Other",
          "rsvp_no": 659,
          "time": "2019-04-18T16:46:00"
         },
         {
          "counts": 120,
          "institution": "Columbia",
          "rsvp_no": 660,
          "time": "2019-04-18T17:04:00"
         },
         {
          "counts": 70,
          "institution": "Other",
          "rsvp_no": 661,
          "time": "2019-04-18T17:04:00"
         },
         {
          "counts": 121,
          "institution": "Columbia",
          "rsvp_no": 662,
          "time": "2019-04-18T17:12:00"
         },
         {
          "counts": 122,
          "institution": "Columbia",
          "rsvp_no": 663,
          "time": "2019-04-18T18:04:00"
         },
         {
          "counts": 123,
          "institution": "Columbia",
          "rsvp_no": 664,
          "time": "2019-04-18T18:11:00"
         },
         {
          "counts": 138,
          "institution": "NYU",
          "rsvp_no": 665,
          "time": "2019-04-18T18:16:00"
         },
         {
          "counts": 139,
          "institution": "NYU",
          "rsvp_no": 666,
          "time": "2019-04-18T18:40:00"
         },
         {
          "counts": 7,
          "institution": "CUNY (CCNY)",
          "rsvp_no": 667,
          "time": "2019-04-18T19:13:00"
         },
         {
          "counts": 56,
          "institution": "Weill Cornell",
          "rsvp_no": 668,
          "time": "2019-04-18T20:06:00"
         },
         {
          "counts": 66,
          "institution": "Mount Sinai",
          "rsvp_no": 669,
          "time": "2019-04-18T20:14:00"
         },
         {
          "counts": 2,
          "institution": "SUNY (Downstate)",
          "rsvp_no": 670,
          "time": "2019-04-18T22:20:00"
         },
         {
          "counts": 57,
          "institution": "Weill Cornell",
          "rsvp_no": 671,
          "time": "2019-04-18T23:00:00"
         },
         {
          "counts": 124,
          "institution": "Columbia",
          "rsvp_no": 672,
          "time": "2019-04-18T23:40:00"
         },
         {
          "counts": 125,
          "institution": "Columbia",
          "rsvp_no": 673,
          "time": "2019-04-19T00:02:00"
         },
         {
          "counts": 71,
          "institution": "Other",
          "rsvp_no": 674,
          "time": "2019-04-19T00:20:00"
         },
         {
          "counts": 8,
          "institution": "CUNY (CCNY)",
          "rsvp_no": 675,
          "time": "2019-04-19T01:47:00"
         },
         {
          "counts": 126,
          "institution": "Columbia",
          "rsvp_no": 676,
          "time": "2019-04-19T08:22:00"
         },
         {
          "counts": 75,
          "institution": "Non-academic Institution",
          "rsvp_no": 677,
          "time": "2019-04-19T08:57:00"
         },
         {
          "counts": 67,
          "institution": "Mount Sinai",
          "rsvp_no": 678,
          "time": "2019-04-19T09:02:00"
         },
         {
          "counts": 72,
          "institution": "Other",
          "rsvp_no": 679,
          "time": "2019-04-19T09:31:00"
         },
         {
          "counts": 73,
          "institution": "Other",
          "rsvp_no": 680,
          "time": "2019-04-19T09:55:00"
         },
         {
          "counts": 127,
          "institution": "Columbia",
          "rsvp_no": 681,
          "time": "2019-04-19T12:31:00"
         },
         {
          "counts": 140,
          "institution": "NYU",
          "rsvp_no": 682,
          "time": "2019-04-19T12:32:00"
         },
         {
          "counts": 128,
          "institution": "Columbia",
          "rsvp_no": 683,
          "time": "2019-04-19T13:17:00"
         },
         {
          "counts": 129,
          "institution": "Columbia",
          "rsvp_no": 684,
          "time": "2019-04-19T13:44:00"
         },
         {
          "counts": 130,
          "institution": "Columbia",
          "rsvp_no": 685,
          "time": "2019-04-19T13:48:00"
         },
         {
          "counts": 131,
          "institution": "Columbia",
          "rsvp_no": 686,
          "time": "2019-04-19T13:48:00"
         },
         {
          "counts": 132,
          "institution": "Columbia",
          "rsvp_no": 687,
          "time": "2019-04-19T14:11:00"
         },
         {
          "counts": 133,
          "institution": "Columbia",
          "rsvp_no": 688,
          "time": "2019-04-19T16:18:00"
         },
         {
          "counts": 9,
          "institution": "CUNY (CCNY)",
          "rsvp_no": 689,
          "time": "2019-04-19T19:24:00"
         },
         {
          "counts": 10,
          "institution": "CUNY (CCNY)",
          "rsvp_no": 690,
          "time": "2019-04-20T08:50:00"
         },
         {
          "counts": 76,
          "institution": "Non-academic Institution",
          "rsvp_no": 691,
          "time": "2019-04-20T10:50:00"
         },
         {
          "counts": 74,
          "institution": "Other",
          "rsvp_no": 692,
          "time": "2019-04-20T12:36:00"
         },
         {
          "counts": 77,
          "institution": "Non-academic Institution",
          "rsvp_no": 693,
          "time": "2019-04-20T12:43:00"
         },
         {
          "counts": 141,
          "institution": "NYU",
          "rsvp_no": 694,
          "time": "2019-04-20T12:48:00"
         },
         {
          "counts": 11,
          "institution": "CUNY (CCNY)",
          "rsvp_no": 695,
          "time": "2019-04-20T19:21:00"
         },
         {
          "counts": 75,
          "institution": "Other",
          "rsvp_no": 696,
          "time": "2019-04-20T23:48:00"
         },
         {
          "counts": 134,
          "institution": "Columbia",
          "rsvp_no": 698,
          "time": "2019-04-21T13:19:00"
         },
         {
          "counts": 76,
          "institution": "Other",
          "rsvp_no": 699,
          "time": "2019-04-21T18:51:00"
         },
         {
          "counts": 2,
          "institution": "SUNY (Stony Brook)",
          "rsvp_no": 700,
          "time": "2019-04-22T09:50:00"
         },
         {
          "counts": 77,
          "institution": "Other",
          "rsvp_no": 701,
          "time": "2019-04-22T10:07:00"
         },
         {
          "counts": 12,
          "institution": "CUNY (CCNY)",
          "rsvp_no": 702,
          "time": "2019-04-22T10:08:00"
         },
         {
          "counts": 78,
          "institution": "Other",
          "rsvp_no": 703,
          "time": "2019-04-22T10:17:00"
         },
         {
          "counts": 68,
          "institution": "Mount Sinai",
          "rsvp_no": 704,
          "time": "2019-04-22T10:19:00"
         },
         {
          "counts": 69,
          "institution": "Mount Sinai",
          "rsvp_no": 705,
          "time": "2019-04-22T10:25:00"
         },
         {
          "counts": 70,
          "institution": "Mount Sinai",
          "rsvp_no": 706,
          "time": "2019-04-22T10:25:00"
         },
         {
          "counts": 71,
          "institution": "Mount Sinai",
          "rsvp_no": 707,
          "time": "2019-04-22T10:35:00"
         },
         {
          "counts": 72,
          "institution": "Mount Sinai",
          "rsvp_no": 708,
          "time": "2019-04-22T10:38:00"
         },
         {
          "counts": 73,
          "institution": "Mount Sinai",
          "rsvp_no": 709,
          "time": "2019-04-22T10:40:00"
         },
         {
          "counts": 79,
          "institution": "Other",
          "rsvp_no": 710,
          "time": "2019-04-22T10:43:00"
         },
         {
          "counts": 80,
          "institution": "Other",
          "rsvp_no": 711,
          "time": "2019-04-22T10:45:00"
         },
         {
          "counts": 74,
          "institution": "Mount Sinai",
          "rsvp_no": 712,
          "time": "2019-04-22T10:51:00"
         },
         {
          "counts": 135,
          "institution": "Columbia",
          "rsvp_no": 713,
          "time": "2019-04-22T10:57:00"
         },
         {
          "counts": 75,
          "institution": "Mount Sinai",
          "rsvp_no": 714,
          "time": "2019-04-22T10:58:00"
         },
         {
          "counts": 76,
          "institution": "Mount Sinai",
          "rsvp_no": 715,
          "time": "2019-04-22T10:58:00"
         },
         {
          "counts": 1,
          "institution": "CUNY (Baruch)",
          "rsvp_no": 716,
          "time": "2019-04-22T10:59:00"
         },
         {
          "counts": 20,
          "institution": "Rutgers",
          "rsvp_no": 717,
          "time": "2019-04-22T11:03:00"
         },
         {
          "counts": 77,
          "institution": "Mount Sinai",
          "rsvp_no": 718,
          "time": "2019-04-22T11:06:00"
         },
         {
          "counts": 142,
          "institution": "NYU",
          "rsvp_no": 719,
          "time": "2019-04-22T11:09:00"
         },
         {
          "counts": 136,
          "institution": "Columbia",
          "rsvp_no": 720,
          "time": "2019-04-22T11:12:00"
         },
         {
          "counts": 81,
          "institution": "Other",
          "rsvp_no": 721,
          "time": "2019-04-22T11:15:00"
         },
         {
          "counts": 143,
          "institution": "NYU",
          "rsvp_no": 722,
          "time": "2019-04-22T11:24:00"
         },
         {
          "counts": 40,
          "institution": "Einstein",
          "rsvp_no": 723,
          "time": "2019-04-22T11:29:00"
         }
        ]
       },
       "encoding": {
        "color": {
         "field": "institution",
         "type": "nominal"
        },
        "x": {
         "field": "time",
         "type": "temporal"
        },
        "y": {
         "field": "counts",
         "type": "quantitative"
        }
       },
       "mark": "line",
       "width": 600
      },
      "image/png": "[encoded data removed]",
      "text/plain": [
       "<VegaLite 2 object>\n",
       "\n",
       "If you see this message, it means the renderer has not been properly enabled\n",
       "for the frontend that you are using. For more information, see\n",
       "https://altair-viz.github.io/user_guide/troubleshooting.html\n"
      ]
     },
     "execution_count": 4,
     "metadata": {},
     "output_type": "execute_result"
    }
   ],
   "source": [
    "alt.Chart(df).properties(width=600).mark_line().encode(\n",
    "    x='time',\n",
    "    y='counts',\n",
    "    color='institution'\n",
    ")"
   ]
  },
  {
   "cell_type": "markdown",
   "metadata": {},
   "source": [
    "We used this information around April 11th to motivate additional advertising efforts by Columbia and other schools. \n",
    "What we had noticed was that after weeks of advertising, one clickbaity e-mail at NYU still brought in a huge upwards spike in RSVPs (around 10th of April), meaning that the common fear of over-exposing a target audience to ads would diminish their willingness to RSVP for the conference. \n",
    "\n",
    "We can tell that NYU was bringing the most RSVPs on April 11th, but we the colleagues at Columbia were able to close the gap. One also has to consider that CUNY was split up into different labels, so combined they would actually come out on top."
   ]
  },
  {
   "cell_type": "markdown",
   "metadata": {},
   "source": [
    "### When were the biggest spikes in signups/ e-mail blasts\n",
    "\n",
    "The aim here is to have some fun with the numbers to estimate when each university received e-mail blasts, by looking at the differential in signups over time. \n",
    "\n",
    "We will make use of the following solution:\n",
    "\n",
    "https://stackoverflow.com/questions/41780489/python-pandas-how-to-calculate-derivative-gradient"
   ]
  },
  {
   "cell_type": "code",
   "execution_count": 5,
   "metadata": {},
   "outputs": [
    {
     "data": {
      "text/html": [
       "<div>\n",
       "<style scoped>\n",
       "    .dataframe tbody tr th:only-of-type {\n",
       "        vertical-align: middle;\n",
       "    }\n",
       "\n",
       "    .dataframe tbody tr th {\n",
       "        vertical-align: top;\n",
       "    }\n",
       "\n",
       "    .dataframe thead th {\n",
       "        text-align: right;\n",
       "    }\n",
       "</style>\n",
       "<table border=\"1\" class=\"dataframe\">\n",
       "  <thead>\n",
       "    <tr style=\"text-align: right;\">\n",
       "      <th></th>\n",
       "      <th>differential</th>\n",
       "      <th>time</th>\n",
       "    </tr>\n",
       "  </thead>\n",
       "  <tbody>\n",
       "    <tr>\n",
       "      <th>0</th>\n",
       "      <td>NaN</td>\n",
       "      <td>2019-03-07 16:58:00</td>\n",
       "    </tr>\n",
       "    <tr>\n",
       "      <th>1</th>\n",
       "      <td>0.000002</td>\n",
       "      <td>2019-03-14 19:11:00</td>\n",
       "    </tr>\n",
       "    <tr>\n",
       "      <th>2</th>\n",
       "      <td>0.000003</td>\n",
       "      <td>2019-03-18 14:28:00</td>\n",
       "    </tr>\n",
       "    <tr>\n",
       "      <th>3</th>\n",
       "      <td>0.000011</td>\n",
       "      <td>2019-03-19 16:33:00</td>\n",
       "    </tr>\n",
       "    <tr>\n",
       "      <th>4</th>\n",
       "      <td>0.001389</td>\n",
       "      <td>2019-03-19 16:45:00</td>\n",
       "    </tr>\n",
       "  </tbody>\n",
       "</table>\n",
       "</div>"
      ],
      "text/plain": [
       "   differential                time\n",
       "0           NaN 2019-03-07 16:58:00\n",
       "1      0.000002 2019-03-14 19:11:00\n",
       "2      0.000003 2019-03-18 14:28:00\n",
       "3      0.000011 2019-03-19 16:33:00\n",
       "4      0.001389 2019-03-19 16:45:00"
      ]
     },
     "execution_count": 5,
     "metadata": {},
     "output_type": "execute_result"
    }
   ],
   "source": [
    "dummy = pd.concat((df['rsvp_no'].diff()/ df['time'].diff().dt.total_seconds(), df['time']), axis=1).rename(columns={0:'differential'})\n",
    "dummy.head()"
   ]
  },
  {
   "cell_type": "code",
   "execution_count": 6,
   "metadata": {},
   "outputs": [
    {
     "data": {
      "application/vnd.vegalite.v2+json": {
       "$schema": "https://vega.github.io/schema/vega-lite/v2.6.0.json",
       "config": {
        "view": {
         "height": 300,
         "width": 400
        }
       },
       "data": {
        "name": "data-0dc9708f470b638bb9c716d41481955b"
       },
       "datasets": {
        "data-0dc9708f470b638bb9c716d41481955b": [
         {
          "differential": null,
          "time": "2019-03-07T16:58:00"
         },
         {
          "differential": 1.631907046574627e-06,
          "time": "2019-03-14T19:11:00"
         },
         {
          "differential": 3.0430284218854603e-06,
          "time": "2019-03-18T14:28:00"
         },
         {
          "differential": 1.0649627263045793e-05,
          "time": "2019-03-19T16:33:00"
         },
         {
          "differential": 0.001388888888888889,
          "time": "2019-03-19T16:45:00"
         },
         {
          "differential": 1.3740038472107723e-05,
          "time": "2019-03-20T12:58:00"
         },
         {
          "differential": 2.600915522263837e-06,
          "time": "2019-03-24T23:46:00"
         },
         {
          "differential": 0.008333333333333331,
          "time": "2019-03-24T23:48:00"
         },
         {
          "differential": 3.646973012399708e-05,
          "time": "2019-03-25T07:25:00"
         },
         {
          "differential": 0.00016666666666666666,
          "time": "2019-03-25T09:05:00"
         },
         {
          "differential": 0.016666666666666663,
          "time": "2019-03-25T09:06:00"
         },
         {
          "differential": null,
          "time": "2019-03-25T09:06:00"
         },
         {
          "differential": null,
          "time": "2019-03-25T09:06:00"
         },
         {
          "differential": 0.008333333333333331,
          "time": "2019-03-25T09:08:00"
         },
         {
          "differential": null,
          "time": "2019-03-25T09:08:00"
         },
         {
          "differential": 0.016666666666666663,
          "time": "2019-03-25T09:09:00"
         },
         {
          "differential": 0.008333333333333331,
          "time": "2019-03-25T09:11:00"
         },
         {
          "differential": 0.016666666666666663,
          "time": "2019-03-25T09:12:00"
         },
         {
          "differential": 0.008333333333333331,
          "time": "2019-03-25T09:14:00"
         },
         {
          "differential": 0.008333333333333331,
          "time": "2019-03-25T09:16:00"
         },
         {
          "differential": null,
          "time": "2019-03-25T09:16:00"
         },
         {
          "differential": 0.008333333333333331,
          "time": "2019-03-25T09:18:00"
         },
         {
          "differential": 0.008333333333333331,
          "time": "2019-03-25T09:20:00"
         },
         {
          "differential": 0.008333333333333331,
          "time": "2019-03-25T09:22:00"
         },
         {
          "differential": 0.008333333333333331,
          "time": "2019-03-25T09:24:00"
         },
         {
          "differential": 0.001388888888888889,
          "time": "2019-03-25T09:36:00"
         },
         {
          "differential": 0.005555555555555556,
          "time": "2019-03-25T09:39:00"
         },
         {
          "differential": 0.005555555555555556,
          "time": "2019-03-25T09:42:00"
         },
         {
          "differential": 0.001388888888888889,
          "time": "2019-03-25T09:54:00"
         },
         {
          "differential": 0.0033333333333333335,
          "time": "2019-03-25T09:59:00"
         },
         {
          "differential": 0.001851851851851852,
          "time": "2019-03-25T10:08:00"
         },
         {
          "differential": 0.002380952380952381,
          "time": "2019-03-25T10:15:00"
         },
         {
          "differential": 0.002777777777777778,
          "time": "2019-03-25T10:21:00"
         },
         {
          "differential": 0.0033333333333333335,
          "time": "2019-03-25T10:26:00"
         },
         {
          "differential": 0.008333333333333331,
          "time": "2019-03-25T10:28:00"
         },
         {
          "differential": 0.008333333333333331,
          "time": "2019-03-25T10:30:00"
         },
         {
          "differential": 0.0010416666666666664,
          "time": "2019-03-25T10:46:00"
         },
         {
          "differential": null,
          "time": "2019-03-25T10:46:00"
         },
         {
          "differential": 0.0016666666666666668,
          "time": "2019-03-25T10:56:00"
         },
         {
          "differential": null,
          "time": "2019-03-25T10:56:00"
         },
         {
          "differential": null,
          "time": "2019-03-25T10:56:00"
         },
         {
          "differential": 0.002083333333333333,
          "time": "2019-03-25T11:04:00"
         },
         {
          "differential": 0.0033333333333333335,
          "time": "2019-03-25T11:09:00"
         },
         {
          "differential": 0.016666666666666663,
          "time": "2019-03-25T11:10:00"
         },
         {
          "differential": 0.016666666666666663,
          "time": "2019-03-25T11:11:00"
         },
         {
          "differential": 0.016666666666666663,
          "time": "2019-03-25T11:12:00"
         },
         {
          "differential": 0.008333333333333331,
          "time": "2019-03-25T11:14:00"
         },
         {
          "differential": 0.005555555555555556,
          "time": "2019-03-25T11:17:00"
         },
         {
          "differential": 0.008333333333333331,
          "time": "2019-03-25T11:19:00"
         },
         {
          "differential": 0.016666666666666663,
          "time": "2019-03-25T11:20:00"
         },
         {
          "differential": 0.016666666666666663,
          "time": "2019-03-25T11:21:00"
         },
         {
          "differential": 0.005555555555555556,
          "time": "2019-03-25T11:24:00"
         },
         {
          "differential": 0.016666666666666663,
          "time": "2019-03-25T11:25:00"
         },
         {
          "differential": 0.016666666666666663,
          "time": "2019-03-25T11:26:00"
         },
         {
          "differential": 0.005555555555555556,
          "time": "2019-03-25T11:29:00"
         },
         {
          "differential": null,
          "time": "2019-03-25T11:29:00"
         },
         {
          "differential": 0.005555555555555556,
          "time": "2019-03-25T11:32:00"
         },
         {
          "differential": null,
          "time": "2019-03-25T11:32:00"
         },
         {
          "differential": null,
          "time": "2019-03-25T11:32:00"
         },
         {
          "differential": 0.002380952380952381,
          "time": "2019-03-25T11:39:00"
         },
         {
          "differential": 0.004166666666666666,
          "time": "2019-03-25T11:43:00"
         },
         {
          "differential": 0.016666666666666663,
          "time": "2019-03-25T11:44:00"
         },
         {
          "differential": 0.001282051282051282,
          "time": "2019-03-25T11:57:00"
         },
         {
          "differential": null,
          "time": "2019-03-25T11:57:00"
         },
         {
          "differential": 0.002083333333333333,
          "time": "2019-03-25T12:05:00"
         },
         {
          "differential": 0.0033333333333333335,
          "time": "2019-03-25T12:10:00"
         },
         {
          "differential": 0.016666666666666663,
          "time": "2019-03-25T12:11:00"
         },
         {
          "differential": 0.004166666666666666,
          "time": "2019-03-25T12:15:00"
         },
         {
          "differential": 0.0010416666666666664,
          "time": "2019-03-25T12:31:00"
         },
         {
          "differential": 0.0033333333333333335,
          "time": "2019-03-25T12:36:00"
         },
         {
          "differential": 0.0033333333333333335,
          "time": "2019-03-25T12:41:00"
         },
         {
          "differential": 0.008333333333333331,
          "time": "2019-03-25T12:43:00"
         },
         {
          "differential": 0.016666666666666663,
          "time": "2019-03-25T12:44:00"
         },
         {
          "differential": 0.001388888888888889,
          "time": "2019-03-25T12:56:00"
         },
         {
          "differential": 0.0033333333333333335,
          "time": "2019-03-25T13:01:00"
         },
         {
          "differential": 0.008333333333333331,
          "time": "2019-03-25T13:03:00"
         },
         {
          "differential": 0.0033333333333333335,
          "time": "2019-03-25T13:08:00"
         },
         {
          "differential": 0.002083333333333333,
          "time": "2019-03-25T13:16:00"
         },
         {
          "differential": 0.016666666666666663,
          "time": "2019-03-25T13:17:00"
         },
         {
          "differential": null,
          "time": "2019-03-25T13:17:00"
         },
         {
          "differential": 0.0033333333333333335,
          "time": "2019-03-25T13:22:00"
         },
         {
          "differential": 0.0005555555555555556,
          "time": "2019-03-25T13:52:00"
         },
         {
          "differential": 0.0016666666666666668,
          "time": "2019-03-25T14:02:00"
         },
         {
          "differential": 0.0033333333333333335,
          "time": "2019-03-25T14:07:00"
         },
         {
          "differential": 0.001851851851851852,
          "time": "2019-03-25T14:16:00"
         },
         {
          "differential": 0.001282051282051282,
          "time": "2019-03-25T14:29:00"
         },
         {
          "differential": 0.016666666666666663,
          "time": "2019-03-25T14:30:00"
         },
         {
          "differential": 0.000925925925925926,
          "time": "2019-03-25T14:48:00"
         },
         {
          "differential": 0.008333333333333331,
          "time": "2019-03-25T14:50:00"
         },
         {
          "differential": 0.001851851851851852,
          "time": "2019-03-25T14:59:00"
         },
         {
          "differential": 0.016666666666666663,
          "time": "2019-03-25T15:00:00"
         },
         {
          "differential": 0.0033333333333333335,
          "time": "2019-03-25T15:05:00"
         },
         {
          "differential": null,
          "time": "2019-03-25T15:05:00"
         },
         {
          "differential": 0.016666666666666663,
          "time": "2019-03-25T15:06:00"
         },
         {
          "differential": 0.0015151515151515152,
          "time": "2019-03-25T15:17:00"
         },
         {
          "differential": 0.001282051282051282,
          "time": "2019-03-25T15:30:00"
         },
         {
          "differential": 0.002083333333333333,
          "time": "2019-03-25T15:38:00"
         },
         {
          "differential": 0.008333333333333331,
          "time": "2019-03-25T15:40:00"
         },
         {
          "differential": 0.002083333333333333,
          "time": "2019-03-25T15:48:00"
         },
         {
          "differential": 0.001851851851851852,
          "time": "2019-03-25T15:57:00"
         },
         {
          "differential": 0.005555555555555556,
          "time": "2019-03-25T16:00:00"
         },
         {
          "differential": 0.0010416666666666664,
          "time": "2019-03-25T16:16:00"
         },
         {
          "differential": 0.000925925925925926,
          "time": "2019-03-25T16:34:00"
         },
         {
          "differential": 0.0033333333333333335,
          "time": "2019-03-25T16:39:00"
         },
         {
          "differential": 0.016666666666666663,
          "time": "2019-03-25T16:40:00"
         },
         {
          "differential": 0.016666666666666663,
          "time": "2019-03-25T16:41:00"
         },
         {
          "differential": 0.016666666666666663,
          "time": "2019-03-25T16:42:00"
         },
         {
          "differential": null,
          "time": "2019-03-25T16:42:00"
         },
         {
          "differential": null,
          "time": "2019-03-25T16:42:00"
         },
         {
          "differential": 0.005555555555555556,
          "time": "2019-03-25T16:45:00"
         },
         {
          "differential": 0.008333333333333331,
          "time": "2019-03-25T16:47:00"
         },
         {
          "differential": 0.016666666666666663,
          "time": "2019-03-25T16:48:00"
         },
         {
          "differential": 0.008333333333333331,
          "time": "2019-03-25T16:50:00"
         },
         {
          "differential": 0.008333333333333331,
          "time": "2019-03-25T16:52:00"
         },
         {
          "differential": 0.008333333333333331,
          "time": "2019-03-25T16:54:00"
         },
         {
          "differential": null,
          "time": "2019-03-25T16:54:00"
         },
         {
          "differential": null,
          "time": "2019-03-25T16:54:00"
         },
         {
          "differential": 0.001851851851851852,
          "time": "2019-03-25T17:03:00"
         },
         {
          "differential": 0.016666666666666663,
          "time": "2019-03-25T17:04:00"
         },
         {
          "differential": 0.0033333333333333335,
          "time": "2019-03-25T17:09:00"
         },
         {
          "differential": 0.005555555555555556,
          "time": "2019-03-25T17:12:00"
         },
         {
          "differential": null,
          "time": "2019-03-25T17:12:00"
         },
         {
          "differential": 0.005555555555555556,
          "time": "2019-03-25T17:15:00"
         },
         {
          "differential": 0.004166666666666666,
          "time": "2019-03-25T17:19:00"
         },
         {
          "differential": 0.004166666666666666,
          "time": "2019-03-25T17:23:00"
         },
         {
          "differential": 0.004166666666666666,
          "time": "2019-03-25T17:27:00"
         },
         {
          "differential": 0.002777777777777778,
          "time": "2019-03-25T17:33:00"
         },
         {
          "differential": 0.0011111111111111111,
          "time": "2019-03-25T17:48:00"
         },
         {
          "differential": 0.008333333333333331,
          "time": "2019-03-25T17:50:00"
         },
         {
          "differential": 0.0016666666666666668,
          "time": "2019-03-25T18:00:00"
         },
         {
          "differential": 0.016666666666666663,
          "time": "2019-03-25T18:01:00"
         },
         {
          "differential": 0.016666666666666663,
          "time": "2019-03-25T18:02:00"
         },
         {
          "differential": 0.002777777777777778,
          "time": "2019-03-25T18:08:00"
         },
         {
          "differential": 0.016666666666666663,
          "time": "2019-03-25T18:09:00"
         },
         {
          "differential": 0.008333333333333331,
          "time": "2019-03-25T18:11:00"
         },
         {
          "differential": 0.008333333333333331,
          "time": "2019-03-25T18:13:00"
         },
         {
          "differential": 0.0006944444444444445,
          "time": "2019-03-25T18:37:00"
         },
         {
          "differential": 0.0005208333333333332,
          "time": "2019-03-25T19:09:00"
         },
         {
          "differential": 0.0005376344086021504,
          "time": "2019-03-25T19:40:00"
         },
         {
          "differential": 0.0015151515151515152,
          "time": "2019-03-25T19:51:00"
         },
         {
          "differential": 0.0007936507936507937,
          "time": "2019-03-25T20:12:00"
         },
         {
          "differential": 0.0004166666666666667,
          "time": "2019-03-25T20:52:00"
         },
         {
          "differential": 0.000980392156862745,
          "time": "2019-03-25T21:09:00"
         },
         {
          "differential": 0.005555555555555556,
          "time": "2019-03-25T21:12:00"
         },
         {
          "differential": 0.008333333333333331,
          "time": "2019-03-25T21:14:00"
         },
         {
          "differential": 0.0005952380952380953,
          "time": "2019-03-25T21:42:00"
         },
         {
          "differential": 0.002380952380952381,
          "time": "2019-03-25T21:49:00"
         },
         {
          "differential": 0.0002645502645502645,
          "time": "2019-03-25T22:52:00"
         },
         {
          "differential": 0.0015151515151515152,
          "time": "2019-03-25T23:03:00"
         },
         {
          "differential": 0.0011904761904761906,
          "time": "2019-03-25T23:17:00"
         },
         {
          "differential": 0.0003875968992248062,
          "time": "2019-03-26T00:00:00"
         },
         {
          "differential": 6.830601092896174e-05,
          "time": "2019-03-26T04:04:00"
         },
         {
          "differential": 0.0008771929824561404,
          "time": "2019-03-26T04:23:00"
         },
         {
          "differential": 0.00019157088122605365,
          "time": "2019-03-26T05:50:00"
         },
         {
          "differential": 0.0033333333333333335,
          "time": "2019-03-26T05:55:00"
         },
         {
          "differential": 0.00011904761904761905,
          "time": "2019-03-26T08:15:00"
         },
         {
          "differential": 0.0002824858757062147,
          "time": "2019-03-26T09:14:00"
         },
         {
          "differential": 0.0011904761904761906,
          "time": "2019-03-26T09:28:00"
         },
         {
          "differential": 0.0007575757575757576,
          "time": "2019-03-26T09:50:00"
         },
         {
          "differential": null,
          "time": "2019-03-26T09:50:00"
         },
         {
          "differential": 0.001851851851851852,
          "time": "2019-03-26T09:59:00"
         },
         {
          "differential": 0.008333333333333331,
          "time": "2019-03-26T10:01:00"
         },
         {
          "differential": 0.002380952380952381,
          "time": "2019-03-26T10:08:00"
         },
         {
          "differential": 0.016666666666666663,
          "time": "2019-03-26T10:09:00"
         },
         {
          "differential": 0.016666666666666663,
          "time": "2019-03-26T10:10:00"
         },
         {
          "differential": 0.001851851851851852,
          "time": "2019-03-26T10:19:00"
         },
         {
          "differential": 0.008333333333333331,
          "time": "2019-03-26T10:21:00"
         },
         {
          "differential": 0.016666666666666663,
          "time": "2019-03-26T10:22:00"
         },
         {
          "differential": null,
          "time": "2019-03-26T10:22:00"
         },
         {
          "differential": 0.002777777777777778,
          "time": "2019-03-26T10:28:00"
         },
         {
          "differential": 0.005555555555555556,
          "time": "2019-03-26T10:31:00"
         },
         {
          "differential": 0.016666666666666663,
          "time": "2019-03-26T10:32:00"
         },
         {
          "differential": 0.016666666666666663,
          "time": "2019-03-26T10:33:00"
         },
         {
          "differential": 0.016666666666666663,
          "time": "2019-03-26T10:34:00"
         },
         {
          "differential": 0.008333333333333331,
          "time": "2019-03-26T10:36:00"
         },
         {
          "differential": 0.008333333333333331,
          "time": "2019-03-26T10:38:00"
         },
         {
          "differential": null,
          "time": "2019-03-26T10:38:00"
         },
         {
          "differential": 0.001388888888888889,
          "time": "2019-03-26T10:50:00"
         },
         {
          "differential": null,
          "time": "2019-03-26T10:50:00"
         },
         {
          "differential": 0.0033333333333333335,
          "time": "2019-03-26T10:55:00"
         },
         {
          "differential": 0.016666666666666663,
          "time": "2019-03-26T10:56:00"
         },
         {
          "differential": 0.002083333333333333,
          "time": "2019-03-26T11:04:00"
         },
         {
          "differential": 0.0006666666666666666,
          "time": "2019-03-26T11:29:00"
         },
         {
          "differential": 0.0008333333333333334,
          "time": "2019-03-26T11:49:00"
         },
         {
          "differential": 0.0016666666666666668,
          "time": "2019-03-26T11:59:00"
         },
         {
          "differential": 0.016666666666666663,
          "time": "2019-03-26T12:00:00"
         },
         {
          "differential": 0.002777777777777778,
          "time": "2019-03-26T12:06:00"
         },
         {
          "differential": 0.016666666666666663,
          "time": "2019-03-26T12:07:00"
         },
         {
          "differential": 0.005555555555555556,
          "time": "2019-03-26T12:10:00"
         },
         {
          "differential": 0.0015151515151515152,
          "time": "2019-03-26T12:21:00"
         },
         {
          "differential": 0.004166666666666666,
          "time": "2019-03-26T12:25:00"
         },
         {
          "differential": 0.0007575757575757576,
          "time": "2019-03-26T12:47:00"
         },
         {
          "differential": 0.005555555555555556,
          "time": "2019-03-26T12:50:00"
         },
         {
          "differential": 0.0011904761904761906,
          "time": "2019-03-26T13:04:00"
         },
         {
          "differential": 0.002380952380952381,
          "time": "2019-03-26T13:11:00"
         },
         {
          "differential": 0.002380952380952381,
          "time": "2019-03-26T13:18:00"
         },
         {
          "differential": 0.0005747126436781609,
          "time": "2019-03-26T13:47:00"
         },
         {
          "differential": 0.0033333333333333335,
          "time": "2019-03-26T13:52:00"
         },
         {
          "differential": 0.004166666666666666,
          "time": "2019-03-26T13:56:00"
         },
         {
          "differential": 0.0003401360544217687,
          "time": "2019-03-26T14:45:00"
         },
         {
          "differential": 0.0033333333333333335,
          "time": "2019-03-26T14:50:00"
         },
         {
          "differential": 0.0016666666666666668,
          "time": "2019-03-26T15:00:00"
         },
         {
          "differential": 0.0033333333333333335,
          "time": "2019-03-26T15:05:00"
         },
         {
          "differential": 0.005555555555555556,
          "time": "2019-03-26T15:08:00"
         },
         {
          "differential": 0.016666666666666663,
          "time": "2019-03-26T15:09:00"
         },
         {
          "differential": 0.0033333333333333335,
          "time": "2019-03-26T15:14:00"
         },
         {
          "differential": 0.0005952380952380953,
          "time": "2019-03-26T15:42:00"
         },
         {
          "differential": 0.008333333333333331,
          "time": "2019-03-26T15:44:00"
         },
         {
          "differential": 0.005555555555555556,
          "time": "2019-03-26T15:47:00"
         },
         {
          "differential": 0.0033333333333333335,
          "time": "2019-03-26T15:52:00"
         },
         {
          "differential": 0.001851851851851852,
          "time": "2019-03-26T16:01:00"
         },
         {
          "differential": 0.0005376344086021504,
          "time": "2019-03-26T16:32:00"
         },
         {
          "differential": 0.0011904761904761906,
          "time": "2019-03-26T16:46:00"
         },
         {
          "differential": 0.008333333333333331,
          "time": "2019-03-26T16:48:00"
         },
         {
          "differential": 0.001851851851851852,
          "time": "2019-03-26T16:57:00"
         },
         {
          "differential": 0.002083333333333333,
          "time": "2019-03-26T17:05:00"
         },
         {
          "differential": 0.001851851851851852,
          "time": "2019-03-26T17:14:00"
         },
         {
          "differential": 0.0007936507936507937,
          "time": "2019-03-26T17:35:00"
         },
         {
          "differential": 0.00037037037037037035,
          "time": "2019-03-26T18:20:00"
         },
         {
          "differential": 0.002777777777777778,
          "time": "2019-03-26T18:26:00"
         },
         {
          "differential": 0.005555555555555556,
          "time": "2019-03-26T18:29:00"
         },
         {
          "differential": 8.333333333333333e-05,
          "time": "2019-03-26T21:49:00"
         },
         {
          "differential": 0.002380952380952381,
          "time": "2019-03-26T21:56:00"
         },
         {
          "differential": 0.0003401360544217687,
          "time": "2019-03-26T22:45:00"
         },
         {
          "differential": 0.002380952380952381,
          "time": "2019-03-26T22:52:00"
         },
         {
          "differential": 0.004166666666666666,
          "time": "2019-03-26T22:56:00"
         },
         {
          "differential": 5.1440329218106995e-05,
          "time": "2019-03-27T04:20:00"
         },
         {
          "differential": 6.242197253433208e-05,
          "time": "2019-03-27T08:47:00"
         },
         {
          "differential": 0.00029761904761904765,
          "time": "2019-03-27T09:43:00"
         },
         {
          "differential": 0.000980392156862745,
          "time": "2019-03-27T10:00:00"
         },
         {
          "differential": 0.0033333333333333335,
          "time": "2019-03-27T10:05:00"
         },
         {
          "differential": 0.00030303030303030303,
          "time": "2019-03-27T11:00:00"
         },
         {
          "differential": 0.0011904761904761906,
          "time": "2019-03-27T11:14:00"
         },
         {
          "differential": 0.005555555555555556,
          "time": "2019-03-27T11:17:00"
         },
         {
          "differential": 0.000326797385620915,
          "time": "2019-03-27T12:08:00"
         },
         {
          "differential": 0.00030303030303030303,
          "time": "2019-03-27T13:03:00"
         },
         {
          "differential": 0.0033333333333333335,
          "time": "2019-03-27T13:08:00"
         },
         {
          "differential": 0.002083333333333333,
          "time": "2019-03-27T13:16:00"
         },
         {
          "differential": 0.0011904761904761906,
          "time": "2019-03-27T13:30:00"
         },
         {
          "differential": 0.001851851851851852,
          "time": "2019-03-27T13:39:00"
         },
         {
          "differential": 0.0016666666666666668,
          "time": "2019-03-27T13:49:00"
         },
         {
          "differential": 0.00036231884057971015,
          "time": "2019-03-27T14:35:00"
         },
         {
          "differential": 0.002083333333333333,
          "time": "2019-03-27T14:43:00"
         },
         {
          "differential": 0.008333333333333331,
          "time": "2019-03-27T14:45:00"
         },
         {
          "differential": 0.0006172839506172839,
          "time": "2019-03-27T15:12:00"
         },
         {
          "differential": 0.0011904761904761906,
          "time": "2019-03-27T15:26:00"
         },
         {
          "differential": 0.00037037037037037035,
          "time": "2019-03-27T16:11:00"
         },
         {
          "differential": 0.0001272264631043257,
          "time": "2019-03-27T18:22:00"
         },
         {
          "differential": 0.00017361111111111112,
          "time": "2019-03-27T19:58:00"
         },
         {
          "differential": 0.00034722222222222224,
          "time": "2019-03-27T20:46:00"
         },
         {
          "differential": 0.001851851851851852,
          "time": "2019-03-27T21:04:00"
         },
         {
          "differential": 0.016666666666666663,
          "time": "2019-03-27T21:05:00"
         },
         {
          "differential": 0.00018315018315018315,
          "time": "2019-03-27T22:36:00"
         },
         {
          "differential": 2.564102564102564e-05,
          "time": "2019-03-28T09:26:00"
         },
         {
          "differential": 0.0033333333333333335,
          "time": "2019-03-28T09:31:00"
         },
         {
          "differential": 0.001388888888888889,
          "time": "2019-03-28T09:43:00"
         },
         {
          "differential": 0.0033333333333333335,
          "time": "2019-03-28T09:48:00"
         },
         {
          "differential": 0.0008333333333333334,
          "time": "2019-03-28T10:08:00"
         },
         {
          "differential": 0.0033333333333333335,
          "time": "2019-03-28T10:13:00"
         },
         {
          "differential": 0.005555555555555556,
          "time": "2019-03-28T10:16:00"
         },
         {
          "differential": 0.001282051282051282,
          "time": "2019-03-28T10:29:00"
         },
         {
          "differential": 0.0033333333333333335,
          "time": "2019-03-28T10:34:00"
         },
         {
          "differential": 0.002083333333333333,
          "time": "2019-03-28T10:42:00"
         },
         {
          "differential": 0.001851851851851852,
          "time": "2019-03-28T10:51:00"
         },
         {
          "differential": 0.00024509803921568627,
          "time": "2019-03-28T11:59:00"
         },
         {
          "differential": 0.00022522522522522523,
          "time": "2019-03-28T13:13:00"
         },
         {
          "differential": 0.00010752688172043011,
          "time": "2019-03-28T15:48:00"
         },
         {
          "differential": 0.016666666666666663,
          "time": "2019-03-28T15:49:00"
         },
         {
          "differential": 0.001282051282051282,
          "time": "2019-03-28T16:02:00"
         },
         {
          "differential": 0.016666666666666663,
          "time": "2019-03-28T16:03:00"
         },
         {
          "differential": 0.002777777777777778,
          "time": "2019-03-28T16:09:00"
         },
         {
          "differential": 0.016666666666666663,
          "time": "2019-03-28T16:10:00"
         },
         {
          "differential": 0.00045045045045045046,
          "time": "2019-03-28T16:47:00"
         },
         {
          "differential": 3.367003367003367e-05,
          "time": "2019-03-29T01:02:00"
         },
         {
          "differential": 3.36021505376344e-05,
          "time": "2019-03-29T09:18:00"
         },
         {
          "differential": 0.004166666666666666,
          "time": "2019-03-29T09:22:00"
         },
         {
          "differential": 0.00014005602240896358,
          "time": "2019-03-29T11:21:00"
         },
         {
          "differential": 0.0003333333333333333,
          "time": "2019-03-29T12:11:00"
         },
         {
          "differential": 0.002380952380952381,
          "time": "2019-03-29T12:18:00"
         },
         {
          "differential": 0.000196078431372549,
          "time": "2019-03-29T13:43:00"
         },
         {
          "differential": 0.0006666666666666666,
          "time": "2019-03-29T14:08:00"
         },
         {
          "differential": 0.00011415525114155251,
          "time": "2019-03-29T16:34:00"
         },
         {
          "differential": 0.0011904761904761906,
          "time": "2019-03-29T16:48:00"
         },
         {
          "differential": 0.00017006802721088434,
          "time": "2019-03-29T18:26:00"
         },
         {
          "differential": 0.00034722222222222224,
          "time": "2019-03-29T19:14:00"
         },
         {
          "differential": 0.0002192982456140351,
          "time": "2019-03-29T20:30:00"
         },
         {
          "differential": 1.2909888974954816e-05,
          "time": "2019-03-30T18:01:00"
         },
         {
          "differential": 5.574136008918618e-05,
          "time": "2019-03-30T23:00:00"
         },
         {
          "differential": 0.005555555555555556,
          "time": "2019-03-30T23:03:00"
         },
         {
          "differential": 3.940110323089047e-05,
          "time": "2019-03-31T06:06:00"
         },
         {
          "differential": 3.380662609871534e-05,
          "time": "2019-03-31T14:19:00"
         },
         {
          "differential": 1.4607069821793749e-05,
          "time": "2019-04-01T09:20:00"
         },
         {
          "differential": 0.0007936507936507937,
          "time": "2019-04-01T09:41:00"
         },
         {
          "differential": 0.0033333333333333335,
          "time": "2019-04-01T09:46:00"
         },
         {
          "differential": 0.002083333333333333,
          "time": "2019-04-01T09:54:00"
         },
         {
          "differential": 0.0007936507936507937,
          "time": "2019-04-01T10:15:00"
         },
         {
          "differential": 0.005555555555555556,
          "time": "2019-04-01T10:18:00"
         },
         {
          "differential": 0.002083333333333333,
          "time": "2019-04-01T10:26:00"
         },
         {
          "differential": 0.00045045045045045046,
          "time": "2019-04-01T11:03:00"
         },
         {
          "differential": 0.0005050505050505049,
          "time": "2019-04-01T11:36:00"
         },
         {
          "differential": 0.000641025641025641,
          "time": "2019-04-01T12:02:00"
         },
         {
          "differential": 0.0006666666666666666,
          "time": "2019-04-01T12:27:00"
         },
         {
          "differential": 0.004166666666666666,
          "time": "2019-04-01T12:31:00"
         },
         {
          "differential": 0.0007936507936507937,
          "time": "2019-04-01T12:52:00"
         },
         {
          "differential": 0.0005050505050505049,
          "time": "2019-04-01T13:25:00"
         },
         {
          "differential": 0.0003333333333333333,
          "time": "2019-04-01T14:15:00"
         },
         {
          "differential": 0.0006666666666666666,
          "time": "2019-04-01T14:40:00"
         },
         {
          "differential": 0.001282051282051282,
          "time": "2019-04-01T14:53:00"
         },
         {
          "differential": 0.0011111111111111111,
          "time": "2019-04-01T15:08:00"
         },
         {
          "differential": 0.00012626262626262624,
          "time": "2019-04-01T17:20:00"
         },
         {
          "differential": 0.016666666666666663,
          "time": "2019-04-01T17:21:00"
         },
         {
          "differential": 0.008333333333333331,
          "time": "2019-04-01T17:23:00"
         },
         {
          "differential": 0.0002604166666666666,
          "time": "2019-04-01T18:27:00"
         },
         {
          "differential": 0.0003968253968253968,
          "time": "2019-04-01T19:09:00"
         },
         {
          "differential": 0.0003333333333333333,
          "time": "2019-04-01T19:59:00"
         },
         {
          "differential": 5.411255411255411e-05,
          "time": "2019-04-02T01:07:00"
         },
         {
          "differential": 3.568879371877231e-05,
          "time": "2019-04-02T08:54:00"
         },
         {
          "differential": 0.0015151515151515152,
          "time": "2019-04-02T09:05:00"
         },
         {
          "differential": 0.008333333333333331,
          "time": "2019-04-02T09:07:00"
         },
         {
          "differential": null,
          "time": "2019-04-02T09:07:00"
         },
         {
          "differential": 0.016666666666666663,
          "time": "2019-04-02T09:08:00"
         },
         {
          "differential": 0.016666666666666663,
          "time": "2019-04-02T09:09:00"
         },
         {
          "differential": 0.0004761904761904762,
          "time": "2019-04-02T09:44:00"
         },
         {
          "differential": 0.004166666666666666,
          "time": "2019-04-02T09:48:00"
         },
         {
          "differential": 0.0033333333333333335,
          "time": "2019-04-02T09:53:00"
         },
         {
          "differential": 0.016666666666666663,
          "time": "2019-04-02T09:54:00"
         },
         {
          "differential": 0.002380952380952381,
          "time": "2019-04-02T10:01:00"
         },
         {
          "differential": 0.002380952380952381,
          "time": "2019-04-02T10:08:00"
         },
         {
          "differential": 0.002380952380952381,
          "time": "2019-04-02T10:15:00"
         },
         {
          "differential": 0.008333333333333331,
          "time": "2019-04-02T10:17:00"
         },
         {
          "differential": 0.001851851851851852,
          "time": "2019-04-02T10:26:00"
         },
         {
          "differential": 0.004166666666666666,
          "time": "2019-04-02T10:30:00"
         },
         {
          "differential": 0.0005747126436781609,
          "time": "2019-04-02T10:59:00"
         },
         {
          "differential": 0.000980392156862745,
          "time": "2019-04-02T11:16:00"
         },
         {
          "differential": 0.002777777777777778,
          "time": "2019-04-02T11:22:00"
         },
         {
          "differential": 0.0033333333333333335,
          "time": "2019-04-02T11:42:00"
         },
         {
          "differential": 0.0002645502645502645,
          "time": "2019-04-02T12:45:00"
         },
         {
          "differential": 0.008333333333333331,
          "time": "2019-04-02T12:47:00"
         },
         {
          "differential": 0.0006666666666666666,
          "time": "2019-04-02T13:12:00"
         },
         {
          "differential": 0.0002777777777777778,
          "time": "2019-04-02T14:12:00"
         },
         {
          "differential": 0.000462962962962963,
          "time": "2019-04-02T14:48:00"
         },
         {
          "differential": 0.008333333333333331,
          "time": "2019-04-02T14:50:00"
         },
         {
          "differential": 0.0011904761904761906,
          "time": "2019-04-02T15:04:00"
         },
         {
          "differential": 0.0007246376811594203,
          "time": "2019-04-02T15:27:00"
         },
         {
          "differential": 0.0001773049645390071,
          "time": "2019-04-02T17:01:00"
         },
         {
          "differential": 0.0007575757575757576,
          "time": "2019-04-02T17:23:00"
         },
         {
          "differential": 0.00021367521367521368,
          "time": "2019-04-02T18:41:00"
         },
         {
          "differential": 0.0003875968992248062,
          "time": "2019-04-02T19:24:00"
         },
         {
          "differential": 0.0011111111111111111,
          "time": "2019-04-02T19:39:00"
         },
         {
          "differential": 0.0003333333333333333,
          "time": "2019-04-02T20:29:00"
         },
         {
          "differential": 0.0001312335958005249,
          "time": "2019-04-02T22:36:00"
         },
         {
          "differential": 0.00024509803921568627,
          "time": "2019-04-02T23:44:00"
         },
         {
          "differential": 0.0005952380952380953,
          "time": "2019-04-03T00:12:00"
         },
         {
          "differential": 0.008333333333333331,
          "time": "2019-04-03T00:14:00"
         },
         {
          "differential": 0.001282051282051282,
          "time": "2019-04-03T00:27:00"
         },
         {
          "differential": 3.242542153047989e-05,
          "time": "2019-04-03T09:01:00"
         },
         {
          "differential": 0.0003401360544217687,
          "time": "2019-04-03T09:50:00"
         },
         {
          "differential": 0.0008771929824561404,
          "time": "2019-04-03T10:09:00"
         },
         {
          "differential": 0.005555555555555556,
          "time": "2019-04-03T10:12:00"
         },
         {
          "differential": 0.0015151515151515152,
          "time": "2019-04-03T10:23:00"
         },
         {
          "differential": 0.002777777777777778,
          "time": "2019-04-03T10:29:00"
         },
         {
          "differential": 0.005555555555555556,
          "time": "2019-04-03T10:32:00"
         },
         {
          "differential": 0.005555555555555556,
          "time": "2019-04-03T10:35:00"
         },
         {
          "differential": 0.005555555555555556,
          "time": "2019-04-03T10:38:00"
         },
         {
          "differential": 0.0008333333333333334,
          "time": "2019-04-03T10:58:00"
         },
         {
          "differential": 0.001282051282051282,
          "time": "2019-04-03T11:11:00"
         },
         {
          "differential": 0.005555555555555556,
          "time": "2019-04-03T11:14:00"
         },
         {
          "differential": 0.005555555555555556,
          "time": "2019-04-03T11:17:00"
         },
         {
          "differential": 0.0005555555555555556,
          "time": "2019-04-03T11:47:00"
         },
         {
          "differential": 0.002777777777777778,
          "time": "2019-04-03T11:53:00"
         },
         {
          "differential": 0.0010416666666666664,
          "time": "2019-04-03T12:09:00"
         },
         {
          "differential": 0.002777777777777778,
          "time": "2019-04-03T12:15:00"
         },
         {
          "differential": 0.002083333333333333,
          "time": "2019-04-03T12:23:00"
         },
         {
          "differential": 0.0033333333333333335,
          "time": "2019-04-03T12:28:00"
         },
         {
          "differential": 0.0006666666666666666,
          "time": "2019-04-03T12:53:00"
         },
         {
          "differential": 0.0011111111111111111,
          "time": "2019-04-03T13:08:00"
         },
         {
          "differential": 0.0011904761904761906,
          "time": "2019-04-03T13:22:00"
         },
         {
          "differential": 0.0015151515151515152,
          "time": "2019-04-03T13:33:00"
         },
         {
          "differential": 0.00027322404371584694,
          "time": "2019-04-03T14:34:00"
         },
         {
          "differential": 0.0005555555555555556,
          "time": "2019-04-03T15:04:00"
         },
         {
          "differential": 0.002083333333333333,
          "time": "2019-04-03T15:12:00"
         },
         {
          "differential": 0.0015151515151515152,
          "time": "2019-04-03T15:23:00"
         },
         {
          "differential": 0.001851851851851852,
          "time": "2019-04-03T15:32:00"
         },
         {
          "differential": 0.000196078431372549,
          "time": "2019-04-03T16:57:00"
         },
         {
          "differential": 6.105006105006105e-05,
          "time": "2019-04-03T21:30:00"
         },
         {
          "differential": 0.002380952380952381,
          "time": "2019-04-03T21:37:00"
         },
         {
          "differential": 2.3084025854108955e-05,
          "time": "2019-04-04T09:39:00"
         },
         {
          "differential": 0.00011415525114155251,
          "time": "2019-04-04T12:05:00"
         },
         {
          "differential": 6.887052341597796e-05,
          "time": "2019-04-04T16:07:00"
         },
         {
          "differential": 0.0001016260162601626,
          "time": "2019-04-04T18:51:00"
         },
         {
          "differential": 0.0016666666666666668,
          "time": "2019-04-04T19:01:00"
         },
         {
          "differential": 0.008333333333333331,
          "time": "2019-04-04T19:03:00"
         },
         {
          "differential": 0.00012165450121654502,
          "time": "2019-04-04T21:20:00"
         },
         {
          "differential": 0.0001377410468319559,
          "time": "2019-04-04T23:21:00"
         },
         {
          "differential": 3.2808398950131226e-05,
          "time": "2019-04-05T07:49:00"
         },
         {
          "differential": 0.0001344086021505376,
          "time": "2019-04-05T09:53:00"
         },
         {
          "differential": 0.00016181229773462783,
          "time": "2019-04-05T11:36:00"
         },
         {
          "differential": 0.0001243781094527363,
          "time": "2019-04-05T13:50:00"
         },
         {
          "differential": 4.99001996007984e-05,
          "time": "2019-04-05T19:24:00"
         },
         {
          "differential": 2.962962962962963e-05,
          "time": "2019-04-06T14:09:00"
         },
         {
          "differential": 6.485084306095978e-05,
          "time": "2019-04-06T18:26:00"
         },
         {
          "differential": 1.413627367825841e-05,
          "time": "2019-04-07T14:05:00"
         },
         {
          "differential": 5.359056806002143e-05,
          "time": "2019-04-07T19:16:00"
         },
         {
          "differential": 6.640106241699867e-05,
          "time": "2019-04-07T23:27:00"
         },
         {
          "differential": 2.5484199796126402e-05,
          "time": "2019-04-08T10:21:00"
         },
         {
          "differential": 0.0001893939393939394,
          "time": "2019-04-08T11:49:00"
         },
         {
          "differential": 5.9101654846335695e-05,
          "time": "2019-04-08T16:31:00"
         },
         {
          "differential": 8.960573476702509e-05,
          "time": "2019-04-08T19:37:00"
         },
         {
          "differential": 0.008333333333333331,
          "time": "2019-04-08T19:39:00"
         },
         {
          "differential": 6.915629322268326e-05,
          "time": "2019-04-08T23:40:00"
         },
         {
          "differential": 2.844141069397042e-05,
          "time": "2019-04-09T09:26:00"
         },
         {
          "differential": 0.0007575757575757576,
          "time": "2019-04-09T09:48:00"
         },
         {
          "differential": 0.001851851851851852,
          "time": "2019-04-09T09:57:00"
         },
         {
          "differential": 0.016666666666666663,
          "time": "2019-04-09T09:58:00"
         },
         {
          "differential": 0.002083333333333333,
          "time": "2019-04-09T10:06:00"
         },
         {
          "differential": 0.004166666666666666,
          "time": "2019-04-09T10:10:00"
         },
         {
          "differential": 0.0033333333333333335,
          "time": "2019-04-09T10:15:00"
         },
         {
          "differential": 0.000925925925925926,
          "time": "2019-04-09T10:33:00"
         },
         {
          "differential": 0.0015151515151515152,
          "time": "2019-04-09T10:44:00"
         },
         {
          "differential": 0.001851851851851852,
          "time": "2019-04-09T10:53:00"
         },
         {
          "differential": null,
          "time": "2019-04-09T10:53:00"
         },
         {
          "differential": 0.001282051282051282,
          "time": "2019-04-09T11:06:00"
         },
         {
          "differential": 0.0007936507936507937,
          "time": "2019-04-09T11:27:00"
         },
         {
          "differential": 0.011111111111111112,
          "time": "2019-04-09T11:30:00"
         },
         {
          "differential": 0.001388888888888889,
          "time": "2019-04-09T11:42:00"
         },
         {
          "differential": 0.00013661202185792347,
          "time": "2019-04-09T13:44:00"
         },
         {
          "differential": 0.008333333333333331,
          "time": "2019-04-09T13:46:00"
         },
         {
          "differential": 0.001388888888888889,
          "time": "2019-04-09T13:58:00"
         },
         {
          "differential": 0.002083333333333333,
          "time": "2019-04-09T14:06:00"
         },
         {
          "differential": 0.00037037037037037035,
          "time": "2019-04-09T14:51:00"
         },
         {
          "differential": 0.0003875968992248062,
          "time": "2019-04-09T15:34:00"
         },
         {
          "differential": 0.0011111111111111111,
          "time": "2019-04-09T15:49:00"
         },
         {
          "differential": 0.0007575757575757576,
          "time": "2019-04-09T16:11:00"
         },
         {
          "differential": 0.008333333333333331,
          "time": "2019-04-09T16:13:00"
         },
         {
          "differential": 0.004166666666666666,
          "time": "2019-04-09T16:17:00"
         },
         {
          "differential": 0.0033333333333333335,
          "time": "2019-04-09T16:22:00"
         },
         {
          "differential": 0.00022831050228310502,
          "time": "2019-04-09T17:35:00"
         },
         {
          "differential": 0.00025641025641025636,
          "time": "2019-04-09T18:40:00"
         },
         {
          "differential": 9.057971014492754e-05,
          "time": "2019-04-09T21:44:00"
         },
         {
          "differential": 2.3180343069077424e-05,
          "time": "2019-04-10T09:43:00"
         },
         {
          "differential": 0.0004761904761904762,
          "time": "2019-04-10T10:18:00"
         },
         {
          "differential": 0.00034722222222222224,
          "time": "2019-04-10T11:06:00"
         },
         {
          "differential": 0.0002688172043010752,
          "time": "2019-04-10T12:08:00"
         },
         {
          "differential": 0.004166666666666666,
          "time": "2019-04-10T12:12:00"
         },
         {
          "differential": null,
          "time": "2019-04-10T12:12:00"
         },
         {
          "differential": 0.005555555555555556,
          "time": "2019-04-10T12:15:00"
         },
         {
          "differential": 0.002083333333333333,
          "time": "2019-04-10T12:23:00"
         },
         {
          "differential": 0.0011111111111111111,
          "time": "2019-04-10T12:38:00"
         },
         {
          "differential": 0.001282051282051282,
          "time": "2019-04-10T12:51:00"
         },
         {
          "differential": 0.002777777777777778,
          "time": "2019-04-10T12:57:00"
         },
         {
          "differential": 0.004166666666666666,
          "time": "2019-04-10T13:01:00"
         },
         {
          "differential": 0.005555555555555556,
          "time": "2019-04-10T13:04:00"
         },
         {
          "differential": 0.0033333333333333335,
          "time": "2019-04-10T13:09:00"
         },
         {
          "differential": 0.016666666666666663,
          "time": "2019-04-10T13:10:00"
         },
         {
          "differential": 0.002380952380952381,
          "time": "2019-04-10T13:17:00"
         },
         {
          "differential": 0.0011111111111111111,
          "time": "2019-04-10T13:32:00"
         },
         {
          "differential": 0.002777777777777778,
          "time": "2019-04-10T13:38:00"
         },
         {
          "differential": 0.0011904761904761906,
          "time": "2019-04-10T13:52:00"
         },
         {
          "differential": 0.001282051282051282,
          "time": "2019-04-10T14:05:00"
         },
         {
          "differential": 0.0011111111111111111,
          "time": "2019-04-10T14:20:00"
         },
         {
          "differential": 0.001282051282051282,
          "time": "2019-04-10T14:33:00"
         },
         {
          "differential": 0.0005208333333333332,
          "time": "2019-04-10T15:05:00"
         },
         {
          "differential": 0.0015151515151515152,
          "time": "2019-04-10T15:16:00"
         },
         {
          "differential": 0.0006944444444444445,
          "time": "2019-04-10T15:40:00"
         },
         {
          "differential": 0.0015151515151515152,
          "time": "2019-04-10T15:51:00"
         },
         {
          "differential": 0.005555555555555556,
          "time": "2019-04-10T15:54:00"
         },
         {
          "differential": 0.008333333333333331,
          "time": "2019-04-10T15:56:00"
         },
         {
          "differential": 0.002083333333333333,
          "time": "2019-04-10T16:04:00"
         },
         {
          "differential": 0.000641025641025641,
          "time": "2019-04-10T16:30:00"
         },
         {
          "differential": 0.0004385964912280702,
          "time": "2019-04-10T17:08:00"
         },
         {
          "differential": 0.0005555555555555556,
          "time": "2019-04-10T17:38:00"
         },
         {
          "differential": 0.000462962962962963,
          "time": "2019-04-10T18:14:00"
         },
         {
          "differential": 0.004166666666666666,
          "time": "2019-04-10T18:18:00"
         },
         {
          "differential": 0.0016666666666666668,
          "time": "2019-04-10T18:28:00"
         },
         {
          "differential": 0.0003401360544217687,
          "time": "2019-04-10T19:17:00"
         },
         {
          "differential": 0.0003205128205128205,
          "time": "2019-04-10T20:09:00"
         },
         {
          "differential": 0.0001355013550135501,
          "time": "2019-04-10T22:12:00"
         },
         {
          "differential": 0.0004761904761904762,
          "time": "2019-04-10T22:47:00"
         },
         {
          "differential": 0.00037037037037037035,
          "time": "2019-04-10T23:32:00"
         },
         {
          "differential": 2.7012425715829283e-05,
          "time": "2019-04-11T09:49:00"
         },
         {
          "differential": 0.002777777777777778,
          "time": "2019-04-11T09:55:00"
         },
         {
          "differential": 0.0006666666666666666,
          "time": "2019-04-11T10:20:00"
         },
         {
          "differential": 0.001282051282051282,
          "time": "2019-04-11T10:33:00"
         },
         {
          "differential": 0.0008333333333333334,
          "time": "2019-04-11T10:53:00"
         },
         {
          "differential": 0.00034722222222222224,
          "time": "2019-04-11T11:41:00"
         },
         {
          "differential": 0.0003875968992248062,
          "time": "2019-04-11T12:24:00"
         },
         {
          "differential": 0.001388888888888889,
          "time": "2019-04-11T12:36:00"
         },
         {
          "differential": 0.002083333333333333,
          "time": "2019-04-11T12:44:00"
         },
         {
          "differential": 0.016666666666666663,
          "time": "2019-04-11T12:45:00"
         },
         {
          "differential": 0.008333333333333331,
          "time": "2019-04-11T12:47:00"
         },
         {
          "differential": 0.0006172839506172839,
          "time": "2019-04-11T13:14:00"
         },
         {
          "differential": 0.002777777777777778,
          "time": "2019-04-11T13:20:00"
         },
         {
          "differential": 0.00020833333333333335,
          "time": "2019-04-11T14:40:00"
         },
         {
          "differential": 0.0008333333333333334,
          "time": "2019-04-11T15:00:00"
         },
         {
          "differential": 0.0007936507936507937,
          "time": "2019-04-11T15:21:00"
         },
         {
          "differential": 0.0010416666666666664,
          "time": "2019-04-11T15:37:00"
         },
         {
          "differential": 0.0003787878787878788,
          "time": "2019-04-11T16:21:00"
         },
         {
          "differential": 0.00011990407673860912,
          "time": "2019-04-11T18:40:00"
         },
         {
          "differential": 0.00020576131687242798,
          "time": "2019-04-11T20:01:00"
         },
         {
          "differential": 0.00011820330969267139,
          "time": "2019-04-11T22:22:00"
         },
         {
          "differential": 0.001282051282051282,
          "time": "2019-04-11T22:35:00"
         },
         {
          "differential": 0.0006944444444444445,
          "time": "2019-04-11T22:59:00"
         },
         {
          "differential": 0.00015151515151515152,
          "time": "2019-04-12T00:49:00"
         },
         {
          "differential": 4.374453193350831e-05,
          "time": "2019-04-12T07:10:00"
         },
         {
          "differential": 0.00010615711252653928,
          "time": "2019-04-12T09:47:00"
         },
         {
          "differential": 0.0005555555555555556,
          "time": "2019-04-12T10:17:00"
         },
         {
          "differential": 0.00021367521367521368,
          "time": "2019-04-12T11:35:00"
         },
         {
          "differential": 0.00025252525252525247,
          "time": "2019-04-12T12:41:00"
         },
         {
          "differential": 0.005555555555555556,
          "time": "2019-04-12T12:44:00"
         },
         {
          "differential": 0.0002777777777777778,
          "time": "2019-04-12T13:44:00"
         },
         {
          "differential": 0.0008771929824561404,
          "time": "2019-04-12T14:03:00"
         },
         {
          "differential": 0.0033333333333333335,
          "time": "2019-04-12T14:08:00"
         },
         {
          "differential": 0.0006666666666666666,
          "time": "2019-04-12T14:33:00"
         },
         {
          "differential": 0.0007936507936507937,
          "time": "2019-04-12T14:54:00"
         },
         {
          "differential": 0.0008333333333333334,
          "time": "2019-04-12T15:14:00"
         },
         {
          "differential": 0.0005555555555555556,
          "time": "2019-04-12T15:44:00"
         },
         {
          "differential": 0.00015015015015015014,
          "time": "2019-04-12T17:35:00"
         },
         {
          "differential": 0.016666666666666663,
          "time": "2019-04-12T17:36:00"
         },
         {
          "differential": 0.001282051282051282,
          "time": "2019-04-12T17:49:00"
         },
         {
          "differential": 0.0015151515151515152,
          "time": "2019-04-12T18:00:00"
         },
         {
          "differential": 6.510416666666665e-05,
          "time": "2019-04-12T22:16:00"
         },
         {
          "differential": 0.00015576323987538941,
          "time": "2019-04-13T00:03:00"
         },
         {
          "differential": 0.0001529051987767584,
          "time": "2019-04-13T01:52:00"
         },
         {
          "differential": 0.00018726591760299626,
          "time": "2019-04-13T03:21:00"
         },
         {
          "differential": 5.9101654846335695e-05,
          "time": "2019-04-13T08:03:00"
         },
         {
          "differential": 0.00015723270440251572,
          "time": "2019-04-13T09:49:00"
         },
         {
          "differential": 0.000641025641025641,
          "time": "2019-04-13T10:15:00"
         },
         {
          "differential": 4.374453193350831e-05,
          "time": "2019-04-13T22:57:00"
         },
         {
          "differential": 0.00010752688172043011,
          "time": "2019-04-14T01:32:00"
         },
         {
          "differential": 1.4442518775274408e-05,
          "time": "2019-04-14T20:46:00"
         },
         {
          "differential": 7.936507936507937e-05,
          "time": "2019-04-15T00:16:00"
         },
         {
          "differential": 2.8835063437139562e-05,
          "time": "2019-04-15T09:54:00"
         },
         {
          "differential": 0.00022522522522522523,
          "time": "2019-04-15T11:08:00"
         },
         {
          "differential": 0.005555555555555556,
          "time": "2019-04-15T11:11:00"
         },
         {
          "differential": 0.016666666666666663,
          "time": "2019-04-15T11:12:00"
         },
         {
          "differential": 0.016666666666666663,
          "time": "2019-04-15T11:13:00"
         },
         {
          "differential": 0.001388888888888889,
          "time": "2019-04-15T11:25:00"
         },
         {
          "differential": 0.000980392156862745,
          "time": "2019-04-15T11:42:00"
         },
         {
          "differential": 0.0007936507936507937,
          "time": "2019-04-15T12:03:00"
         },
         {
          "differential": 0.002380952380952381,
          "time": "2019-04-15T12:10:00"
         },
         {
          "differential": 0.008333333333333331,
          "time": "2019-04-15T12:12:00"
         },
         {
          "differential": 0.000925925925925926,
          "time": "2019-04-15T12:30:00"
         },
         {
          "differential": 0.002777777777777778,
          "time": "2019-04-15T12:36:00"
         },
         {
          "differential": 0.0007575757575757576,
          "time": "2019-04-15T12:58:00"
         },
         {
          "differential": 0.00042735042735042735,
          "time": "2019-04-15T13:37:00"
         },
         {
          "differential": 0.002083333333333333,
          "time": "2019-04-15T13:45:00"
         },
         {
          "differential": 0.0003546099290780142,
          "time": "2019-04-15T14:32:00"
         },
         {
          "differential": 0.0007936507936507937,
          "time": "2019-04-15T14:53:00"
         },
         {
          "differential": 0.0002688172043010752,
          "time": "2019-04-15T15:55:00"
         },
         {
          "differential": null,
          "time": "2019-04-15T15:55:00"
         },
         {
          "differential": 0.0002109704641350211,
          "time": "2019-04-15T17:14:00"
         },
         {
          "differential": 0.00012820512820512818,
          "time": "2019-04-15T19:24:00"
         },
         {
          "differential": 0.0002380952380952381,
          "time": "2019-04-15T20:34:00"
         },
         {
          "differential": 2.249212775528565e-05,
          "time": "2019-04-16T08:55:00"
         },
         {
          "differential": 0.0005952380952380953,
          "time": "2019-04-16T09:23:00"
         },
         {
          "differential": 0.0003205128205128205,
          "time": "2019-04-16T10:15:00"
         },
         {
          "differential": 0.0033333333333333335,
          "time": "2019-04-16T10:20:00"
         },
         {
          "differential": 0.008333333333333331,
          "time": "2019-04-16T10:22:00"
         },
         {
          "differential": 0.004166666666666666,
          "time": "2019-04-16T10:26:00"
         },
         {
          "differential": 0.008333333333333331,
          "time": "2019-04-16T10:28:00"
         },
         {
          "differential": 0.002777777777777778,
          "time": "2019-04-16T10:34:00"
         },
         {
          "differential": 0.002777777777777778,
          "time": "2019-04-16T10:40:00"
         },
         {
          "differential": 0.0010416666666666664,
          "time": "2019-04-16T10:56:00"
         },
         {
          "differential": 0.005555555555555556,
          "time": "2019-04-16T10:59:00"
         },
         {
          "differential": 0.0011111111111111111,
          "time": "2019-04-16T11:14:00"
         },
         {
          "differential": 0.002380952380952381,
          "time": "2019-04-16T11:21:00"
         },
         {
          "differential": null,
          "time": "2019-04-16T11:21:00"
         },
         {
          "differential": 0.008333333333333331,
          "time": "2019-04-16T11:23:00"
         },
         {
          "differential": 0.001851851851851852,
          "time": "2019-04-16T11:32:00"
         },
         {
          "differential": 0.002777777777777778,
          "time": "2019-04-16T11:38:00"
         },
         {
          "differential": 0.004166666666666666,
          "time": "2019-04-16T11:42:00"
         },
         {
          "differential": 0.0008333333333333334,
          "time": "2019-04-16T12:02:00"
         },
         {
          "differential": 0.0003875968992248062,
          "time": "2019-04-16T12:45:00"
         },
         {
          "differential": 0.000462962962962963,
          "time": "2019-04-16T13:21:00"
         },
         {
          "differential": 0.0007246376811594203,
          "time": "2019-04-16T13:44:00"
         },
         {
          "differential": 0.0008771929824561404,
          "time": "2019-04-16T14:03:00"
         },
         {
          "differential": 0.0007936507936507937,
          "time": "2019-04-16T14:24:00"
         },
         {
          "differential": 0.000641025641025641,
          "time": "2019-04-16T14:50:00"
         },
         {
          "differential": 0.001851851851851852,
          "time": "2019-04-16T14:59:00"
         },
         {
          "differential": 0.001282051282051282,
          "time": "2019-04-16T15:12:00"
         },
         {
          "differential": 0.0005050505050505049,
          "time": "2019-04-16T15:45:00"
         },
         {
          "differential": 0.0015151515151515152,
          "time": "2019-04-16T15:56:00"
         },
         {
          "differential": 0.000326797385620915,
          "time": "2019-04-16T16:47:00"
         },
         {
          "differential": 0.002380952380952381,
          "time": "2019-04-16T16:54:00"
         },
         {
          "differential": 0.00024509803921568627,
          "time": "2019-04-16T18:02:00"
         },
         {
          "differential": 0.001851851851851852,
          "time": "2019-04-16T18:11:00"
         },
         {
          "differential": 0.000326797385620915,
          "time": "2019-04-16T19:02:00"
         },
         {
          "differential": 0.00017006802721088434,
          "time": "2019-04-16T20:40:00"
         },
         {
          "differential": 2.5214321734745334e-05,
          "time": "2019-04-17T07:41:00"
         },
         {
          "differential": 0.0001984126984126984,
          "time": "2019-04-17T09:05:00"
         },
         {
          "differential": 0.00030303030303030303,
          "time": "2019-04-17T10:00:00"
         },
         {
          "differential": 0.0008771929824561404,
          "time": "2019-04-17T10:19:00"
         },
         {
          "differential": 0.0011494252873563218,
          "time": "2019-04-17T10:48:00"
         },
         {
          "differential": 0.0006944444444444445,
          "time": "2019-04-17T11:36:00"
         },
         {
          "differential": 0.002083333333333333,
          "time": "2019-04-17T11:44:00"
         },
         {
          "differential": 0.0006944444444444445,
          "time": "2019-04-17T12:08:00"
         },
         {
          "differential": 0.008333333333333331,
          "time": "2019-04-17T12:10:00"
         },
         {
          "differential": null,
          "time": "2019-04-17T12:10:00"
         },
         {
          "differential": 0.016666666666666663,
          "time": "2019-04-17T12:11:00"
         },
         {
          "differential": 0.016666666666666663,
          "time": "2019-04-17T12:12:00"
         },
         {
          "differential": null,
          "time": "2019-04-17T12:12:00"
         },
         {
          "differential": 0.002380952380952381,
          "time": "2019-04-17T12:19:00"
         },
         {
          "differential": 0.008333333333333331,
          "time": "2019-04-17T12:21:00"
         },
         {
          "differential": 0.005555555555555556,
          "time": "2019-04-17T12:24:00"
         },
         {
          "differential": 0.002777777777777778,
          "time": "2019-04-17T12:30:00"
         },
         {
          "differential": 0.002083333333333333,
          "time": "2019-04-17T12:38:00"
         },
         {
          "differential": 0.002083333333333333,
          "time": "2019-04-17T12:46:00"
         },
         {
          "differential": 0.016666666666666663,
          "time": "2019-04-17T12:47:00"
         },
         {
          "differential": 0.008333333333333331,
          "time": "2019-04-17T12:49:00"
         },
         {
          "differential": 0.0005050505050505049,
          "time": "2019-04-17T13:22:00"
         },
         {
          "differential": 0.002777777777777778,
          "time": "2019-04-17T13:28:00"
         },
         {
          "differential": 0.0015151515151515152,
          "time": "2019-04-17T13:39:00"
         },
         {
          "differential": 0.0005050505050505049,
          "time": "2019-04-17T14:12:00"
         },
         {
          "differential": 0.001851851851851852,
          "time": "2019-04-17T14:21:00"
         },
         {
          "differential": 0.008333333333333331,
          "time": "2019-04-17T14:23:00"
         },
         {
          "differential": 0.004166666666666666,
          "time": "2019-04-17T14:27:00"
         },
         {
          "differential": 0.008333333333333331,
          "time": "2019-04-17T14:29:00"
         },
         {
          "differential": 0.0033333333333333335,
          "time": "2019-04-17T14:39:00"
         },
         {
          "differential": 0.001388888888888889,
          "time": "2019-04-17T14:51:00"
         },
         {
          "differential": 0.0007575757575757576,
          "time": "2019-04-17T15:13:00"
         },
         {
          "differential": 0.008333333333333331,
          "time": "2019-04-17T15:15:00"
         },
         {
          "differential": 0.002380952380952381,
          "time": "2019-04-17T15:22:00"
         },
         {
          "differential": 0.0033333333333333335,
          "time": "2019-04-17T15:27:00"
         },
         {
          "differential": 0.0033333333333333335,
          "time": "2019-04-17T15:32:00"
         },
         {
          "differential": null,
          "time": "2019-04-17T15:32:00"
         },
         {
          "differential": 0.0016666666666666668,
          "time": "2019-04-17T15:42:00"
         },
         {
          "differential": 0.000980392156862745,
          "time": "2019-04-17T15:59:00"
         },
         {
          "differential": 0.000392156862745098,
          "time": "2019-04-17T17:24:00"
         },
         {
          "differential": 0.0005747126436781609,
          "time": "2019-04-17T17:53:00"
         },
         {
          "differential": 0.000641025641025641,
          "time": "2019-04-17T18:19:00"
         },
         {
          "differential": 0.0002688172043010752,
          "time": "2019-04-17T19:21:00"
         },
         {
          "differential": 0.00012820512820512818,
          "time": "2019-04-17T21:31:00"
         },
         {
          "differential": 3.0637254901960784e-05,
          "time": "2019-04-18T06:35:00"
         },
         {
          "differential": 0.00042735042735042735,
          "time": "2019-04-18T07:14:00"
         },
         {
          "differential": 0.00013661202185792347,
          "time": "2019-04-18T09:16:00"
         },
         {
          "differential": 0.00014619883040935673,
          "time": "2019-04-18T11:10:00"
         },
         {
          "differential": 0.000462962962962963,
          "time": "2019-04-18T11:46:00"
         },
         {
          "differential": 0.00010615711252653928,
          "time": "2019-04-18T14:23:00"
         },
         {
          "differential": 0.002777777777777778,
          "time": "2019-04-18T14:29:00"
         },
         {
          "differential": 0.0002487562189054726,
          "time": "2019-04-18T15:36:00"
         },
         {
          "differential": 0.008333333333333331,
          "time": "2019-04-18T15:38:00"
         },
         {
          "differential": 0.002777777777777778,
          "time": "2019-04-18T15:44:00"
         },
         {
          "differential": 0.002777777777777778,
          "time": "2019-04-18T15:50:00"
         },
         {
          "differential": 0.0011904761904761906,
          "time": "2019-04-18T16:04:00"
         },
         {
          "differential": 0.0005050505050505049,
          "time": "2019-04-18T16:37:00"
         },
         {
          "differential": 0.005555555555555556,
          "time": "2019-04-18T16:40:00"
         },
         {
          "differential": 0.0033333333333333335,
          "time": "2019-04-18T16:45:00"
         },
         {
          "differential": 0.016666666666666663,
          "time": "2019-04-18T16:46:00"
         },
         {
          "differential": 0.000925925925925926,
          "time": "2019-04-18T17:04:00"
         },
         {
          "differential": null,
          "time": "2019-04-18T17:04:00"
         },
         {
          "differential": 0.002083333333333333,
          "time": "2019-04-18T17:12:00"
         },
         {
          "differential": 0.0003205128205128205,
          "time": "2019-04-18T18:04:00"
         },
         {
          "differential": 0.002380952380952381,
          "time": "2019-04-18T18:11:00"
         },
         {
          "differential": 0.0033333333333333335,
          "time": "2019-04-18T18:16:00"
         },
         {
          "differential": 0.0006944444444444445,
          "time": "2019-04-18T18:40:00"
         },
         {
          "differential": 0.0005050505050505049,
          "time": "2019-04-18T19:13:00"
         },
         {
          "differential": 0.00031446540880503143,
          "time": "2019-04-18T20:06:00"
         },
         {
          "differential": 0.002083333333333333,
          "time": "2019-04-18T20:14:00"
         },
         {
          "differential": 0.00013227513227513226,
          "time": "2019-04-18T22:20:00"
         },
         {
          "differential": 0.0004166666666666667,
          "time": "2019-04-18T23:00:00"
         },
         {
          "differential": 0.0004166666666666667,
          "time": "2019-04-18T23:40:00"
         },
         {
          "differential": 0.0007575757575757576,
          "time": "2019-04-19T00:02:00"
         },
         {
          "differential": 0.000925925925925926,
          "time": "2019-04-19T00:20:00"
         },
         {
          "differential": 0.00019157088122605365,
          "time": "2019-04-19T01:47:00"
         },
         {
          "differential": 4.219409282700422e-05,
          "time": "2019-04-19T08:22:00"
         },
         {
          "differential": 0.0004761904761904762,
          "time": "2019-04-19T08:57:00"
         },
         {
          "differential": 0.0033333333333333335,
          "time": "2019-04-19T09:02:00"
         },
         {
          "differential": 0.0005747126436781609,
          "time": "2019-04-19T09:31:00"
         },
         {
          "differential": 0.0006944444444444445,
          "time": "2019-04-19T09:55:00"
         },
         {
          "differential": 0.00010683760683760684,
          "time": "2019-04-19T12:31:00"
         },
         {
          "differential": 0.016666666666666663,
          "time": "2019-04-19T12:32:00"
         },
         {
          "differential": 0.00037037037037037035,
          "time": "2019-04-19T13:17:00"
         },
         {
          "differential": 0.0006172839506172839,
          "time": "2019-04-19T13:44:00"
         },
         {
          "differential": 0.004166666666666666,
          "time": "2019-04-19T13:48:00"
         },
         {
          "differential": null,
          "time": "2019-04-19T13:48:00"
         },
         {
          "differential": 0.0007246376811594203,
          "time": "2019-04-19T14:11:00"
         },
         {
          "differential": 0.0001312335958005249,
          "time": "2019-04-19T16:18:00"
         },
         {
          "differential": 8.960573476702509e-05,
          "time": "2019-04-19T19:24:00"
         },
         {
          "differential": 2.0678246484698098e-05,
          "time": "2019-04-20T08:50:00"
         },
         {
          "differential": 0.0001388888888888889,
          "time": "2019-04-20T10:50:00"
         },
         {
          "differential": 0.00015723270440251572,
          "time": "2019-04-20T12:36:00"
         },
         {
          "differential": 0.002380952380952381,
          "time": "2019-04-20T12:43:00"
         },
         {
          "differential": 0.0033333333333333335,
          "time": "2019-04-20T12:48:00"
         },
         {
          "differential": 4.240882103477523e-05,
          "time": "2019-04-20T19:21:00"
         },
         {
          "differential": 6.242197253433208e-05,
          "time": "2019-04-20T23:48:00"
         },
         {
          "differential": 4.110152075626798e-05,
          "time": "2019-04-21T13:19:00"
         },
         {
          "differential": 5.020080321285141e-05,
          "time": "2019-04-21T18:51:00"
         },
         {
          "differential": 1.853911753800519e-05,
          "time": "2019-04-22T09:50:00"
         },
         {
          "differential": 0.000980392156862745,
          "time": "2019-04-22T10:07:00"
         },
         {
          "differential": 0.016666666666666663,
          "time": "2019-04-22T10:08:00"
         },
         {
          "differential": 0.001851851851851852,
          "time": "2019-04-22T10:17:00"
         },
         {
          "differential": 0.008333333333333331,
          "time": "2019-04-22T10:19:00"
         },
         {
          "differential": 0.002777777777777778,
          "time": "2019-04-22T10:25:00"
         },
         {
          "differential": null,
          "time": "2019-04-22T10:25:00"
         },
         {
          "differential": 0.0016666666666666668,
          "time": "2019-04-22T10:35:00"
         },
         {
          "differential": 0.005555555555555556,
          "time": "2019-04-22T10:38:00"
         },
         {
          "differential": 0.008333333333333331,
          "time": "2019-04-22T10:40:00"
         },
         {
          "differential": 0.005555555555555556,
          "time": "2019-04-22T10:43:00"
         },
         {
          "differential": 0.008333333333333331,
          "time": "2019-04-22T10:45:00"
         },
         {
          "differential": 0.002777777777777778,
          "time": "2019-04-22T10:51:00"
         },
         {
          "differential": 0.002777777777777778,
          "time": "2019-04-22T10:57:00"
         },
         {
          "differential": 0.016666666666666663,
          "time": "2019-04-22T10:58:00"
         },
         {
          "differential": null,
          "time": "2019-04-22T10:58:00"
         },
         {
          "differential": 0.016666666666666663,
          "time": "2019-04-22T10:59:00"
         },
         {
          "differential": 0.004166666666666666,
          "time": "2019-04-22T11:03:00"
         },
         {
          "differential": 0.005555555555555556,
          "time": "2019-04-22T11:06:00"
         },
         {
          "differential": 0.005555555555555556,
          "time": "2019-04-22T11:09:00"
         },
         {
          "differential": 0.005555555555555556,
          "time": "2019-04-22T11:12:00"
         },
         {
          "differential": 0.005555555555555556,
          "time": "2019-04-22T11:15:00"
         },
         {
          "differential": 0.001851851851851852,
          "time": "2019-04-22T11:24:00"
         },
         {
          "differential": 0.0033333333333333335,
          "time": "2019-04-22T11:29:00"
         }
        ]
       },
       "encoding": {
        "x": {
         "field": "time",
         "type": "temporal"
        },
        "y": {
         "field": "differential",
         "type": "quantitative"
        }
       },
       "mark": "line",
       "width": 600
      },
      "image/png": "[encoded data removed]",
      "text/plain": [
       "<VegaLite 2 object>\n",
       "\n",
       "If you see this message, it means the renderer has not been properly enabled\n",
       "for the frontend that you are using. For more information, see\n",
       "https://altair-viz.github.io/user_guide/troubleshooting.html\n"
      ]
     },
     "execution_count": 6,
     "metadata": {},
     "output_type": "execute_result"
    }
   ],
   "source": [
    "alt.Chart(dummy).properties(width=600).mark_line().encode(\n",
    "    x='time',\n",
    "    y='differential'\n",
    ")"
   ]
  },
  {
   "cell_type": "code",
   "execution_count": 7,
   "metadata": {},
   "outputs": [
    {
     "data": {
      "text/html": [
       "<div>\n",
       "<style scoped>\n",
       "    .dataframe tbody tr th:only-of-type {\n",
       "        vertical-align: middle;\n",
       "    }\n",
       "\n",
       "    .dataframe tbody tr th {\n",
       "        vertical-align: top;\n",
       "    }\n",
       "\n",
       "    .dataframe thead th {\n",
       "        text-align: right;\n",
       "    }\n",
       "</style>\n",
       "<table border=\"1\" class=\"dataframe\">\n",
       "  <thead>\n",
       "    <tr style=\"text-align: right;\">\n",
       "      <th></th>\n",
       "      <th>institution</th>\n",
       "      <th>time</th>\n",
       "      <th>differential</th>\n",
       "    </tr>\n",
       "  </thead>\n",
       "  <tbody>\n",
       "    <tr>\n",
       "      <th>4</th>\n",
       "      <td>CUNY</td>\n",
       "      <td>2019-03-19 16:45:00</td>\n",
       "      <td>0.001389</td>\n",
       "    </tr>\n",
       "    <tr>\n",
       "      <th>5</th>\n",
       "      <td>CUNY</td>\n",
       "      <td>2019-03-20 12:58:00</td>\n",
       "      <td>0.000014</td>\n",
       "    </tr>\n",
       "    <tr>\n",
       "      <th>6</th>\n",
       "      <td>CUNY</td>\n",
       "      <td>2019-03-24 23:46:00</td>\n",
       "      <td>0.000003</td>\n",
       "    </tr>\n",
       "    <tr>\n",
       "      <th>7</th>\n",
       "      <td>CUNY</td>\n",
       "      <td>2019-03-24 23:48:00</td>\n",
       "      <td>0.008333</td>\n",
       "    </tr>\n",
       "    <tr>\n",
       "      <th>8</th>\n",
       "      <td>CUNY</td>\n",
       "      <td>2019-03-25 07:25:00</td>\n",
       "      <td>0.000036</td>\n",
       "    </tr>\n",
       "  </tbody>\n",
       "</table>\n",
       "</div>"
      ],
      "text/plain": [
       "  institution                time  differential\n",
       "4        CUNY 2019-03-19 16:45:00      0.001389\n",
       "5        CUNY 2019-03-20 12:58:00      0.000014\n",
       "6        CUNY 2019-03-24 23:46:00      0.000003\n",
       "7        CUNY 2019-03-24 23:48:00      0.008333\n",
       "8        CUNY 2019-03-25 07:25:00      0.000036"
      ]
     },
     "execution_count": 7,
     "metadata": {},
     "output_type": "execute_result"
    }
   ],
   "source": [
    "differentials =  df.groupby('institution').apply(\n",
    "    lambda group: pd.concat([group['time'], group['counts'].diff()/ df['time'].diff().dt.total_seconds()], axis=1)\n",
    ").reset_index().dropna().rename(columns={0:'differential'})\\\n",
    ".loc[:,['institution', 'time', 'differential']]\n",
    "differentials.head()"
   ]
  },
  {
   "cell_type": "code",
   "execution_count": 8,
   "metadata": {},
   "outputs": [
    {
     "data": {
      "application/vnd.vegalite.v2+json": {
       "$schema": "https://vega.github.io/schema/vega-lite/v2.6.0.json",
       "config": {
        "view": {
         "height": 300,
         "width": 400
        }
       },
       "data": {
        "name": "data-61712eeab06eda00aea25c107e567eaa"
       },
       "datasets": {
        "data-61712eeab06eda00aea25c107e567eaa": [
         {
          "differential": 0.001388888888888889,
          "institution": "CUNY",
          "time": "2019-03-19T16:45:00"
         },
         {
          "differential": 1.3740038472107723e-05,
          "institution": "CUNY",
          "time": "2019-03-20T12:58:00"
         },
         {
          "differential": 2.600915522263837e-06,
          "institution": "CUNY",
          "time": "2019-03-24T23:46:00"
         },
         {
          "differential": 0.008333333333333331,
          "institution": "CUNY",
          "time": "2019-03-24T23:48:00"
         },
         {
          "differential": 3.646973012399708e-05,
          "institution": "CUNY",
          "time": "2019-03-25T07:25:00"
         },
         {
          "differential": 0.008333333333333331,
          "institution": "CUNY",
          "time": "2019-03-25T09:08:00"
         },
         {
          "differential": 0.016666666666666663,
          "institution": "CUNY",
          "time": "2019-03-25T09:12:00"
         },
         {
          "differential": 0.008333333333333331,
          "institution": "CUNY",
          "time": "2019-03-25T09:16:00"
         },
         {
          "differential": 0.008333333333333331,
          "institution": "CUNY",
          "time": "2019-03-25T09:24:00"
         },
         {
          "differential": 0.008333333333333331,
          "institution": "CUNY",
          "time": "2019-03-25T13:03:00"
         },
         {
          "differential": 0.0033333333333333335,
          "institution": "CUNY",
          "time": "2019-03-25T13:22:00"
         },
         {
          "differential": 0.001282051282051282,
          "institution": "CUNY",
          "time": "2019-03-25T14:29:00"
         },
         {
          "differential": null,
          "institution": "CUNY",
          "time": "2019-03-25T17:12:00"
         },
         {
          "differential": 0.0005208333333333332,
          "institution": "CUNY",
          "time": "2019-03-25T19:09:00"
         },
         {
          "differential": 0.008333333333333331,
          "institution": "CUNY",
          "time": "2019-03-26T16:48:00"
         },
         {
          "differential": 0.0001272264631043257,
          "institution": "CUNY",
          "time": "2019-03-27T18:22:00"
         },
         {
          "differential": 0.0033333333333333335,
          "institution": "CUNY",
          "time": "2019-03-28T09:31:00"
         },
         {
          "differential": 0.005555555555555556,
          "institution": "CUNY",
          "time": "2019-03-30T23:03:00"
         },
         {
          "differential": 0.001282051282051282,
          "institution": "CUNY",
          "time": "2019-04-01T14:53:00"
         },
         {
          "differential": 0.016666666666666663,
          "institution": "CUNY",
          "time": "2019-04-02T09:09:00"
         },
         {
          "differential": 0.004166666666666666,
          "institution": "CUNY",
          "time": "2019-04-02T10:30:00"
         },
         {
          "differential": 0.0002645502645502645,
          "institution": "CUNY",
          "time": "2019-04-02T12:45:00"
         },
         {
          "differential": 0.0033333333333333335,
          "institution": "CUNY",
          "time": "2019-04-03T12:28:00"
         },
         {
          "differential": 0.0001243781094527363,
          "institution": "CUNY",
          "time": "2019-04-05T13:50:00"
         },
         {
          "differential": 5.9101654846335695e-05,
          "institution": "CUNY",
          "time": "2019-04-08T16:31:00"
         },
         {
          "differential": 0.0007575757575757576,
          "institution": "CUNY",
          "time": "2019-04-09T09:48:00"
         },
         {
          "differential": 0.016666666666666663,
          "institution": "CUNY",
          "time": "2019-04-09T09:58:00"
         },
         {
          "differential": 0.00022831050228310502,
          "institution": "CUNY",
          "time": "2019-04-09T17:35:00"
         },
         {
          "differential": 0.0003875968992248062,
          "institution": "CUNY",
          "time": "2019-04-11T12:24:00"
         },
         {
          "differential": 0.0006172839506172839,
          "institution": "CUNY",
          "time": "2019-04-11T13:14:00"
         },
         {
          "differential": 0.0008333333333333334,
          "institution": "CUNY",
          "time": "2019-04-11T15:00:00"
         },
         {
          "differential": 0.00021367521367521368,
          "institution": "CUNY",
          "time": "2019-04-12T11:35:00"
         },
         {
          "differential": 0.005555555555555556,
          "institution": "CUNY",
          "time": "2019-04-12T12:44:00"
         },
         {
          "differential": 0.0008771929824561404,
          "institution": "CUNY",
          "time": "2019-04-12T14:03:00"
         },
         {
          "differential": 0.0033333333333333335,
          "institution": "CUNY",
          "time": "2019-04-12T14:08:00"
         },
         {
          "differential": 0.000641025641025641,
          "institution": "CUNY (CCNY)",
          "time": "2019-04-17T18:19:00"
         },
         {
          "differential": 3.0637254901960784e-05,
          "institution": "CUNY (CCNY)",
          "time": "2019-04-18T06:35:00"
         },
         {
          "differential": 0.00042735042735042735,
          "institution": "CUNY (CCNY)",
          "time": "2019-04-18T07:14:00"
         },
         {
          "differential": 0.002777777777777778,
          "institution": "CUNY (CCNY)",
          "time": "2019-04-18T14:29:00"
         },
         {
          "differential": 0.005555555555555556,
          "institution": "CUNY (CCNY)",
          "time": "2019-04-18T16:40:00"
         },
         {
          "differential": 0.0005050505050505049,
          "institution": "CUNY (CCNY)",
          "time": "2019-04-18T19:13:00"
         },
         {
          "differential": 0.00019157088122605365,
          "institution": "CUNY (CCNY)",
          "time": "2019-04-19T01:47:00"
         },
         {
          "differential": 8.960573476702509e-05,
          "institution": "CUNY (CCNY)",
          "time": "2019-04-19T19:24:00"
         },
         {
          "differential": 2.0678246484698098e-05,
          "institution": "CUNY (CCNY)",
          "time": "2019-04-20T08:50:00"
         },
         {
          "differential": 4.240882103477523e-05,
          "institution": "CUNY (CCNY)",
          "time": "2019-04-20T19:21:00"
         },
         {
          "differential": 0.016666666666666663,
          "institution": "CUNY (CCNY)",
          "time": "2019-04-22T10:08:00"
         },
         {
          "differential": 0.008333333333333331,
          "institution": "Columbia",
          "time": "2019-03-25T09:20:00"
         },
         {
          "differential": 0.001388888888888889,
          "institution": "Columbia",
          "time": "2019-03-25T09:54:00"
         },
         {
          "differential": 0.0016666666666666668,
          "institution": "Columbia",
          "time": "2019-03-25T10:56:00"
         },
         {
          "differential": 0.008333333333333331,
          "institution": "Columbia",
          "time": "2019-03-25T11:14:00"
         },
         {
          "differential": 0.0033333333333333335,
          "institution": "Columbia",
          "time": "2019-03-25T12:10:00"
         },
         {
          "differential": 0.004166666666666666,
          "institution": "Columbia",
          "time": "2019-03-25T12:15:00"
         },
         {
          "differential": 0.0033333333333333335,
          "institution": "Columbia",
          "time": "2019-03-25T13:01:00"
         },
         {
          "differential": 0.001851851851851852,
          "institution": "Columbia",
          "time": "2019-03-25T14:59:00"
         },
         {
          "differential": 0.0033333333333333335,
          "institution": "Columbia",
          "time": "2019-03-25T15:05:00"
         },
         {
          "differential": null,
          "institution": "Columbia",
          "time": "2019-03-25T15:05:00"
         },
         {
          "differential": 0.016666666666666663,
          "institution": "Columbia",
          "time": "2019-03-25T15:06:00"
         },
         {
          "differential": 0.001851851851851852,
          "institution": "Columbia",
          "time": "2019-03-25T15:57:00"
         },
         {
          "differential": 0.000925925925925926,
          "institution": "Columbia",
          "time": "2019-03-25T16:34:00"
         },
         {
          "differential": 0.005555555555555556,
          "institution": "Columbia",
          "time": "2019-03-25T16:45:00"
         },
         {
          "differential": 0.008333333333333331,
          "institution": "Columbia",
          "time": "2019-03-25T16:47:00"
         },
         {
          "differential": 0.016666666666666663,
          "institution": "Columbia",
          "time": "2019-03-25T16:48:00"
         },
         {
          "differential": null,
          "institution": "Columbia",
          "time": "2019-03-25T16:54:00"
         },
         {
          "differential": 0.001851851851851852,
          "institution": "Columbia",
          "time": "2019-03-25T17:03:00"
         },
         {
          "differential": 0.016666666666666663,
          "institution": "Columbia",
          "time": "2019-03-25T17:04:00"
         },
         {
          "differential": 0.004166666666666666,
          "institution": "Columbia",
          "time": "2019-03-25T17:23:00"
         },
         {
          "differential": 0.016666666666666663,
          "institution": "Columbia",
          "time": "2019-03-25T18:01:00"
         },
         {
          "differential": 0.008333333333333331,
          "institution": "Columbia",
          "time": "2019-03-25T18:11:00"
         },
         {
          "differential": 0.008333333333333331,
          "institution": "Columbia",
          "time": "2019-03-25T18:13:00"
         },
         {
          "differential": 0.008333333333333331,
          "institution": "Columbia",
          "time": "2019-03-25T21:14:00"
         },
         {
          "differential": 0.002380952380952381,
          "institution": "Columbia",
          "time": "2019-03-25T21:49:00"
         },
         {
          "differential": 6.830601092896174e-05,
          "institution": "Columbia",
          "time": "2019-03-26T04:04:00"
         },
         {
          "differential": null,
          "institution": "Columbia",
          "time": "2019-03-26T09:50:00"
         },
         {
          "differential": 0.016666666666666663,
          "institution": "Columbia",
          "time": "2019-03-26T15:09:00"
         },
         {
          "differential": 0.00037037037037037035,
          "institution": "Columbia",
          "time": "2019-03-26T18:20:00"
         },
         {
          "differential": 0.002777777777777778,
          "institution": "Columbia",
          "time": "2019-03-26T18:26:00"
         },
         {
          "differential": 0.002380952380952381,
          "institution": "Columbia",
          "time": "2019-03-26T22:52:00"
         },
         {
          "differential": 0.000980392156862745,
          "institution": "Columbia",
          "time": "2019-03-27T10:00:00"
         },
         {
          "differential": 0.00030303030303030303,
          "institution": "Columbia",
          "time": "2019-03-27T13:03:00"
         },
         {
          "differential": 0.00017361111111111112,
          "institution": "Columbia",
          "time": "2019-03-27T19:58:00"
         },
         {
          "differential": 0.0033333333333333335,
          "institution": "Columbia",
          "time": "2019-03-28T10:13:00"
         },
         {
          "differential": 3.367003367003367e-05,
          "institution": "Columbia",
          "time": "2019-03-29T01:02:00"
         },
         {
          "differential": 0.000196078431372549,
          "institution": "Columbia",
          "time": "2019-03-29T13:43:00"
         },
         {
          "differential": 5.574136008918618e-05,
          "institution": "Columbia",
          "time": "2019-03-30T23:00:00"
         },
         {
          "differential": 0.0005050505050505049,
          "institution": "Columbia",
          "time": "2019-04-01T13:25:00"
         },
         {
          "differential": 0.0011111111111111111,
          "institution": "Columbia",
          "time": "2019-04-01T15:08:00"
         },
         {
          "differential": 0.016666666666666663,
          "institution": "Columbia",
          "time": "2019-04-01T17:21:00"
         },
         {
          "differential": 0.008333333333333331,
          "institution": "Columbia",
          "time": "2019-04-01T17:23:00"
         },
         {
          "differential": 0.002777777777777778,
          "institution": "Columbia",
          "time": "2019-04-02T11:22:00"
         },
         {
          "differential": 0.0011111111111111111,
          "institution": "Columbia",
          "time": "2019-04-02T19:39:00"
         },
         {
          "differential": 0.00024509803921568627,
          "institution": "Columbia",
          "time": "2019-04-02T23:44:00"
         },
         {
          "differential": 0.0001016260162601626,
          "institution": "Columbia",
          "time": "2019-04-04T18:51:00"
         },
         {
          "differential": 0.0016666666666666668,
          "institution": "Columbia",
          "time": "2019-04-04T19:01:00"
         },
         {
          "differential": 0.008333333333333331,
          "institution": "Columbia",
          "time": "2019-04-04T19:03:00"
         },
         {
          "differential": 0.0001377410468319559,
          "institution": "Columbia",
          "time": "2019-04-04T23:21:00"
         },
         {
          "differential": 8.960573476702509e-05,
          "institution": "Columbia",
          "time": "2019-04-08T19:37:00"
         },
         {
          "differential": 0.008333333333333331,
          "institution": "Columbia",
          "time": "2019-04-08T19:39:00"
         },
         {
          "differential": 0.0033333333333333335,
          "institution": "Columbia",
          "time": "2019-04-09T10:15:00"
         },
         {
          "differential": null,
          "institution": "Columbia",
          "time": "2019-04-09T10:53:00"
         },
         {
          "differential": 0.001388888888888889,
          "institution": "Columbia",
          "time": "2019-04-09T11:42:00"
         },
         {
          "differential": 0.008333333333333331,
          "institution": "Columbia",
          "time": "2019-04-09T13:46:00"
         },
         {
          "differential": 0.0003875968992248062,
          "institution": "Columbia",
          "time": "2019-04-09T15:34:00"
         },
         {
          "differential": 0.000641025641025641,
          "institution": "Columbia",
          "time": "2019-04-10T16:30:00"
         },
         {
          "differential": 0.0004761904761904762,
          "institution": "Columbia",
          "time": "2019-04-10T22:47:00"
         },
         {
          "differential": 0.00034722222222222224,
          "institution": "Columbia",
          "time": "2019-04-11T11:41:00"
         },
         {
          "differential": 0.00020576131687242798,
          "institution": "Columbia",
          "time": "2019-04-11T20:01:00"
         },
         {
          "differential": 0.00015576323987538941,
          "institution": "Columbia",
          "time": "2019-04-13T00:03:00"
         },
         {
          "differential": 0.00018726591760299626,
          "institution": "Columbia",
          "time": "2019-04-13T03:21:00"
         },
         {
          "differential": 5.9101654846335695e-05,
          "institution": "Columbia",
          "time": "2019-04-13T08:03:00"
         },
         {
          "differential": 2.1872265966754154e-05,
          "institution": "Columbia",
          "time": "2019-04-13T22:57:00"
         },
         {
          "differential": 0.00022522522522522523,
          "institution": "Columbia",
          "time": "2019-04-15T11:08:00"
         },
         {
          "differential": 0.005555555555555556,
          "institution": "Columbia",
          "time": "2019-04-15T11:11:00"
         },
         {
          "differential": 0.016666666666666663,
          "institution": "Columbia",
          "time": "2019-04-15T11:12:00"
         },
         {
          "differential": 0.016666666666666663,
          "institution": "Columbia",
          "time": "2019-04-15T11:13:00"
         },
         {
          "differential": 0.001388888888888889,
          "institution": "Columbia",
          "time": "2019-04-15T11:25:00"
         },
         {
          "differential": 0.000980392156862745,
          "institution": "Columbia",
          "time": "2019-04-15T11:42:00"
         },
         {
          "differential": 0.0007936507936507937,
          "institution": "Columbia",
          "time": "2019-04-15T12:03:00"
         },
         {
          "differential": 0.008333333333333331,
          "institution": "Columbia",
          "time": "2019-04-15T12:12:00"
         },
         {
          "differential": 0.000925925925925926,
          "institution": "Columbia",
          "time": "2019-04-15T12:30:00"
         },
         {
          "differential": 0.0007575757575757576,
          "institution": "Columbia",
          "time": "2019-04-15T12:58:00"
         },
         {
          "differential": 0.002083333333333333,
          "institution": "Columbia",
          "time": "2019-04-15T13:45:00"
         },
         {
          "differential": 0.0007936507936507937,
          "institution": "Columbia",
          "time": "2019-04-15T14:53:00"
         },
         {
          "differential": 0.0002688172043010752,
          "institution": "Columbia",
          "time": "2019-04-15T15:55:00"
         },
         {
          "differential": 0.0002109704641350211,
          "institution": "Columbia",
          "time": "2019-04-15T17:14:00"
         },
         {
          "differential": 0.0003205128205128205,
          "institution": "Columbia",
          "time": "2019-04-16T10:15:00"
         },
         {
          "differential": 0.0033333333333333335,
          "institution": "Columbia",
          "time": "2019-04-16T10:20:00"
         },
         {
          "differential": 0.008333333333333331,
          "institution": "Columbia",
          "time": "2019-04-16T11:23:00"
         },
         {
          "differential": 0.0007936507936507937,
          "institution": "Columbia",
          "time": "2019-04-16T14:24:00"
         },
         {
          "differential": 0.0005050505050505049,
          "institution": "Columbia",
          "time": "2019-04-16T15:45:00"
         },
         {
          "differential": 0.0008771929824561404,
          "institution": "Columbia",
          "time": "2019-04-17T10:19:00"
         },
         {
          "differential": 0.0006944444444444445,
          "institution": "Columbia",
          "time": "2019-04-17T12:08:00"
         },
         {
          "differential": 0.008333333333333331,
          "institution": "Columbia",
          "time": "2019-04-17T12:10:00"
         },
         {
          "differential": null,
          "institution": "Columbia",
          "time": "2019-04-17T12:10:00"
         },
         {
          "differential": 0.016666666666666663,
          "institution": "Columbia",
          "time": "2019-04-17T12:11:00"
         },
         {
          "differential": 0.016666666666666663,
          "institution": "Columbia",
          "time": "2019-04-17T12:12:00"
         },
         {
          "differential": null,
          "institution": "Columbia",
          "time": "2019-04-17T12:12:00"
         },
         {
          "differential": 0.002380952380952381,
          "institution": "Columbia",
          "time": "2019-04-17T12:19:00"
         },
         {
          "differential": 0.008333333333333331,
          "institution": "Columbia",
          "time": "2019-04-17T12:21:00"
         },
         {
          "differential": 0.005555555555555556,
          "institution": "Columbia",
          "time": "2019-04-17T12:24:00"
         },
         {
          "differential": 0.002777777777777778,
          "institution": "Columbia",
          "time": "2019-04-17T12:30:00"
         },
         {
          "differential": 0.002083333333333333,
          "institution": "Columbia",
          "time": "2019-04-17T12:38:00"
         },
         {
          "differential": 0.002083333333333333,
          "institution": "Columbia",
          "time": "2019-04-17T12:46:00"
         },
         {
          "differential": 0.0005050505050505049,
          "institution": "Columbia",
          "time": "2019-04-17T13:22:00"
         },
         {
          "differential": 0.002777777777777778,
          "institution": "Columbia",
          "time": "2019-04-17T13:28:00"
         },
         {
          "differential": 0.0015151515151515152,
          "institution": "Columbia",
          "time": "2019-04-17T13:39:00"
         },
         {
          "differential": 0.001851851851851852,
          "institution": "Columbia",
          "time": "2019-04-17T14:21:00"
         },
         {
          "differential": 0.008333333333333331,
          "institution": "Columbia",
          "time": "2019-04-17T14:23:00"
         },
         {
          "differential": 0.004166666666666666,
          "institution": "Columbia",
          "time": "2019-04-17T14:27:00"
         },
         {
          "differential": 0.008333333333333331,
          "institution": "Columbia",
          "time": "2019-04-17T14:29:00"
         },
         {
          "differential": 0.001388888888888889,
          "institution": "Columbia",
          "time": "2019-04-17T14:51:00"
         },
         {
          "differential": 0.008333333333333331,
          "institution": "Columbia",
          "time": "2019-04-17T15:15:00"
         },
         {
          "differential": 0.0033333333333333335,
          "institution": "Columbia",
          "time": "2019-04-17T15:27:00"
         },
         {
          "differential": 0.0033333333333333335,
          "institution": "Columbia",
          "time": "2019-04-17T15:32:00"
         },
         {
          "differential": null,
          "institution": "Columbia",
          "time": "2019-04-17T15:32:00"
         },
         {
          "differential": 0.000980392156862745,
          "institution": "Columbia",
          "time": "2019-04-17T15:59:00"
         },
         {
          "differential": 0.0002688172043010752,
          "institution": "Columbia",
          "time": "2019-04-17T19:21:00"
         },
         {
          "differential": 0.00014619883040935673,
          "institution": "Columbia",
          "time": "2019-04-18T11:10:00"
         },
         {
          "differential": 0.000462962962962963,
          "institution": "Columbia",
          "time": "2019-04-18T11:46:00"
         },
         {
          "differential": 0.0002487562189054726,
          "institution": "Columbia",
          "time": "2019-04-18T15:36:00"
         },
         {
          "differential": 0.008333333333333331,
          "institution": "Columbia",
          "time": "2019-04-18T15:38:00"
         },
         {
          "differential": 0.002777777777777778,
          "institution": "Columbia",
          "time": "2019-04-18T15:44:00"
         },
         {
          "differential": 0.002777777777777778,
          "institution": "Columbia",
          "time": "2019-04-18T15:50:00"
         },
         {
          "differential": 0.0011904761904761906,
          "institution": "Columbia",
          "time": "2019-04-18T16:04:00"
         },
         {
          "differential": 0.0033333333333333335,
          "institution": "Columbia",
          "time": "2019-04-18T16:45:00"
         },
         {
          "differential": 0.000925925925925926,
          "institution": "Columbia",
          "time": "2019-04-18T17:04:00"
         },
         {
          "differential": 0.002083333333333333,
          "institution": "Columbia",
          "time": "2019-04-18T17:12:00"
         },
         {
          "differential": 0.0003205128205128205,
          "institution": "Columbia",
          "time": "2019-04-18T18:04:00"
         },
         {
          "differential": 0.002380952380952381,
          "institution": "Columbia",
          "time": "2019-04-18T18:11:00"
         },
         {
          "differential": 0.0004166666666666667,
          "institution": "Columbia",
          "time": "2019-04-18T23:40:00"
         },
         {
          "differential": 0.0007575757575757576,
          "institution": "Columbia",
          "time": "2019-04-19T00:02:00"
         },
         {
          "differential": 4.219409282700422e-05,
          "institution": "Columbia",
          "time": "2019-04-19T08:22:00"
         },
         {
          "differential": 0.00010683760683760684,
          "institution": "Columbia",
          "time": "2019-04-19T12:31:00"
         },
         {
          "differential": 0.00037037037037037035,
          "institution": "Columbia",
          "time": "2019-04-19T13:17:00"
         },
         {
          "differential": 0.0006172839506172839,
          "institution": "Columbia",
          "time": "2019-04-19T13:44:00"
         },
         {
          "differential": 0.004166666666666666,
          "institution": "Columbia",
          "time": "2019-04-19T13:48:00"
         },
         {
          "differential": null,
          "institution": "Columbia",
          "time": "2019-04-19T13:48:00"
         },
         {
          "differential": 0.0007246376811594203,
          "institution": "Columbia",
          "time": "2019-04-19T14:11:00"
         },
         {
          "differential": 0.0001312335958005249,
          "institution": "Columbia",
          "time": "2019-04-19T16:18:00"
         },
         {
          "differential": 2.055076037813399e-05,
          "institution": "Columbia",
          "time": "2019-04-21T13:19:00"
         },
         {
          "differential": 0.002777777777777778,
          "institution": "Columbia",
          "time": "2019-04-22T10:57:00"
         },
         {
          "differential": 0.005555555555555556,
          "institution": "Columbia",
          "time": "2019-04-22T11:12:00"
         },
         {
          "differential": 0.008333333333333331,
          "institution": "Einstein",
          "time": "2019-03-25T09:11:00"
         },
         {
          "differential": 0.008333333333333331,
          "institution": "Einstein",
          "time": "2019-03-25T09:22:00"
         },
         {
          "differential": 0.005555555555555556,
          "institution": "Einstein",
          "time": "2019-03-25T09:42:00"
         },
         {
          "differential": 0.0033333333333333335,
          "institution": "Einstein",
          "time": "2019-03-25T09:59:00"
         },
         {
          "differential": 0.001282051282051282,
          "institution": "Einstein",
          "time": "2019-03-25T11:57:00"
         },
         {
          "differential": null,
          "institution": "Einstein",
          "time": "2019-03-25T11:57:00"
         },
         {
          "differential": 0.0015151515151515152,
          "institution": "Einstein",
          "time": "2019-03-25T15:17:00"
         },
         {
          "differential": 0.002083333333333333,
          "institution": "Einstein",
          "time": "2019-03-25T15:38:00"
         },
         {
          "differential": 0.005555555555555556,
          "institution": "Einstein",
          "time": "2019-03-25T17:12:00"
         },
         {
          "differential": 0.001851851851851852,
          "institution": "Einstein",
          "time": "2019-03-26T09:59:00"
         },
         {
          "differential": 0.005555555555555556,
          "institution": "Einstein",
          "time": "2019-03-26T12:10:00"
         },
         {
          "differential": 0.0033333333333333335,
          "institution": "Einstein",
          "time": "2019-03-26T14:50:00"
         },
         {
          "differential": 0.002083333333333333,
          "institution": "Einstein",
          "time": "2019-03-26T17:05:00"
         },
         {
          "differential": 0.0016666666666666668,
          "institution": "Einstein",
          "time": "2019-03-27T13:49:00"
         },
         {
          "differential": 0.00037037037037037035,
          "institution": "Einstein",
          "time": "2019-03-27T16:11:00"
         },
         {
          "differential": 0.0002192982456140351,
          "institution": "Einstein",
          "time": "2019-03-29T20:30:00"
         },
         {
          "differential": 0.00012626262626262624,
          "institution": "Einstein",
          "time": "2019-04-01T17:20:00"
         },
         {
          "differential": 0.002380952380952381,
          "institution": "Einstein",
          "time": "2019-04-02T10:15:00"
         },
         {
          "differential": 0.008333333333333331,
          "institution": "Einstein",
          "time": "2019-04-02T10:17:00"
         },
         {
          "differential": 0.001851851851851852,
          "institution": "Einstein",
          "time": "2019-04-02T10:26:00"
         },
         {
          "differential": 0.000980392156862745,
          "institution": "Einstein",
          "time": "2019-04-02T11:16:00"
         },
         {
          "differential": 0.002083333333333333,
          "institution": "Einstein",
          "time": "2019-04-03T15:12:00"
         },
         {
          "differential": 0.000196078431372549,
          "institution": "Einstein",
          "time": "2019-04-03T16:57:00"
         },
         {
          "differential": 6.887052341597796e-05,
          "institution": "Einstein",
          "time": "2019-04-04T16:07:00"
         },
         {
          "differential": 0.001282051282051282,
          "institution": "Einstein",
          "time": "2019-04-09T11:06:00"
         },
         {
          "differential": 0.001388888888888889,
          "institution": "Einstein",
          "time": "2019-04-09T13:58:00"
         },
         {
          "differential": 0.0011111111111111111,
          "institution": "Einstein",
          "time": "2019-04-09T15:49:00"
         },
         {
          "differential": 0.008333333333333331,
          "institution": "Einstein",
          "time": "2019-04-09T16:13:00"
         },
         {
          "differential": 0.0004761904761904762,
          "institution": "Einstein",
          "time": "2019-04-10T10:18:00"
         },
         {
          "differential": 0.002777777777777778,
          "institution": "Einstein",
          "time": "2019-04-10T13:38:00"
         },
         {
          "differential": 0.0005208333333333332,
          "institution": "Einstein",
          "time": "2019-04-10T15:05:00"
         },
         {
          "differential": 0.0004385964912280702,
          "institution": "Einstein",
          "time": "2019-04-10T17:08:00"
         },
         {
          "differential": 0.0008333333333333334,
          "institution": "Einstein",
          "time": "2019-04-11T10:53:00"
         },
         {
          "differential": 0.0003787878787878788,
          "institution": "Einstein",
          "time": "2019-04-11T16:21:00"
         },
         {
          "differential": 0.0006666666666666666,
          "institution": "Einstein",
          "time": "2019-04-12T14:33:00"
         },
         {
          "differential": 0.000641025641025641,
          "institution": "Einstein",
          "time": "2019-04-16T14:50:00"
         },
         {
          "differential": 0.00034722222222222224,
          "institution": "Einstein",
          "time": "2019-04-17T11:36:00"
         },
         {
          "differential": 0.00012820512820512818,
          "institution": "Einstein",
          "time": "2019-04-17T21:31:00"
         },
         {
          "differential": 0.0033333333333333335,
          "institution": "Einstein",
          "time": "2019-04-22T11:29:00"
         },
         {
          "differential": 0.001282051282051282,
          "institution": "MSKCC",
          "time": "2019-03-25T15:30:00"
         },
         {
          "differential": 0.016666666666666663,
          "institution": "MSKCC",
          "time": "2019-03-26T10:09:00"
         },
         {
          "differential": 0.008333333333333331,
          "institution": "MSKCC",
          "time": "2019-03-26T10:21:00"
         },
         {
          "differential": 0.016666666666666663,
          "institution": "MSKCC",
          "time": "2019-03-26T10:22:00"
         },
         {
          "differential": null,
          "institution": "MSKCC",
          "time": "2019-03-26T10:22:00"
         },
         {
          "differential": 0.002777777777777778,
          "institution": "MSKCC",
          "time": "2019-03-26T10:28:00"
         },
         {
          "differential": 0.005555555555555556,
          "institution": "MSKCC",
          "time": "2019-03-26T12:50:00"
         },
         {
          "differential": 0.002380952380952381,
          "institution": "MSKCC",
          "time": "2019-03-26T13:11:00"
         },
         {
          "differential": 0.0005376344086021504,
          "institution": "MSKCC",
          "time": "2019-03-26T16:32:00"
         },
         {
          "differential": 8.333333333333333e-05,
          "institution": "MSKCC",
          "time": "2019-03-26T21:49:00"
         },
         {
          "differential": 0.002380952380952381,
          "institution": "MSKCC",
          "time": "2019-03-26T21:56:00"
         },
         {
          "differential": 0.00036231884057971015,
          "institution": "MSKCC",
          "time": "2019-03-27T14:35:00"
         },
         {
          "differential": 0.0004761904761904762,
          "institution": "MSKCC",
          "time": "2019-04-02T09:44:00"
         },
         {
          "differential": 0.0002777777777777778,
          "institution": "MSKCC",
          "time": "2019-04-02T14:12:00"
         },
         {
          "differential": 0.001282051282051282,
          "institution": "MSKCC",
          "time": "2019-04-10T14:05:00"
         },
         {
          "differential": 0.0001529051987767584,
          "institution": "MSKCC",
          "time": "2019-04-13T01:52:00"
         },
         {
          "differential": 0.0005952380952380953,
          "institution": "MSKCC",
          "time": "2019-04-16T09:23:00"
         },
         {
          "differential": 0.0005747126436781609,
          "institution": "MSKCC",
          "time": "2019-04-17T10:48:00"
         },
         {
          "differential": null,
          "institution": "Mount Sinai",
          "time": "2019-03-25T09:06:00"
         },
         {
          "differential": 0.008333333333333331,
          "institution": "Mount Sinai",
          "time": "2019-03-25T09:18:00"
         },
         {
          "differential": 0.001388888888888889,
          "institution": "Mount Sinai",
          "time": "2019-03-25T09:36:00"
         },
         {
          "differential": 0.002380952380952381,
          "institution": "Mount Sinai",
          "time": "2019-03-25T10:15:00"
         },
         {
          "differential": 0.0033333333333333335,
          "institution": "Mount Sinai",
          "time": "2019-03-25T10:26:00"
         },
         {
          "differential": 0.008333333333333331,
          "institution": "Mount Sinai",
          "time": "2019-03-25T10:28:00"
         },
         {
          "differential": null,
          "institution": "Mount Sinai",
          "time": "2019-03-25T10:56:00"
         },
         {
          "differential": null,
          "institution": "Mount Sinai",
          "time": "2019-03-25T11:32:00"
         },
         {
          "differential": 0.0010416666666666664,
          "institution": "Mount Sinai",
          "time": "2019-03-25T12:31:00"
         },
         {
          "differential": 0.0033333333333333335,
          "institution": "Mount Sinai",
          "time": "2019-03-25T12:41:00"
         },
         {
          "differential": 0.016666666666666663,
          "institution": "Mount Sinai",
          "time": "2019-03-25T13:17:00"
         },
         {
          "differential": 0.0005555555555555556,
          "institution": "Mount Sinai",
          "time": "2019-03-25T13:52:00"
         },
         {
          "differential": 0.001851851851851852,
          "institution": "Mount Sinai",
          "time": "2019-03-25T14:16:00"
         },
         {
          "differential": 0.002083333333333333,
          "institution": "Mount Sinai",
          "time": "2019-03-25T15:48:00"
         },
         {
          "differential": 0.002777777777777778,
          "institution": "Mount Sinai",
          "time": "2019-03-25T17:33:00"
         },
         {
          "differential": 0.016666666666666663,
          "institution": "Mount Sinai",
          "time": "2019-03-26T10:10:00"
         },
         {
          "differential": 0.016666666666666663,
          "institution": "Mount Sinai",
          "time": "2019-03-26T10:33:00"
         },
         {
          "differential": 0.001851851851851852,
          "institution": "Mount Sinai",
          "time": "2019-03-26T16:57:00"
         },
         {
          "differential": 0.016666666666666663,
          "institution": "Mount Sinai",
          "time": "2019-03-28T15:49:00"
         },
         {
          "differential": 0.001282051282051282,
          "institution": "Mount Sinai",
          "time": "2019-03-28T16:02:00"
         },
         {
          "differential": 0.0005050505050505049,
          "institution": "Mount Sinai",
          "time": "2019-04-01T11:36:00"
         },
         {
          "differential": 3.568879371877231e-05,
          "institution": "Mount Sinai",
          "time": "2019-04-02T08:54:00"
         },
         {
          "differential": 0.008333333333333331,
          "institution": "Mount Sinai",
          "time": "2019-04-02T09:07:00"
         },
         {
          "differential": 0.0033333333333333335,
          "institution": "Mount Sinai",
          "time": "2019-04-02T09:53:00"
         },
         {
          "differential": 0.016666666666666663,
          "institution": "Mount Sinai",
          "time": "2019-04-02T09:54:00"
         },
         {
          "differential": 0.0005747126436781609,
          "institution": "Mount Sinai",
          "time": "2019-04-02T10:59:00"
         },
         {
          "differential": 0.008333333333333331,
          "institution": "Mount Sinai",
          "time": "2019-04-02T12:47:00"
         },
         {
          "differential": 0.0007246376811594203,
          "institution": "Mount Sinai",
          "time": "2019-04-02T15:27:00"
         },
         {
          "differential": 0.00021367521367521368,
          "institution": "Mount Sinai",
          "time": "2019-04-02T18:41:00"
         },
         {
          "differential": 0.0003875968992248062,
          "institution": "Mount Sinai",
          "time": "2019-04-02T19:24:00"
         },
         {
          "differential": 0.0003333333333333333,
          "institution": "Mount Sinai",
          "time": "2019-04-02T20:29:00"
         },
         {
          "differential": 0.0008771929824561404,
          "institution": "Mount Sinai",
          "time": "2019-04-03T10:09:00"
         },
         {
          "differential": 0.0015151515151515152,
          "institution": "Mount Sinai",
          "time": "2019-04-03T10:23:00"
         },
         {
          "differential": 0.002777777777777778,
          "institution": "Mount Sinai",
          "time": "2019-04-03T10:29:00"
         },
         {
          "differential": 0.005555555555555556,
          "institution": "Mount Sinai",
          "time": "2019-04-03T10:32:00"
         },
         {
          "differential": 0.005555555555555556,
          "institution": "Mount Sinai",
          "time": "2019-04-03T10:38:00"
         },
         {
          "differential": 0.0008333333333333334,
          "institution": "Mount Sinai",
          "time": "2019-04-03T10:58:00"
         },
         {
          "differential": 0.005555555555555556,
          "institution": "Mount Sinai",
          "time": "2019-04-03T11:14:00"
         },
         {
          "differential": 0.002777777777777778,
          "institution": "Mount Sinai",
          "time": "2019-04-03T11:53:00"
         },
         {
          "differential": 0.0010416666666666664,
          "institution": "Mount Sinai",
          "time": "2019-04-03T12:09:00"
         },
         {
          "differential": 0.0011904761904761906,
          "institution": "Mount Sinai",
          "time": "2019-04-03T13:22:00"
         },
         {
          "differential": 0.0005555555555555556,
          "institution": "Mount Sinai",
          "time": "2019-04-03T15:04:00"
         },
         {
          "differential": 3.2808398950131226e-05,
          "institution": "Mount Sinai",
          "time": "2019-04-05T07:49:00"
         },
         {
          "differential": 0.0001344086021505376,
          "institution": "Mount Sinai",
          "time": "2019-04-05T09:53:00"
         },
         {
          "differential": 4.99001996007984e-05,
          "institution": "Mount Sinai",
          "time": "2019-04-05T19:24:00"
         },
         {
          "differential": 0.001851851851851852,
          "institution": "Mount Sinai",
          "time": "2019-04-09T09:57:00"
         },
         {
          "differential": 0.001851851851851852,
          "institution": "Mount Sinai",
          "time": "2019-04-09T10:53:00"
         },
         {
          "differential": 0.008333333333333331,
          "institution": "Mount Sinai",
          "time": "2019-04-10T15:56:00"
         },
         {
          "differential": 0.0003401360544217687,
          "institution": "Mount Sinai",
          "time": "2019-04-10T19:17:00"
         },
         {
          "differential": 0.0001355013550135501,
          "institution": "Mount Sinai",
          "time": "2019-04-10T22:12:00"
         },
         {
          "differential": 0.00037037037037037035,
          "institution": "Mount Sinai",
          "time": "2019-04-10T23:32:00"
         },
         {
          "differential": 2.7012425715829283e-05,
          "institution": "Mount Sinai",
          "time": "2019-04-11T09:49:00"
         },
         {
          "differential": 0.0006666666666666666,
          "institution": "Mount Sinai",
          "time": "2019-04-11T10:20:00"
         },
         {
          "differential": 0.0002777777777777778,
          "institution": "Mount Sinai",
          "time": "2019-04-12T13:44:00"
         },
         {
          "differential": 0.0010416666666666664,
          "institution": "Mount Sinai",
          "time": "2019-04-16T10:56:00"
         },
         {
          "differential": 0.005555555555555556,
          "institution": "Mount Sinai",
          "time": "2019-04-16T10:59:00"
         },
         {
          "differential": 0.0011111111111111111,
          "institution": "Mount Sinai",
          "time": "2019-04-16T11:14:00"
         },
         {
          "differential": null,
          "institution": "Mount Sinai",
          "time": "2019-04-16T11:21:00"
         },
         {
          "differential": 0.002777777777777778,
          "institution": "Mount Sinai",
          "time": "2019-04-16T11:38:00"
         },
         {
          "differential": 0.000462962962962963,
          "institution": "Mount Sinai",
          "time": "2019-04-16T13:21:00"
         },
         {
          "differential": 0.001282051282051282,
          "institution": "Mount Sinai",
          "time": "2019-04-16T15:12:00"
         },
         {
          "differential": 0.0001984126984126984,
          "institution": "Mount Sinai",
          "time": "2019-04-17T09:05:00"
         },
         {
          "differential": 0.002380952380952381,
          "institution": "Mount Sinai",
          "time": "2019-04-17T15:22:00"
         },
         {
          "differential": 0.00010615711252653928,
          "institution": "Mount Sinai",
          "time": "2019-04-18T14:23:00"
         },
         {
          "differential": 0.002083333333333333,
          "institution": "Mount Sinai",
          "time": "2019-04-18T20:14:00"
         },
         {
          "differential": 0.0033333333333333335,
          "institution": "Mount Sinai",
          "time": "2019-04-19T09:02:00"
         },
         {
          "differential": 0.008333333333333331,
          "institution": "Mount Sinai",
          "time": "2019-04-22T10:19:00"
         },
         {
          "differential": 0.002777777777777778,
          "institution": "Mount Sinai",
          "time": "2019-04-22T10:25:00"
         },
         {
          "differential": null,
          "institution": "Mount Sinai",
          "time": "2019-04-22T10:25:00"
         },
         {
          "differential": 0.0016666666666666668,
          "institution": "Mount Sinai",
          "time": "2019-04-22T10:35:00"
         },
         {
          "differential": 0.005555555555555556,
          "institution": "Mount Sinai",
          "time": "2019-04-22T10:38:00"
         },
         {
          "differential": 0.008333333333333331,
          "institution": "Mount Sinai",
          "time": "2019-04-22T10:40:00"
         },
         {
          "differential": 0.002777777777777778,
          "institution": "Mount Sinai",
          "time": "2019-04-22T10:51:00"
         },
         {
          "differential": 0.016666666666666663,
          "institution": "Mount Sinai",
          "time": "2019-04-22T10:58:00"
         },
         {
          "differential": null,
          "institution": "Mount Sinai",
          "time": "2019-04-22T10:58:00"
         },
         {
          "differential": 0.005555555555555556,
          "institution": "Mount Sinai",
          "time": "2019-04-22T11:06:00"
         },
         {
          "differential": 0.005555555555555556,
          "institution": "NYU",
          "time": "2019-03-25T09:39:00"
         },
         {
          "differential": 0.002777777777777778,
          "institution": "NYU",
          "time": "2019-03-25T10:21:00"
         },
         {
          "differential": 0.008333333333333331,
          "institution": "NYU",
          "time": "2019-03-25T10:30:00"
         },
         {
          "differential": 0.0010416666666666664,
          "institution": "NYU",
          "time": "2019-03-25T10:46:00"
         },
         {
          "differential": null,
          "institution": "NYU",
          "time": "2019-03-25T10:46:00"
         },
         {
          "differential": null,
          "institution": "NYU",
          "time": "2019-03-25T10:56:00"
         },
         {
          "differential": 0.002083333333333333,
          "institution": "NYU",
          "time": "2019-03-25T11:04:00"
         },
         {
          "differential": 0.0033333333333333335,
          "institution": "NYU",
          "time": "2019-03-25T11:09:00"
         },
         {
          "differential": 0.016666666666666663,
          "institution": "NYU",
          "time": "2019-03-25T11:10:00"
         },
         {
          "differential": 0.016666666666666663,
          "institution": "NYU",
          "time": "2019-03-25T11:11:00"
         },
         {
          "differential": 0.016666666666666663,
          "institution": "NYU",
          "time": "2019-03-25T11:12:00"
         },
         {
          "differential": 0.005555555555555556,
          "institution": "NYU",
          "time": "2019-03-25T11:17:00"
         },
         {
          "differential": 0.008333333333333331,
          "institution": "NYU",
          "time": "2019-03-25T11:19:00"
         },
         {
          "differential": 0.005555555555555556,
          "institution": "NYU",
          "time": "2019-03-25T11:24:00"
         },
         {
          "differential": 0.016666666666666663,
          "institution": "NYU",
          "time": "2019-03-25T11:25:00"
         },
         {
          "differential": 0.016666666666666663,
          "institution": "NYU",
          "time": "2019-03-25T11:26:00"
         },
         {
          "differential": 0.005555555555555556,
          "institution": "NYU",
          "time": "2019-03-25T11:29:00"
         },
         {
          "differential": null,
          "institution": "NYU",
          "time": "2019-03-25T11:29:00"
         },
         {
          "differential": 0.005555555555555556,
          "institution": "NYU",
          "time": "2019-03-25T11:32:00"
         },
         {
          "differential": null,
          "institution": "NYU",
          "time": "2019-03-25T11:32:00"
         },
         {
          "differential": 0.002380952380952381,
          "institution": "NYU",
          "time": "2019-03-25T11:39:00"
         },
         {
          "differential": 0.016666666666666663,
          "institution": "NYU",
          "time": "2019-03-25T12:11:00"
         },
         {
          "differential": 0.016666666666666663,
          "institution": "NYU",
          "time": "2019-03-25T12:44:00"
         },
         {
          "differential": 0.001388888888888889,
          "institution": "NYU",
          "time": "2019-03-25T12:56:00"
         },
         {
          "differential": 0.0033333333333333335,
          "institution": "NYU",
          "time": "2019-03-25T13:08:00"
         },
         {
          "differential": 0.002083333333333333,
          "institution": "NYU",
          "time": "2019-03-25T13:16:00"
         },
         {
          "differential": null,
          "institution": "NYU",
          "time": "2019-03-25T13:17:00"
         },
         {
          "differential": 0.0016666666666666668,
          "institution": "NYU",
          "time": "2019-03-25T14:02:00"
         },
         {
          "differential": 0.016666666666666663,
          "institution": "NYU",
          "time": "2019-03-25T14:30:00"
         },
         {
          "differential": 0.008333333333333331,
          "institution": "NYU",
          "time": "2019-03-25T14:50:00"
         },
         {
          "differential": 0.016666666666666663,
          "institution": "NYU",
          "time": "2019-03-25T15:00:00"
         },
         {
          "differential": 0.008333333333333331,
          "institution": "NYU",
          "time": "2019-03-25T15:40:00"
         },
         {
          "differential": 0.008333333333333331,
          "institution": "NYU",
          "time": "2019-03-25T16:54:00"
         },
         {
          "differential": 0.005555555555555556,
          "institution": "NYU",
          "time": "2019-03-25T17:15:00"
         },
         {
          "differential": 0.004166666666666666,
          "institution": "NYU",
          "time": "2019-03-25T17:27:00"
         },
         {
          "differential": 0.016666666666666663,
          "institution": "NYU",
          "time": "2019-03-25T18:02:00"
         },
         {
          "differential": 0.016666666666666663,
          "institution": "NYU",
          "time": "2019-03-25T18:09:00"
         },
         {
          "differential": 0.0004166666666666667,
          "institution": "NYU",
          "time": "2019-03-25T20:52:00"
         },
         {
          "differential": 0.000980392156862745,
          "institution": "NYU",
          "time": "2019-03-25T21:09:00"
         },
         {
          "differential": 0.005555555555555556,
          "institution": "NYU",
          "time": "2019-03-25T21:12:00"
         },
         {
          "differential": 0.0003875968992248062,
          "institution": "NYU",
          "time": "2019-03-26T00:00:00"
         },
         {
          "differential": 0.00011904761904761905,
          "institution": "NYU",
          "time": "2019-03-26T08:15:00"
         },
         {
          "differential": 0.0011904761904761906,
          "institution": "NYU",
          "time": "2019-03-26T09:28:00"
         },
         {
          "differential": 0.0007575757575757576,
          "institution": "NYU",
          "time": "2019-03-26T09:50:00"
         },
         {
          "differential": null,
          "institution": "NYU",
          "time": "2019-03-26T10:50:00"
         },
         {
          "differential": 0.016666666666666663,
          "institution": "NYU",
          "time": "2019-03-26T12:00:00"
         },
         {
          "differential": 0.005555555555555556,
          "institution": "NYU",
          "time": "2019-03-26T15:08:00"
         },
         {
          "differential": 0.001851851851851852,
          "institution": "NYU",
          "time": "2019-03-26T16:01:00"
         },
         {
          "differential": 0.004166666666666666,
          "institution": "NYU",
          "time": "2019-03-26T22:56:00"
         },
         {
          "differential": 6.242197253433208e-05,
          "institution": "NYU",
          "time": "2019-03-27T08:47:00"
         },
         {
          "differential": 0.0033333333333333335,
          "institution": "NYU",
          "time": "2019-03-27T10:05:00"
         },
         {
          "differential": 0.005555555555555556,
          "institution": "NYU",
          "time": "2019-03-27T11:17:00"
         },
         {
          "differential": 0.000326797385620915,
          "institution": "NYU",
          "time": "2019-03-27T12:08:00"
         },
         {
          "differential": 0.002083333333333333,
          "institution": "NYU",
          "time": "2019-03-27T13:16:00"
         },
         {
          "differential": 0.0011904761904761906,
          "institution": "NYU",
          "time": "2019-03-27T13:30:00"
         },
         {
          "differential": 0.005555555555555556,
          "institution": "NYU",
          "time": "2019-03-28T10:16:00"
         },
         {
          "differential": 0.001282051282051282,
          "institution": "NYU",
          "time": "2019-03-28T10:29:00"
         },
         {
          "differential": 0.00045045045045045046,
          "institution": "NYU",
          "time": "2019-03-28T16:47:00"
         },
         {
          "differential": 0.0003333333333333333,
          "institution": "NYU",
          "time": "2019-03-29T12:11:00"
         },
         {
          "differential": 0.00034722222222222224,
          "institution": "NYU",
          "time": "2019-03-29T19:14:00"
         },
         {
          "differential": 0.0007936507936507937,
          "institution": "NYU",
          "time": "2019-04-01T09:41:00"
         },
         {
          "differential": 0.0033333333333333335,
          "institution": "NYU",
          "time": "2019-04-01T09:46:00"
         },
         {
          "differential": 0.002083333333333333,
          "institution": "NYU",
          "time": "2019-04-01T09:54:00"
         },
         {
          "differential": 0.0007936507936507937,
          "institution": "NYU",
          "time": "2019-04-01T10:15:00"
         },
         {
          "differential": 0.005555555555555556,
          "institution": "NYU",
          "time": "2019-04-01T10:18:00"
         },
         {
          "differential": 0.00045045045045045046,
          "institution": "NYU",
          "time": "2019-04-01T11:03:00"
         },
         {
          "differential": 0.000641025641025641,
          "institution": "NYU",
          "time": "2019-04-01T12:02:00"
         },
         {
          "differential": 0.0006666666666666666,
          "institution": "NYU",
          "time": "2019-04-01T12:27:00"
         },
         {
          "differential": 0.004166666666666666,
          "institution": "NYU",
          "time": "2019-04-01T12:31:00"
         },
         {
          "differential": 0.0007936507936507937,
          "institution": "NYU",
          "time": "2019-04-01T12:52:00"
         },
         {
          "differential": 0.0003333333333333333,
          "institution": "NYU",
          "time": "2019-04-01T14:15:00"
         },
         {
          "differential": 0.0006666666666666666,
          "institution": "NYU",
          "time": "2019-04-01T14:40:00"
         },
         {
          "differential": null,
          "institution": "NYU",
          "time": "2019-04-02T09:07:00"
         },
         {
          "differential": 0.002380952380952381,
          "institution": "NYU",
          "time": "2019-04-02T10:08:00"
         },
         {
          "differential": 0.0008333333333333334,
          "institution": "NYU",
          "time": "2019-04-02T11:42:00"
         },
         {
          "differential": 0.000462962962962963,
          "institution": "NYU",
          "time": "2019-04-02T14:48:00"
         },
         {
          "differential": 0.008333333333333331,
          "institution": "NYU",
          "time": "2019-04-02T14:50:00"
         },
         {
          "differential": 0.0011904761904761906,
          "institution": "NYU",
          "time": "2019-04-02T15:04:00"
         },
         {
          "differential": 0.0001773049645390071,
          "institution": "NYU",
          "time": "2019-04-02T17:01:00"
         },
         {
          "differential": 0.0003401360544217687,
          "institution": "NYU",
          "time": "2019-04-03T09:50:00"
         },
         {
          "differential": 0.005555555555555556,
          "institution": "NYU",
          "time": "2019-04-03T10:35:00"
         },
         {
          "differential": 0.001282051282051282,
          "institution": "NYU",
          "time": "2019-04-03T11:11:00"
         },
         {
          "differential": 0.005555555555555556,
          "institution": "NYU",
          "time": "2019-04-03T11:17:00"
         },
         {
          "differential": 0.002083333333333333,
          "institution": "NYU",
          "time": "2019-04-03T12:23:00"
         },
         {
          "differential": 0.0011111111111111111,
          "institution": "NYU",
          "time": "2019-04-03T13:08:00"
         },
         {
          "differential": 0.0015151515151515152,
          "institution": "NYU",
          "time": "2019-04-03T13:33:00"
         },
         {
          "differential": 0.00027322404371584694,
          "institution": "NYU",
          "time": "2019-04-03T14:34:00"
         },
         {
          "differential": 6.105006105006105e-05,
          "institution": "NYU",
          "time": "2019-04-03T21:30:00"
         },
         {
          "differential": 0.002380952380952381,
          "institution": "NYU",
          "time": "2019-04-03T21:37:00"
         },
         {
          "differential": 2.3084025854108955e-05,
          "institution": "NYU",
          "time": "2019-04-04T09:39:00"
         },
         {
          "differential": 0.00016181229773462783,
          "institution": "NYU",
          "time": "2019-04-05T11:36:00"
         },
         {
          "differential": 1.413627367825841e-05,
          "institution": "NYU",
          "time": "2019-04-07T14:05:00"
         },
         {
          "differential": 2.5484199796126402e-05,
          "institution": "NYU",
          "time": "2019-04-08T10:21:00"
         },
         {
          "differential": 0.002083333333333333,
          "institution": "NYU",
          "time": "2019-04-09T10:06:00"
         },
         {
          "differential": 0.0015151515151515152,
          "institution": "NYU",
          "time": "2019-04-09T10:44:00"
         },
         {
          "differential": 0.00013661202185792347,
          "institution": "NYU",
          "time": "2019-04-09T13:44:00"
         },
         {
          "differential": 0.0007575757575757576,
          "institution": "NYU",
          "time": "2019-04-09T16:11:00"
         },
         {
          "differential": 0.004166666666666666,
          "institution": "NYU",
          "time": "2019-04-09T16:17:00"
         },
         {
          "differential": 9.057971014492754e-05,
          "institution": "NYU",
          "time": "2019-04-09T21:44:00"
         },
         {
          "differential": 0.00034722222222222224,
          "institution": "NYU",
          "time": "2019-04-10T11:06:00"
         },
         {
          "differential": 0.0002688172043010752,
          "institution": "NYU",
          "time": "2019-04-10T12:08:00"
         },
         {
          "differential": 0.004166666666666666,
          "institution": "NYU",
          "time": "2019-04-10T12:12:00"
         },
         {
          "differential": null,
          "institution": "NYU",
          "time": "2019-04-10T12:12:00"
         },
         {
          "differential": 0.005555555555555556,
          "institution": "NYU",
          "time": "2019-04-10T12:15:00"
         },
         {
          "differential": 0.002083333333333333,
          "institution": "NYU",
          "time": "2019-04-10T12:23:00"
         },
         {
          "differential": 0.0011111111111111111,
          "institution": "NYU",
          "time": "2019-04-10T12:38:00"
         },
         {
          "differential": 0.001282051282051282,
          "institution": "NYU",
          "time": "2019-04-10T12:51:00"
         },
         {
          "differential": 0.002777777777777778,
          "institution": "NYU",
          "time": "2019-04-10T12:57:00"
         },
         {
          "differential": 0.004166666666666666,
          "institution": "NYU",
          "time": "2019-04-10T13:01:00"
         },
         {
          "differential": 0.005555555555555556,
          "institution": "NYU",
          "time": "2019-04-10T13:04:00"
         },
         {
          "differential": 0.0033333333333333335,
          "institution": "NYU",
          "time": "2019-04-10T13:09:00"
         },
         {
          "differential": 0.016666666666666663,
          "institution": "NYU",
          "time": "2019-04-10T13:10:00"
         },
         {
          "differential": 0.002380952380952381,
          "institution": "NYU",
          "time": "2019-04-10T13:17:00"
         },
         {
          "differential": 0.0011111111111111111,
          "institution": "NYU",
          "time": "2019-04-10T13:32:00"
         },
         {
          "differential": 0.0011904761904761906,
          "institution": "NYU",
          "time": "2019-04-10T13:52:00"
         },
         {
          "differential": 0.0011111111111111111,
          "institution": "NYU",
          "time": "2019-04-10T14:20:00"
         },
         {
          "differential": 0.001282051282051282,
          "institution": "NYU",
          "time": "2019-04-10T14:33:00"
         },
         {
          "differential": 0.0015151515151515152,
          "institution": "NYU",
          "time": "2019-04-10T15:16:00"
         },
         {
          "differential": 0.0006944444444444445,
          "institution": "NYU",
          "time": "2019-04-10T15:40:00"
         },
         {
          "differential": 0.0015151515151515152,
          "institution": "NYU",
          "time": "2019-04-10T15:51:00"
         },
         {
          "differential": 0.005555555555555556,
          "institution": "NYU",
          "time": "2019-04-10T15:54:00"
         },
         {
          "differential": 0.016666666666666663,
          "institution": "NYU",
          "time": "2019-04-11T12:45:00"
         },
         {
          "differential": 0.002777777777777778,
          "institution": "NYU",
          "time": "2019-04-11T13:20:00"
         },
         {
          "differential": 0.00011990407673860912,
          "institution": "NYU",
          "time": "2019-04-11T18:40:00"
         },
         {
          "differential": 0.00011820330969267139,
          "institution": "NYU",
          "time": "2019-04-11T22:22:00"
         },
         {
          "differential": 0.00010615711252653928,
          "institution": "NYU",
          "time": "2019-04-12T09:47:00"
         },
         {
          "differential": 0.0005555555555555556,
          "institution": "NYU",
          "time": "2019-04-12T10:17:00"
         },
         {
          "differential": 6.510416666666665e-05,
          "institution": "NYU",
          "time": "2019-04-12T22:16:00"
         },
         {
          "differential": 0.008333333333333331,
          "institution": "NYU",
          "time": "2019-04-16T10:22:00"
         },
         {
          "differential": 0.004166666666666666,
          "institution": "NYU",
          "time": "2019-04-16T10:26:00"
         },
         {
          "differential": 0.002777777777777778,
          "institution": "NYU",
          "time": "2019-04-16T10:34:00"
         },
         {
          "differential": 0.004166666666666666,
          "institution": "NYU",
          "time": "2019-04-16T11:42:00"
         },
         {
          "differential": 0.0008333333333333334,
          "institution": "NYU",
          "time": "2019-04-16T12:02:00"
         },
         {
          "differential": 0.0007246376811594203,
          "institution": "NYU",
          "time": "2019-04-16T13:44:00"
         },
         {
          "differential": 0.0008771929824561404,
          "institution": "NYU",
          "time": "2019-04-16T14:03:00"
         },
         {
          "differential": 0.0016666666666666668,
          "institution": "NYU",
          "time": "2019-04-17T14:39:00"
         },
         {
          "differential": 0.0033333333333333335,
          "institution": "NYU",
          "time": "2019-04-18T18:16:00"
         },
         {
          "differential": 0.0006944444444444445,
          "institution": "NYU",
          "time": "2019-04-18T18:40:00"
         },
         {
          "differential": 0.016666666666666663,
          "institution": "NYU",
          "time": "2019-04-19T12:32:00"
         },
         {
          "differential": 0.0033333333333333335,
          "institution": "NYU",
          "time": "2019-04-20T12:48:00"
         },
         {
          "differential": 0.005555555555555556,
          "institution": "NYU",
          "time": "2019-04-22T11:09:00"
         },
         {
          "differential": 0.001851851851851852,
          "institution": "NYU",
          "time": "2019-04-22T11:24:00"
         },
         {
          "differential": 3.0430284218854603e-06,
          "institution": "Non-academic Institution",
          "time": "2019-03-18T14:28:00"
         },
         {
          "differential": 0.00016666666666666666,
          "institution": "Non-academic Institution",
          "time": "2019-03-25T09:05:00"
         },
         {
          "differential": 0.016666666666666663,
          "institution": "Non-academic Institution",
          "time": "2019-03-25T09:09:00"
         },
         {
          "differential": 0.016666666666666663,
          "institution": "Non-academic Institution",
          "time": "2019-03-25T11:20:00"
         },
         {
          "differential": 0.016666666666666663,
          "institution": "Non-academic Institution",
          "time": "2019-03-25T11:44:00"
         },
         {
          "differential": 0.0033333333333333335,
          "institution": "Non-academic Institution",
          "time": "2019-03-25T12:36:00"
         },
         {
          "differential": 0.008333333333333331,
          "institution": "Non-academic Institution",
          "time": "2019-03-25T12:43:00"
         },
         {
          "differential": 0.005555555555555556,
          "institution": "Non-academic Institution",
          "time": "2019-03-25T16:00:00"
         },
         {
          "differential": 0.016666666666666663,
          "institution": "Non-academic Institution",
          "time": "2019-03-25T16:41:00"
         },
         {
          "differential": 0.016666666666666663,
          "institution": "Non-academic Institution",
          "time": "2019-03-25T16:42:00"
         },
         {
          "differential": 0.008333333333333331,
          "institution": "Non-academic Institution",
          "time": "2019-03-25T16:50:00"
         },
         {
          "differential": 0.008333333333333331,
          "institution": "Non-academic Institution",
          "time": "2019-03-25T16:52:00"
         },
         {
          "differential": null,
          "institution": "Non-academic Institution",
          "time": "2019-03-25T16:54:00"
         },
         {
          "differential": 0.0033333333333333335,
          "institution": "Non-academic Institution",
          "time": "2019-03-25T17:09:00"
         },
         {
          "differential": 0.0011111111111111111,
          "institution": "Non-academic Institution",
          "time": "2019-03-25T17:48:00"
         },
         {
          "differential": 0.008333333333333331,
          "institution": "Non-academic Institution",
          "time": "2019-03-25T17:50:00"
         },
         {
          "differential": 0.0015151515151515152,
          "institution": "Non-academic Institution",
          "time": "2019-03-25T19:51:00"
         },
         {
          "differential": 0.0007936507936507937,
          "institution": "Non-academic Institution",
          "time": "2019-03-25T20:12:00"
         },
         {
          "differential": 0.0005952380952380953,
          "institution": "Non-academic Institution",
          "time": "2019-03-25T21:42:00"
         },
         {
          "differential": 0.0015151515151515152,
          "institution": "Non-academic Institution",
          "time": "2019-03-25T23:03:00"
         },
         {
          "differential": 0.00019157088122605365,
          "institution": "Non-academic Institution",
          "time": "2019-03-26T05:50:00"
         },
         {
          "differential": 0.0033333333333333335,
          "institution": "Non-academic Institution",
          "time": "2019-03-26T05:55:00"
         },
         {
          "differential": 0.008333333333333331,
          "institution": "Non-academic Institution",
          "time": "2019-03-26T10:01:00"
         },
         {
          "differential": 0.004166666666666666,
          "institution": "Non-academic Institution",
          "time": "2019-03-26T12:25:00"
         },
         {
          "differential": 0.008333333333333331,
          "institution": "Non-academic Institution",
          "time": "2019-03-26T15:44:00"
         },
         {
          "differential": 0.0033333333333333335,
          "institution": "Non-academic Institution",
          "time": "2019-03-26T15:52:00"
         },
         {
          "differential": 0.001851851851851852,
          "institution": "Non-academic Institution",
          "time": "2019-03-26T17:14:00"
         },
         {
          "differential": 0.005555555555555556,
          "institution": "Non-academic Institution",
          "time": "2019-03-26T18:29:00"
         },
         {
          "differential": 5.1440329218106995e-05,
          "institution": "Non-academic Institution",
          "time": "2019-03-27T04:20:00"
         },
         {
          "differential": 0.0033333333333333335,
          "institution": "Non-academic Institution",
          "time": "2019-03-27T13:08:00"
         },
         {
          "differential": 0.001851851851851852,
          "institution": "Non-academic Institution",
          "time": "2019-03-27T13:39:00"
         },
         {
          "differential": 0.008333333333333331,
          "institution": "Non-academic Institution",
          "time": "2019-03-27T14:45:00"
         },
         {
          "differential": 0.016666666666666663,
          "institution": "Non-academic Institution",
          "time": "2019-03-27T21:05:00"
         },
         {
          "differential": 0.00018315018315018315,
          "institution": "Non-academic Institution",
          "time": "2019-03-27T22:36:00"
         },
         {
          "differential": 0.001388888888888889,
          "institution": "Non-academic Institution",
          "time": "2019-03-28T09:43:00"
         },
         {
          "differential": 0.0033333333333333335,
          "institution": "Non-academic Institution",
          "time": "2019-03-28T09:48:00"
         },
         {
          "differential": 0.0008333333333333334,
          "institution": "Non-academic Institution",
          "time": "2019-03-28T10:08:00"
         },
         {
          "differential": 0.002083333333333333,
          "institution": "Non-academic Institution",
          "time": "2019-03-28T10:42:00"
         },
         {
          "differential": 0.00024509803921568627,
          "institution": "Non-academic Institution",
          "time": "2019-03-28T11:59:00"
         },
         {
          "differential": 0.00022522522522522523,
          "institution": "Non-academic Institution",
          "time": "2019-03-28T13:13:00"
         },
         {
          "differential": 0.002777777777777778,
          "institution": "Non-academic Institution",
          "time": "2019-03-28T16:09:00"
         },
         {
          "differential": 0.016666666666666663,
          "institution": "Non-academic Institution",
          "time": "2019-03-28T16:10:00"
         },
         {
          "differential": 3.36021505376344e-05,
          "institution": "Non-academic Institution",
          "time": "2019-03-29T09:18:00"
         },
         {
          "differential": 0.004166666666666666,
          "institution": "Non-academic Institution",
          "time": "2019-03-29T09:22:00"
         },
         {
          "differential": 0.00014005602240896358,
          "institution": "Non-academic Institution",
          "time": "2019-03-29T11:21:00"
         },
         {
          "differential": 3.940110323089047e-05,
          "institution": "Non-academic Institution",
          "time": "2019-03-31T06:06:00"
         },
         {
          "differential": 1.4607069821793749e-05,
          "institution": "Non-academic Institution",
          "time": "2019-04-01T09:20:00"
         },
         {
          "differential": 0.002083333333333333,
          "institution": "Non-academic Institution",
          "time": "2019-04-01T10:26:00"
         },
         {
          "differential": 0.0007575757575757576,
          "institution": "Non-academic Institution",
          "time": "2019-04-02T17:23:00"
         },
         {
          "differential": 0.005555555555555556,
          "institution": "Non-academic Institution",
          "time": "2019-04-03T10:12:00"
         },
         {
          "differential": 0.0006666666666666666,
          "institution": "Non-academic Institution",
          "time": "2019-04-03T12:53:00"
         },
         {
          "differential": 0.00011415525114155251,
          "institution": "Non-academic Institution",
          "time": "2019-04-04T12:05:00"
         },
         {
          "differential": 0.00012165450121654502,
          "institution": "Non-academic Institution",
          "time": "2019-04-04T21:20:00"
         },
         {
          "differential": 5.359056806002143e-05,
          "institution": "Non-academic Institution",
          "time": "2019-04-07T19:16:00"
         },
         {
          "differential": 0.0001893939393939394,
          "institution": "Non-academic Institution",
          "time": "2019-04-08T11:49:00"
         },
         {
          "differential": 2.844141069397042e-05,
          "institution": "Non-academic Institution",
          "time": "2019-04-09T09:26:00"
         },
         {
          "differential": 0.000925925925925926,
          "institution": "Non-academic Institution",
          "time": "2019-04-09T10:33:00"
         },
         {
          "differential": 2.3180343069077424e-05,
          "institution": "Non-academic Institution",
          "time": "2019-04-10T09:43:00"
         },
         {
          "differential": 0.0003205128205128205,
          "institution": "Non-academic Institution",
          "time": "2019-04-10T20:09:00"
         },
         {
          "differential": 0.002777777777777778,
          "institution": "Non-academic Institution",
          "time": "2019-04-11T09:55:00"
         },
         {
          "differential": 0.001282051282051282,
          "institution": "Non-academic Institution",
          "time": "2019-04-11T10:33:00"
         },
         {
          "differential": 0.002083333333333333,
          "institution": "Non-academic Institution",
          "time": "2019-04-11T12:44:00"
         },
         {
          "differential": 0.008333333333333331,
          "institution": "Non-academic Institution",
          "time": "2019-04-11T12:47:00"
         },
         {
          "differential": 0.00020833333333333335,
          "institution": "Non-academic Institution",
          "time": "2019-04-11T14:40:00"
         },
         {
          "differential": 0.0007936507936507937,
          "institution": "Non-academic Institution",
          "time": "2019-04-12T14:54:00"
         },
         {
          "differential": 0.0005555555555555556,
          "institution": "Non-academic Institution",
          "time": "2019-04-12T15:44:00"
         },
         {
          "differential": 0.00010752688172043011,
          "institution": "Non-academic Institution",
          "time": "2019-04-14T01:32:00"
         },
         {
          "differential": 1.4442518775274408e-05,
          "institution": "Non-academic Institution",
          "time": "2019-04-14T20:46:00"
         },
         {
          "differential": 0.001851851851851852,
          "institution": "Non-academic Institution",
          "time": "2019-04-16T14:59:00"
         },
         {
          "differential": 0.002083333333333333,
          "institution": "Non-academic Institution",
          "time": "2019-04-17T11:44:00"
         },
         {
          "differential": 0.0007575757575757576,
          "institution": "Non-academic Institution",
          "time": "2019-04-17T15:13:00"
         },
         {
          "differential": 0.0016666666666666668,
          "institution": "Non-academic Institution",
          "time": "2019-04-17T15:42:00"
         },
         {
          "differential": 0.000196078431372549,
          "institution": "Non-academic Institution",
          "time": "2019-04-17T17:24:00"
         },
         {
          "differential": 0.0004761904761904762,
          "institution": "Non-academic Institution",
          "time": "2019-04-19T08:57:00"
         },
         {
          "differential": 0.0001388888888888889,
          "institution": "Non-academic Institution",
          "time": "2019-04-20T10:50:00"
         },
         {
          "differential": 0.002380952380952381,
          "institution": "Non-academic Institution",
          "time": "2019-04-20T12:43:00"
         },
         {
          "differential": 0.008333333333333331,
          "institution": "Other",
          "time": "2019-03-25T09:14:00"
         },
         {
          "differential": 0.016666666666666663,
          "institution": "Other",
          "time": "2019-03-25T11:21:00"
         },
         {
          "differential": 0.002083333333333333,
          "institution": "Other",
          "time": "2019-03-25T12:05:00"
         },
         {
          "differential": 0.0010416666666666664,
          "institution": "Other",
          "time": "2019-03-25T16:16:00"
         },
         {
          "differential": 0.0033333333333333335,
          "institution": "Other",
          "time": "2019-03-25T16:39:00"
         },
         {
          "differential": 0.016666666666666663,
          "institution": "Other",
          "time": "2019-03-25T16:40:00"
         },
         {
          "differential": null,
          "institution": "Other",
          "time": "2019-03-25T16:42:00"
         },
         {
          "differential": 0.004166666666666666,
          "institution": "Other",
          "time": "2019-03-25T17:19:00"
         },
         {
          "differential": 0.0016666666666666668,
          "institution": "Other",
          "time": "2019-03-25T18:00:00"
         },
         {
          "differential": 0.002777777777777778,
          "institution": "Other",
          "time": "2019-03-25T18:08:00"
         },
         {
          "differential": 0.0006944444444444445,
          "institution": "Other",
          "time": "2019-03-25T18:37:00"
         },
         {
          "differential": 0.0002645502645502645,
          "institution": "Other",
          "time": "2019-03-25T22:52:00"
         },
         {
          "differential": 0.0011904761904761906,
          "institution": "Other",
          "time": "2019-03-25T23:17:00"
         },
         {
          "differential": 0.0002824858757062147,
          "institution": "Other",
          "time": "2019-03-26T09:14:00"
         },
         {
          "differential": 0.001851851851851852,
          "institution": "Other",
          "time": "2019-03-26T10:19:00"
         },
         {
          "differential": 0.004166666666666666,
          "institution": "Other",
          "time": "2019-03-26T13:56:00"
         },
         {
          "differential": 0.0016666666666666668,
          "institution": "Other",
          "time": "2019-03-26T15:00:00"
         },
         {
          "differential": 0.0033333333333333335,
          "institution": "Other",
          "time": "2019-03-26T15:05:00"
         },
         {
          "differential": 0.0007936507936507937,
          "institution": "Other",
          "time": "2019-03-26T17:35:00"
         },
         {
          "differential": 0.0003401360544217687,
          "institution": "Other",
          "time": "2019-03-26T22:45:00"
         },
         {
          "differential": 0.00029761904761904765,
          "institution": "Other",
          "time": "2019-03-27T09:43:00"
         },
         {
          "differential": 0.00030303030303030303,
          "institution": "Other",
          "time": "2019-03-27T11:00:00"
         },
         {
          "differential": 0.002083333333333333,
          "institution": "Other",
          "time": "2019-03-27T14:43:00"
         },
         {
          "differential": 0.0006172839506172839,
          "institution": "Other",
          "time": "2019-03-27T15:12:00"
         },
         {
          "differential": 0.000925925925925926,
          "institution": "Other",
          "time": "2019-03-27T21:04:00"
         },
         {
          "differential": 0.00010752688172043011,
          "institution": "Other",
          "time": "2019-03-28T15:48:00"
         },
         {
          "differential": 0.002380952380952381,
          "institution": "Other",
          "time": "2019-03-29T12:18:00"
         },
         {
          "differential": 0.00011415525114155251,
          "institution": "Other",
          "time": "2019-03-29T16:34:00"
         },
         {
          "differential": 0.0011904761904761906,
          "institution": "Other",
          "time": "2019-03-29T16:48:00"
         },
         {
          "differential": 0.00017006802721088434,
          "institution": "Other",
          "time": "2019-03-29T18:26:00"
         },
         {
          "differential": 5.411255411255411e-05,
          "institution": "Other",
          "time": "2019-04-02T01:07:00"
         },
         {
          "differential": 0.004166666666666666,
          "institution": "Other",
          "time": "2019-04-02T09:48:00"
         },
         {
          "differential": 0.002380952380952381,
          "institution": "Other",
          "time": "2019-04-02T10:01:00"
         },
         {
          "differential": 0.0006666666666666666,
          "institution": "Other",
          "time": "2019-04-02T13:12:00"
         },
         {
          "differential": 0.0001312335958005249,
          "institution": "Other",
          "time": "2019-04-02T22:36:00"
         },
         {
          "differential": 0.008333333333333331,
          "institution": "Other",
          "time": "2019-04-03T00:14:00"
         },
         {
          "differential": 0.001282051282051282,
          "institution": "Other",
          "time": "2019-04-03T00:27:00"
         },
         {
          "differential": 0.0005555555555555556,
          "institution": "Other",
          "time": "2019-04-03T11:47:00"
         },
         {
          "differential": 0.002777777777777778,
          "institution": "Other",
          "time": "2019-04-03T12:15:00"
         },
         {
          "differential": 1.4814814814814815e-05,
          "institution": "Other",
          "time": "2019-04-06T14:09:00"
         },
         {
          "differential": 6.485084306095978e-05,
          "institution": "Other",
          "time": "2019-04-06T18:26:00"
         },
         {
          "differential": 6.640106241699867e-05,
          "institution": "Other",
          "time": "2019-04-07T23:27:00"
         },
         {
          "differential": 6.915629322268326e-05,
          "institution": "Other",
          "time": "2019-04-08T23:40:00"
         },
         {
          "differential": 0.004166666666666666,
          "institution": "Other",
          "time": "2019-04-09T10:10:00"
         },
         {
          "differential": 0.005555555555555556,
          "institution": "Other",
          "time": "2019-04-09T11:30:00"
         },
         {
          "differential": 0.00037037037037037035,
          "institution": "Other",
          "time": "2019-04-09T14:51:00"
         },
         {
          "differential": 0.0033333333333333335,
          "institution": "Other",
          "time": "2019-04-09T16:22:00"
         },
         {
          "differential": 0.00025641025641025636,
          "institution": "Other",
          "time": "2019-04-09T18:40:00"
         },
         {
          "differential": 0.002083333333333333,
          "institution": "Other",
          "time": "2019-04-10T16:04:00"
         },
         {
          "differential": 0.000462962962962963,
          "institution": "Other",
          "time": "2019-04-10T18:14:00"
         },
         {
          "differential": 0.001388888888888889,
          "institution": "Other",
          "time": "2019-04-11T12:36:00"
         },
         {
          "differential": 0.0007936507936507937,
          "institution": "Other",
          "time": "2019-04-11T15:21:00"
         },
         {
          "differential": 0.0010416666666666664,
          "institution": "Other",
          "time": "2019-04-11T15:37:00"
         },
         {
          "differential": 0.00015151515151515152,
          "institution": "Other",
          "time": "2019-04-12T00:49:00"
         },
         {
          "differential": 0.00025252525252525247,
          "institution": "Other",
          "time": "2019-04-12T12:41:00"
         },
         {
          "differential": 0.0008333333333333334,
          "institution": "Other",
          "time": "2019-04-12T15:14:00"
         },
         {
          "differential": 0.001282051282051282,
          "institution": "Other",
          "time": "2019-04-12T17:49:00"
         },
         {
          "differential": 0.0015151515151515152,
          "institution": "Other",
          "time": "2019-04-12T18:00:00"
         },
         {
          "differential": 0.000641025641025641,
          "institution": "Other",
          "time": "2019-04-13T10:15:00"
         },
         {
          "differential": 0.00042735042735042735,
          "institution": "Other",
          "time": "2019-04-15T13:37:00"
         },
         {
          "differential": 0.0003546099290780142,
          "institution": "Other",
          "time": "2019-04-15T14:32:00"
         },
         {
          "differential": 0.00012820512820512818,
          "institution": "Other",
          "time": "2019-04-15T19:24:00"
         },
         {
          "differential": 0.0015151515151515152,
          "institution": "Other",
          "time": "2019-04-16T15:56:00"
         },
         {
          "differential": 0.00024509803921568627,
          "institution": "Other",
          "time": "2019-04-16T18:02:00"
         },
         {
          "differential": 0.001851851851851852,
          "institution": "Other",
          "time": "2019-04-16T18:11:00"
         },
         {
          "differential": 0.00017006802721088434,
          "institution": "Other",
          "time": "2019-04-16T20:40:00"
         },
         {
          "differential": 0.0005050505050505049,
          "institution": "Other",
          "time": "2019-04-18T16:37:00"
         },
         {
          "differential": 0.016666666666666663,
          "institution": "Other",
          "time": "2019-04-18T16:46:00"
         },
         {
          "differential": null,
          "institution": "Other",
          "time": "2019-04-18T17:04:00"
         },
         {
          "differential": 0.000925925925925926,
          "institution": "Other",
          "time": "2019-04-19T00:20:00"
         },
         {
          "differential": 0.0005747126436781609,
          "institution": "Other",
          "time": "2019-04-19T09:31:00"
         },
         {
          "differential": 0.0006944444444444445,
          "institution": "Other",
          "time": "2019-04-19T09:55:00"
         },
         {
          "differential": 0.00015723270440251572,
          "institution": "Other",
          "time": "2019-04-20T12:36:00"
         },
         {
          "differential": 6.242197253433208e-05,
          "institution": "Other",
          "time": "2019-04-20T23:48:00"
         },
         {
          "differential": 5.020080321285141e-05,
          "institution": "Other",
          "time": "2019-04-21T18:51:00"
         },
         {
          "differential": 0.000980392156862745,
          "institution": "Other",
          "time": "2019-04-22T10:07:00"
         },
         {
          "differential": 0.001851851851851852,
          "institution": "Other",
          "time": "2019-04-22T10:17:00"
         },
         {
          "differential": 0.005555555555555556,
          "institution": "Other",
          "time": "2019-04-22T10:43:00"
         },
         {
          "differential": 0.008333333333333331,
          "institution": "Other",
          "time": "2019-04-22T10:45:00"
         },
         {
          "differential": 0.005555555555555556,
          "institution": "Other",
          "time": "2019-04-22T11:15:00"
         },
         {
          "differential": 0.016666666666666663,
          "institution": "Rockefeller",
          "time": "2019-04-02T09:08:00"
         },
         {
          "differential": 0.0005555555555555556,
          "institution": "Rockefeller",
          "time": "2019-04-10T17:38:00"
         },
         {
          "differential": 0.016666666666666663,
          "institution": "Rockefeller",
          "time": "2019-04-12T17:36:00"
         },
         {
          "differential": 0.0005376344086021504,
          "institution": "Rutgers",
          "time": "2019-03-25T19:40:00"
         },
         {
          "differential": 0.0008771929824561404,
          "institution": "Rutgers",
          "time": "2019-03-26T04:23:00"
         },
         {
          "differential": 0.0033333333333333335,
          "institution": "Rutgers",
          "time": "2019-03-28T10:34:00"
         },
         {
          "differential": 0.016666666666666663,
          "institution": "Rutgers",
          "time": "2019-03-28T16:03:00"
         },
         {
          "differential": 1.2909888974954816e-05,
          "institution": "Rutgers",
          "time": "2019-03-30T18:01:00"
         },
         {
          "differential": 0.0002604166666666666,
          "institution": "Rutgers",
          "time": "2019-04-01T18:27:00"
         },
         {
          "differential": 0.0003968253968253968,
          "institution": "Rutgers",
          "time": "2019-04-01T19:09:00"
         },
         {
          "differential": 0.0003333333333333333,
          "institution": "Rutgers",
          "time": "2019-04-01T19:59:00"
         },
         {
          "differential": 0.0015151515151515152,
          "institution": "Rutgers",
          "time": "2019-04-02T09:05:00"
         },
         {
          "differential": 0.0005952380952380953,
          "institution": "Rutgers",
          "time": "2019-04-03T00:12:00"
         },
         {
          "differential": 0.0007936507936507937,
          "institution": "Rutgers",
          "time": "2019-04-09T11:27:00"
         },
         {
          "differential": 0.004166666666666666,
          "institution": "Rutgers",
          "time": "2019-04-10T18:18:00"
         },
         {
          "differential": 0.00015015015015015014,
          "institution": "Rutgers",
          "time": "2019-04-12T17:35:00"
         },
         {
          "differential": 2.8835063437139562e-05,
          "institution": "Rutgers",
          "time": "2019-04-15T09:54:00"
         },
         {
          "differential": 0.002777777777777778,
          "institution": "Rutgers",
          "time": "2019-04-15T12:36:00"
         },
         {
          "differential": null,
          "institution": "Rutgers",
          "time": "2019-04-15T15:55:00"
         },
         {
          "differential": 0.0003875968992248062,
          "institution": "Rutgers",
          "time": "2019-04-16T12:45:00"
         },
         {
          "differential": 0.00030303030303030303,
          "institution": "Rutgers",
          "time": "2019-04-17T10:00:00"
         },
         {
          "differential": 0.004166666666666666,
          "institution": "Rutgers",
          "time": "2019-04-22T11:03:00"
         },
         {
          "differential": 0.00013227513227513226,
          "institution": "SUNY (Downstate)",
          "time": "2019-04-18T22:20:00"
         },
         {
          "differential": 1.853911753800519e-05,
          "institution": "SUNY (Stony Brook)",
          "time": "2019-04-22T09:50:00"
         },
         {
          "differential": 0.0033333333333333335,
          "institution": "Weill Cornell",
          "time": "2019-03-25T14:07:00"
         },
         {
          "differential": null,
          "institution": "Weill Cornell",
          "time": "2019-03-25T16:42:00"
         },
         {
          "differential": 0.002380952380952381,
          "institution": "Weill Cornell",
          "time": "2019-03-26T10:08:00"
         },
         {
          "differential": 0.005555555555555556,
          "institution": "Weill Cornell",
          "time": "2019-03-26T10:31:00"
         },
         {
          "differential": 0.016666666666666663,
          "institution": "Weill Cornell",
          "time": "2019-03-26T10:32:00"
         },
         {
          "differential": 0.016666666666666663,
          "institution": "Weill Cornell",
          "time": "2019-03-26T10:34:00"
         },
         {
          "differential": 0.008333333333333331,
          "institution": "Weill Cornell",
          "time": "2019-03-26T10:36:00"
         },
         {
          "differential": 0.008333333333333331,
          "institution": "Weill Cornell",
          "time": "2019-03-26T10:38:00"
         },
         {
          "differential": null,
          "institution": "Weill Cornell",
          "time": "2019-03-26T10:38:00"
         },
         {
          "differential": 0.001388888888888889,
          "institution": "Weill Cornell",
          "time": "2019-03-26T10:50:00"
         },
         {
          "differential": 0.0033333333333333335,
          "institution": "Weill Cornell",
          "time": "2019-03-26T10:55:00"
         },
         {
          "differential": 0.016666666666666663,
          "institution": "Weill Cornell",
          "time": "2019-03-26T10:56:00"
         },
         {
          "differential": 0.002083333333333333,
          "institution": "Weill Cornell",
          "time": "2019-03-26T11:04:00"
         },
         {
          "differential": 0.0006666666666666666,
          "institution": "Weill Cornell",
          "time": "2019-03-26T11:29:00"
         },
         {
          "differential": 0.0008333333333333334,
          "institution": "Weill Cornell",
          "time": "2019-03-26T11:49:00"
         },
         {
          "differential": 0.0016666666666666668,
          "institution": "Weill Cornell",
          "time": "2019-03-26T11:59:00"
         },
         {
          "differential": 0.002777777777777778,
          "institution": "Weill Cornell",
          "time": "2019-03-26T12:06:00"
         },
         {
          "differential": 0.016666666666666663,
          "institution": "Weill Cornell",
          "time": "2019-03-26T12:07:00"
         },
         {
          "differential": 0.0015151515151515152,
          "institution": "Weill Cornell",
          "time": "2019-03-26T12:21:00"
         },
         {
          "differential": 0.0007575757575757576,
          "institution": "Weill Cornell",
          "time": "2019-03-26T12:47:00"
         },
         {
          "differential": 0.0011904761904761906,
          "institution": "Weill Cornell",
          "time": "2019-03-26T13:04:00"
         },
         {
          "differential": 0.002380952380952381,
          "institution": "Weill Cornell",
          "time": "2019-03-26T13:18:00"
         },
         {
          "differential": 0.0005747126436781609,
          "institution": "Weill Cornell",
          "time": "2019-03-26T13:47:00"
         },
         {
          "differential": 0.0033333333333333335,
          "institution": "Weill Cornell",
          "time": "2019-03-26T13:52:00"
         },
         {
          "differential": 0.0003401360544217687,
          "institution": "Weill Cornell",
          "time": "2019-03-26T14:45:00"
         },
         {
          "differential": 0.0033333333333333335,
          "institution": "Weill Cornell",
          "time": "2019-03-26T15:14:00"
         },
         {
          "differential": 0.0005952380952380953,
          "institution": "Weill Cornell",
          "time": "2019-03-26T15:42:00"
         },
         {
          "differential": 0.005555555555555556,
          "institution": "Weill Cornell",
          "time": "2019-03-26T15:47:00"
         },
         {
          "differential": 0.0011904761904761906,
          "institution": "Weill Cornell",
          "time": "2019-03-26T16:46:00"
         },
         {
          "differential": 0.0011904761904761906,
          "institution": "Weill Cornell",
          "time": "2019-03-27T11:14:00"
         },
         {
          "differential": 0.0011904761904761906,
          "institution": "Weill Cornell",
          "time": "2019-03-27T15:26:00"
         },
         {
          "differential": 0.00034722222222222224,
          "institution": "Weill Cornell",
          "time": "2019-03-27T20:46:00"
         },
         {
          "differential": 2.564102564102564e-05,
          "institution": "Weill Cornell",
          "time": "2019-03-28T09:26:00"
         },
         {
          "differential": 0.0006666666666666666,
          "institution": "Weill Cornell",
          "time": "2019-03-29T14:08:00"
         },
         {
          "differential": 3.380662609871534e-05,
          "institution": "Weill Cornell",
          "time": "2019-03-31T14:19:00"
         },
         {
          "differential": 3.242542153047989e-05,
          "institution": "Weill Cornell",
          "time": "2019-04-03T09:01:00"
         },
         {
          "differential": 0.0015151515151515152,
          "institution": "Weill Cornell",
          "time": "2019-04-03T15:23:00"
         },
         {
          "differential": 0.001851851851851852,
          "institution": "Weill Cornell",
          "time": "2019-04-03T15:32:00"
         },
         {
          "differential": 0.002083333333333333,
          "institution": "Weill Cornell",
          "time": "2019-04-09T14:06:00"
         },
         {
          "differential": 0.0016666666666666668,
          "institution": "Weill Cornell",
          "time": "2019-04-10T18:28:00"
         },
         {
          "differential": 0.001282051282051282,
          "institution": "Weill Cornell",
          "time": "2019-04-11T22:35:00"
         },
         {
          "differential": 0.0006944444444444445,
          "institution": "Weill Cornell",
          "time": "2019-04-11T22:59:00"
         },
         {
          "differential": 4.374453193350831e-05,
          "institution": "Weill Cornell",
          "time": "2019-04-12T07:10:00"
         },
         {
          "differential": 2.249212775528565e-05,
          "institution": "Weill Cornell",
          "time": "2019-04-16T08:55:00"
         },
         {
          "differential": 0.002777777777777778,
          "institution": "Weill Cornell",
          "time": "2019-04-16T10:40:00"
         },
         {
          "differential": 0.002380952380952381,
          "institution": "Weill Cornell",
          "time": "2019-04-16T11:21:00"
         },
         {
          "differential": 0.001851851851851852,
          "institution": "Weill Cornell",
          "time": "2019-04-16T11:32:00"
         },
         {
          "differential": 0.000326797385620915,
          "institution": "Weill Cornell",
          "time": "2019-04-16T16:47:00"
         },
         {
          "differential": 0.002380952380952381,
          "institution": "Weill Cornell",
          "time": "2019-04-16T16:54:00"
         },
         {
          "differential": 2.5214321734745334e-05,
          "institution": "Weill Cornell",
          "time": "2019-04-17T07:41:00"
         },
         {
          "differential": 0.016666666666666663,
          "institution": "Weill Cornell",
          "time": "2019-04-17T12:47:00"
         },
         {
          "differential": 0.008333333333333331,
          "institution": "Weill Cornell",
          "time": "2019-04-17T12:49:00"
         },
         {
          "differential": 0.0005747126436781609,
          "institution": "Weill Cornell",
          "time": "2019-04-17T17:53:00"
         },
         {
          "differential": 0.00013661202185792347,
          "institution": "Weill Cornell",
          "time": "2019-04-18T09:16:00"
         },
         {
          "differential": 0.00031446540880503143,
          "institution": "Weill Cornell",
          "time": "2019-04-18T20:06:00"
         },
         {
          "differential": 0.0004166666666666667,
          "institution": "Weill Cornell",
          "time": "2019-04-18T23:00:00"
         },
         {
          "differential": 0.0005050505050505049,
          "institution": "Yeshiva",
          "time": "2019-04-17T14:12:00"
         }
        ]
       },
       "encoding": {
        "color": {
         "field": "institution",
         "type": "nominal"
        },
        "x": {
         "field": "time",
         "type": "temporal"
        },
        "y": {
         "field": "differential",
         "type": "quantitative"
        }
       },
       "mark": "line",
       "width": 800
      },
      "image/png": "[encoded data removed]",
      "text/plain": [
       "<VegaLite 2 object>\n",
       "\n",
       "If you see this message, it means the renderer has not been properly enabled\n",
       "for the frontend that you are using. For more information, see\n",
       "https://altair-viz.github.io/user_guide/troubleshooting.html\n"
      ]
     },
     "execution_count": 8,
     "metadata": {},
     "output_type": "execute_result"
    }
   ],
   "source": [
    "alt.Chart(differentials).properties(width=800).mark_line().encode(\n",
    "    x='time',\n",
    "    y='differential',\n",
    "    color='institution'\n",
    ")"
   ]
  },
  {
   "cell_type": "markdown",
   "metadata": {},
   "source": [
    "This is not terribly helpful looking, the only thing we can tell from this is that there are not necessarily many more bursts of NYU signups. \n",
    "It would probably be a lot easier to read if I padded the time points. Maybe also a kde would not be a bad idea?"
   ]
  },
  {
   "cell_type": "code",
   "execution_count": 9,
   "metadata": {},
   "outputs": [],
   "source": [
    "group = df.groupby('institution')"
   ]
  },
  {
   "cell_type": "code",
   "execution_count": 10,
   "metadata": {},
   "outputs": [
    {
     "data": {
      "text/html": [
       "<div>\n",
       "<style scoped>\n",
       "    .dataframe tbody tr th:only-of-type {\n",
       "        vertical-align: middle;\n",
       "    }\n",
       "\n",
       "    .dataframe tbody tr th {\n",
       "        vertical-align: top;\n",
       "    }\n",
       "\n",
       "    .dataframe thead th {\n",
       "        text-align: right;\n",
       "    }\n",
       "</style>\n",
       "<table border=\"1\" class=\"dataframe\">\n",
       "  <thead>\n",
       "    <tr style=\"text-align: right;\">\n",
       "      <th></th>\n",
       "      <th>rsvp_no</th>\n",
       "      <th>time</th>\n",
       "      <th>institution</th>\n",
       "      <th>counts</th>\n",
       "    </tr>\n",
       "  </thead>\n",
       "  <tbody>\n",
       "    <tr>\n",
       "      <th>3</th>\n",
       "      <td>4</td>\n",
       "      <td>2019-03-19 16:33:00</td>\n",
       "      <td>CUNY</td>\n",
       "      <td>1</td>\n",
       "    </tr>\n",
       "    <tr>\n",
       "      <th>4</th>\n",
       "      <td>5</td>\n",
       "      <td>2019-03-19 16:45:00</td>\n",
       "      <td>CUNY</td>\n",
       "      <td>2</td>\n",
       "    </tr>\n",
       "    <tr>\n",
       "      <th>5</th>\n",
       "      <td>6</td>\n",
       "      <td>2019-03-20 12:58:00</td>\n",
       "      <td>CUNY</td>\n",
       "      <td>3</td>\n",
       "    </tr>\n",
       "    <tr>\n",
       "      <th>6</th>\n",
       "      <td>7</td>\n",
       "      <td>2019-03-24 23:46:00</td>\n",
       "      <td>CUNY</td>\n",
       "      <td>4</td>\n",
       "    </tr>\n",
       "    <tr>\n",
       "      <th>7</th>\n",
       "      <td>8</td>\n",
       "      <td>2019-03-24 23:48:00</td>\n",
       "      <td>CUNY</td>\n",
       "      <td>5</td>\n",
       "    </tr>\n",
       "  </tbody>\n",
       "</table>\n",
       "</div>"
      ],
      "text/plain": [
       "   rsvp_no                time institution  counts\n",
       "3        4 2019-03-19 16:33:00        CUNY       1\n",
       "4        5 2019-03-19 16:45:00        CUNY       2\n",
       "5        6 2019-03-20 12:58:00        CUNY       3\n",
       "6        7 2019-03-24 23:46:00        CUNY       4\n",
       "7        8 2019-03-24 23:48:00        CUNY       5"
      ]
     },
     "execution_count": 10,
     "metadata": {},
     "output_type": "execute_result"
    }
   ],
   "source": [
    "first_institution, first_df = next(iter(df.groupby('institution')))\n",
    "first_df.head()"
   ]
  },
  {
   "cell_type": "code",
   "execution_count": 11,
   "metadata": {},
   "outputs": [
    {
     "data": {
      "text/html": [
       "<div>\n",
       "<style scoped>\n",
       "    .dataframe tbody tr th:only-of-type {\n",
       "        vertical-align: middle;\n",
       "    }\n",
       "\n",
       "    .dataframe tbody tr th {\n",
       "        vertical-align: top;\n",
       "    }\n",
       "\n",
       "    .dataframe thead th {\n",
       "        text-align: right;\n",
       "    }\n",
       "</style>\n",
       "<table border=\"1\" class=\"dataframe\">\n",
       "  <thead>\n",
       "    <tr style=\"text-align: right;\">\n",
       "      <th></th>\n",
       "      <th>rsvp_no</th>\n",
       "      <th>institution</th>\n",
       "      <th>counts</th>\n",
       "    </tr>\n",
       "    <tr>\n",
       "      <th>time</th>\n",
       "      <th></th>\n",
       "      <th></th>\n",
       "      <th></th>\n",
       "    </tr>\n",
       "  </thead>\n",
       "  <tbody>\n",
       "    <tr>\n",
       "      <th>2019-03-07 16:58:00</th>\n",
       "      <td>NaN</td>\n",
       "      <td>NaN</td>\n",
       "      <td>NaN</td>\n",
       "    </tr>\n",
       "    <tr>\n",
       "      <th>2019-03-14 19:11:00</th>\n",
       "      <td>NaN</td>\n",
       "      <td>NaN</td>\n",
       "      <td>NaN</td>\n",
       "    </tr>\n",
       "    <tr>\n",
       "      <th>2019-03-18 14:28:00</th>\n",
       "      <td>NaN</td>\n",
       "      <td>NaN</td>\n",
       "      <td>NaN</td>\n",
       "    </tr>\n",
       "    <tr>\n",
       "      <th>2019-03-19 16:33:00</th>\n",
       "      <td>4.0</td>\n",
       "      <td>CUNY</td>\n",
       "      <td>1.0</td>\n",
       "    </tr>\n",
       "    <tr>\n",
       "      <th>2019-03-19 16:45:00</th>\n",
       "      <td>5.0</td>\n",
       "      <td>CUNY</td>\n",
       "      <td>2.0</td>\n",
       "    </tr>\n",
       "    <tr>\n",
       "      <th>2019-03-20 12:58:00</th>\n",
       "      <td>6.0</td>\n",
       "      <td>CUNY</td>\n",
       "      <td>3.0</td>\n",
       "    </tr>\n",
       "  </tbody>\n",
       "</table>\n",
       "</div>"
      ],
      "text/plain": [
       "                     rsvp_no institution  counts\n",
       "time                                            \n",
       "2019-03-07 16:58:00      NaN         NaN     NaN\n",
       "2019-03-14 19:11:00      NaN         NaN     NaN\n",
       "2019-03-18 14:28:00      NaN         NaN     NaN\n",
       "2019-03-19 16:33:00      4.0        CUNY     1.0\n",
       "2019-03-19 16:45:00      5.0        CUNY     2.0\n",
       "2019-03-20 12:58:00      6.0        CUNY     3.0"
      ]
     },
     "execution_count": 11,
     "metadata": {},
     "output_type": "execute_result"
    }
   ],
   "source": [
    "dummy = first_df.set_index('time').reindex(df.time).fillna(method='ffill')\n",
    "dummy.head(6)"
   ]
  },
  {
   "cell_type": "code",
   "execution_count": 12,
   "metadata": {},
   "outputs": [
    {
     "data": {
      "text/html": [
       "<div>\n",
       "<style scoped>\n",
       "    .dataframe tbody tr th:only-of-type {\n",
       "        vertical-align: middle;\n",
       "    }\n",
       "\n",
       "    .dataframe tbody tr th {\n",
       "        vertical-align: top;\n",
       "    }\n",
       "\n",
       "    .dataframe thead th {\n",
       "        text-align: right;\n",
       "    }\n",
       "</style>\n",
       "<table border=\"1\" class=\"dataframe\">\n",
       "  <thead>\n",
       "    <tr style=\"text-align: right;\">\n",
       "      <th></th>\n",
       "      <th>rsvp_no</th>\n",
       "      <th>institution</th>\n",
       "      <th>counts</th>\n",
       "    </tr>\n",
       "    <tr>\n",
       "      <th>time</th>\n",
       "      <th></th>\n",
       "      <th></th>\n",
       "      <th></th>\n",
       "    </tr>\n",
       "  </thead>\n",
       "  <tbody>\n",
       "    <tr>\n",
       "      <th>2019-03-07 16:58:00</th>\n",
       "      <td>NaN</td>\n",
       "      <td>NaN</td>\n",
       "      <td>NaN</td>\n",
       "    </tr>\n",
       "    <tr>\n",
       "      <th>2019-03-14 19:11:00</th>\n",
       "      <td>NaN</td>\n",
       "      <td>NaN</td>\n",
       "      <td>NaN</td>\n",
       "    </tr>\n",
       "    <tr>\n",
       "      <th>2019-03-18 14:28:00</th>\n",
       "      <td>NaN</td>\n",
       "      <td>NaN</td>\n",
       "      <td>NaN</td>\n",
       "    </tr>\n",
       "    <tr>\n",
       "      <th>2019-03-19 16:33:00</th>\n",
       "      <td>4.0</td>\n",
       "      <td>CUNY</td>\n",
       "      <td>1.0</td>\n",
       "    </tr>\n",
       "    <tr>\n",
       "      <th>2019-03-19 16:45:00</th>\n",
       "      <td>5.0</td>\n",
       "      <td>CUNY</td>\n",
       "      <td>2.0</td>\n",
       "    </tr>\n",
       "    <tr>\n",
       "      <th>2019-03-20 12:58:00</th>\n",
       "      <td>6.0</td>\n",
       "      <td>CUNY</td>\n",
       "      <td>3.0</td>\n",
       "    </tr>\n",
       "    <tr>\n",
       "      <th>2019-03-24 23:46:00</th>\n",
       "      <td>7.0</td>\n",
       "      <td>CUNY</td>\n",
       "      <td>4.0</td>\n",
       "    </tr>\n",
       "    <tr>\n",
       "      <th>2019-03-24 23:48:00</th>\n",
       "      <td>8.0</td>\n",
       "      <td>CUNY</td>\n",
       "      <td>5.0</td>\n",
       "    </tr>\n",
       "    <tr>\n",
       "      <th>2019-03-25 07:25:00</th>\n",
       "      <td>9.0</td>\n",
       "      <td>CUNY</td>\n",
       "      <td>6.0</td>\n",
       "    </tr>\n",
       "    <tr>\n",
       "      <th>2019-03-25 09:05:00</th>\n",
       "      <td>NaN</td>\n",
       "      <td>NaN</td>\n",
       "      <td>NaN</td>\n",
       "    </tr>\n",
       "    <tr>\n",
       "      <th>2019-03-25 09:06:00</th>\n",
       "      <td>NaN</td>\n",
       "      <td>NaN</td>\n",
       "      <td>NaN</td>\n",
       "    </tr>\n",
       "    <tr>\n",
       "      <th>2019-03-25 09:06:00</th>\n",
       "      <td>NaN</td>\n",
       "      <td>NaN</td>\n",
       "      <td>NaN</td>\n",
       "    </tr>\n",
       "    <tr>\n",
       "      <th>2019-03-25 09:06:00</th>\n",
       "      <td>NaN</td>\n",
       "      <td>NaN</td>\n",
       "      <td>NaN</td>\n",
       "    </tr>\n",
       "    <tr>\n",
       "      <th>2019-03-25 09:08:00</th>\n",
       "      <td>14.0</td>\n",
       "      <td>CUNY</td>\n",
       "      <td>7.0</td>\n",
       "    </tr>\n",
       "    <tr>\n",
       "      <th>2019-03-25 09:08:00</th>\n",
       "      <td>14.0</td>\n",
       "      <td>CUNY</td>\n",
       "      <td>7.0</td>\n",
       "    </tr>\n",
       "    <tr>\n",
       "      <th>2019-03-25 09:09:00</th>\n",
       "      <td>NaN</td>\n",
       "      <td>NaN</td>\n",
       "      <td>NaN</td>\n",
       "    </tr>\n",
       "    <tr>\n",
       "      <th>2019-03-25 09:11:00</th>\n",
       "      <td>NaN</td>\n",
       "      <td>NaN</td>\n",
       "      <td>NaN</td>\n",
       "    </tr>\n",
       "    <tr>\n",
       "      <th>2019-03-25 09:12:00</th>\n",
       "      <td>18.0</td>\n",
       "      <td>CUNY</td>\n",
       "      <td>8.0</td>\n",
       "    </tr>\n",
       "    <tr>\n",
       "      <th>2019-03-25 09:14:00</th>\n",
       "      <td>NaN</td>\n",
       "      <td>NaN</td>\n",
       "      <td>NaN</td>\n",
       "    </tr>\n",
       "    <tr>\n",
       "      <th>2019-03-25 09:16:00</th>\n",
       "      <td>20.0</td>\n",
       "      <td>CUNY</td>\n",
       "      <td>9.0</td>\n",
       "    </tr>\n",
       "    <tr>\n",
       "      <th>2019-03-25 09:16:00</th>\n",
       "      <td>20.0</td>\n",
       "      <td>CUNY</td>\n",
       "      <td>9.0</td>\n",
       "    </tr>\n",
       "    <tr>\n",
       "      <th>2019-03-25 09:18:00</th>\n",
       "      <td>NaN</td>\n",
       "      <td>NaN</td>\n",
       "      <td>NaN</td>\n",
       "    </tr>\n",
       "    <tr>\n",
       "      <th>2019-03-25 09:20:00</th>\n",
       "      <td>NaN</td>\n",
       "      <td>NaN</td>\n",
       "      <td>NaN</td>\n",
       "    </tr>\n",
       "    <tr>\n",
       "      <th>2019-03-25 09:22:00</th>\n",
       "      <td>NaN</td>\n",
       "      <td>NaN</td>\n",
       "      <td>NaN</td>\n",
       "    </tr>\n",
       "    <tr>\n",
       "      <th>2019-03-25 09:24:00</th>\n",
       "      <td>25.0</td>\n",
       "      <td>CUNY</td>\n",
       "      <td>10.0</td>\n",
       "    </tr>\n",
       "    <tr>\n",
       "      <th>2019-03-25 09:36:00</th>\n",
       "      <td>NaN</td>\n",
       "      <td>NaN</td>\n",
       "      <td>NaN</td>\n",
       "    </tr>\n",
       "    <tr>\n",
       "      <th>2019-03-25 09:39:00</th>\n",
       "      <td>NaN</td>\n",
       "      <td>NaN</td>\n",
       "      <td>NaN</td>\n",
       "    </tr>\n",
       "    <tr>\n",
       "      <th>2019-03-25 09:42:00</th>\n",
       "      <td>NaN</td>\n",
       "      <td>NaN</td>\n",
       "      <td>NaN</td>\n",
       "    </tr>\n",
       "    <tr>\n",
       "      <th>2019-03-25 09:54:00</th>\n",
       "      <td>NaN</td>\n",
       "      <td>NaN</td>\n",
       "      <td>NaN</td>\n",
       "    </tr>\n",
       "    <tr>\n",
       "      <th>2019-03-25 09:59:00</th>\n",
       "      <td>NaN</td>\n",
       "      <td>NaN</td>\n",
       "      <td>NaN</td>\n",
       "    </tr>\n",
       "    <tr>\n",
       "      <th>...</th>\n",
       "      <td>...</td>\n",
       "      <td>...</td>\n",
       "      <td>...</td>\n",
       "    </tr>\n",
       "    <tr>\n",
       "      <th>2019-04-20 12:43:00</th>\n",
       "      <td>NaN</td>\n",
       "      <td>NaN</td>\n",
       "      <td>NaN</td>\n",
       "    </tr>\n",
       "    <tr>\n",
       "      <th>2019-04-20 12:48:00</th>\n",
       "      <td>NaN</td>\n",
       "      <td>NaN</td>\n",
       "      <td>NaN</td>\n",
       "    </tr>\n",
       "    <tr>\n",
       "      <th>2019-04-20 19:21:00</th>\n",
       "      <td>NaN</td>\n",
       "      <td>NaN</td>\n",
       "      <td>NaN</td>\n",
       "    </tr>\n",
       "    <tr>\n",
       "      <th>2019-04-20 23:48:00</th>\n",
       "      <td>NaN</td>\n",
       "      <td>NaN</td>\n",
       "      <td>NaN</td>\n",
       "    </tr>\n",
       "    <tr>\n",
       "      <th>2019-04-21 13:19:00</th>\n",
       "      <td>NaN</td>\n",
       "      <td>NaN</td>\n",
       "      <td>NaN</td>\n",
       "    </tr>\n",
       "    <tr>\n",
       "      <th>2019-04-21 18:51:00</th>\n",
       "      <td>NaN</td>\n",
       "      <td>NaN</td>\n",
       "      <td>NaN</td>\n",
       "    </tr>\n",
       "    <tr>\n",
       "      <th>2019-04-22 09:50:00</th>\n",
       "      <td>NaN</td>\n",
       "      <td>NaN</td>\n",
       "      <td>NaN</td>\n",
       "    </tr>\n",
       "    <tr>\n",
       "      <th>2019-04-22 10:07:00</th>\n",
       "      <td>NaN</td>\n",
       "      <td>NaN</td>\n",
       "      <td>NaN</td>\n",
       "    </tr>\n",
       "    <tr>\n",
       "      <th>2019-04-22 10:08:00</th>\n",
       "      <td>NaN</td>\n",
       "      <td>NaN</td>\n",
       "      <td>NaN</td>\n",
       "    </tr>\n",
       "    <tr>\n",
       "      <th>2019-04-22 10:17:00</th>\n",
       "      <td>NaN</td>\n",
       "      <td>NaN</td>\n",
       "      <td>NaN</td>\n",
       "    </tr>\n",
       "    <tr>\n",
       "      <th>2019-04-22 10:19:00</th>\n",
       "      <td>NaN</td>\n",
       "      <td>NaN</td>\n",
       "      <td>NaN</td>\n",
       "    </tr>\n",
       "    <tr>\n",
       "      <th>2019-04-22 10:25:00</th>\n",
       "      <td>NaN</td>\n",
       "      <td>NaN</td>\n",
       "      <td>NaN</td>\n",
       "    </tr>\n",
       "    <tr>\n",
       "      <th>2019-04-22 10:25:00</th>\n",
       "      <td>NaN</td>\n",
       "      <td>NaN</td>\n",
       "      <td>NaN</td>\n",
       "    </tr>\n",
       "    <tr>\n",
       "      <th>2019-04-22 10:35:00</th>\n",
       "      <td>NaN</td>\n",
       "      <td>NaN</td>\n",
       "      <td>NaN</td>\n",
       "    </tr>\n",
       "    <tr>\n",
       "      <th>2019-04-22 10:38:00</th>\n",
       "      <td>NaN</td>\n",
       "      <td>NaN</td>\n",
       "      <td>NaN</td>\n",
       "    </tr>\n",
       "    <tr>\n",
       "      <th>2019-04-22 10:40:00</th>\n",
       "      <td>NaN</td>\n",
       "      <td>NaN</td>\n",
       "      <td>NaN</td>\n",
       "    </tr>\n",
       "    <tr>\n",
       "      <th>2019-04-22 10:43:00</th>\n",
       "      <td>NaN</td>\n",
       "      <td>NaN</td>\n",
       "      <td>NaN</td>\n",
       "    </tr>\n",
       "    <tr>\n",
       "      <th>2019-04-22 10:45:00</th>\n",
       "      <td>NaN</td>\n",
       "      <td>NaN</td>\n",
       "      <td>NaN</td>\n",
       "    </tr>\n",
       "    <tr>\n",
       "      <th>2019-04-22 10:51:00</th>\n",
       "      <td>NaN</td>\n",
       "      <td>NaN</td>\n",
       "      <td>NaN</td>\n",
       "    </tr>\n",
       "    <tr>\n",
       "      <th>2019-04-22 10:57:00</th>\n",
       "      <td>NaN</td>\n",
       "      <td>NaN</td>\n",
       "      <td>NaN</td>\n",
       "    </tr>\n",
       "    <tr>\n",
       "      <th>2019-04-22 10:58:00</th>\n",
       "      <td>NaN</td>\n",
       "      <td>NaN</td>\n",
       "      <td>NaN</td>\n",
       "    </tr>\n",
       "    <tr>\n",
       "      <th>2019-04-22 10:58:00</th>\n",
       "      <td>NaN</td>\n",
       "      <td>NaN</td>\n",
       "      <td>NaN</td>\n",
       "    </tr>\n",
       "    <tr>\n",
       "      <th>2019-04-22 10:59:00</th>\n",
       "      <td>NaN</td>\n",
       "      <td>NaN</td>\n",
       "      <td>NaN</td>\n",
       "    </tr>\n",
       "    <tr>\n",
       "      <th>2019-04-22 11:03:00</th>\n",
       "      <td>NaN</td>\n",
       "      <td>NaN</td>\n",
       "      <td>NaN</td>\n",
       "    </tr>\n",
       "    <tr>\n",
       "      <th>2019-04-22 11:06:00</th>\n",
       "      <td>NaN</td>\n",
       "      <td>NaN</td>\n",
       "      <td>NaN</td>\n",
       "    </tr>\n",
       "    <tr>\n",
       "      <th>2019-04-22 11:09:00</th>\n",
       "      <td>NaN</td>\n",
       "      <td>NaN</td>\n",
       "      <td>NaN</td>\n",
       "    </tr>\n",
       "    <tr>\n",
       "      <th>2019-04-22 11:12:00</th>\n",
       "      <td>NaN</td>\n",
       "      <td>NaN</td>\n",
       "      <td>NaN</td>\n",
       "    </tr>\n",
       "    <tr>\n",
       "      <th>2019-04-22 11:15:00</th>\n",
       "      <td>NaN</td>\n",
       "      <td>NaN</td>\n",
       "      <td>NaN</td>\n",
       "    </tr>\n",
       "    <tr>\n",
       "      <th>2019-04-22 11:24:00</th>\n",
       "      <td>NaN</td>\n",
       "      <td>NaN</td>\n",
       "      <td>NaN</td>\n",
       "    </tr>\n",
       "    <tr>\n",
       "      <th>2019-04-22 11:29:00</th>\n",
       "      <td>NaN</td>\n",
       "      <td>NaN</td>\n",
       "      <td>NaN</td>\n",
       "    </tr>\n",
       "  </tbody>\n",
       "</table>\n",
       "<p>711 rows × 3 columns</p>\n",
       "</div>"
      ],
      "text/plain": [
       "                     rsvp_no institution  counts\n",
       "time                                            \n",
       "2019-03-07 16:58:00      NaN         NaN     NaN\n",
       "2019-03-14 19:11:00      NaN         NaN     NaN\n",
       "2019-03-18 14:28:00      NaN         NaN     NaN\n",
       "2019-03-19 16:33:00      4.0        CUNY     1.0\n",
       "2019-03-19 16:45:00      5.0        CUNY     2.0\n",
       "2019-03-20 12:58:00      6.0        CUNY     3.0\n",
       "2019-03-24 23:46:00      7.0        CUNY     4.0\n",
       "2019-03-24 23:48:00      8.0        CUNY     5.0\n",
       "2019-03-25 07:25:00      9.0        CUNY     6.0\n",
       "2019-03-25 09:05:00      NaN         NaN     NaN\n",
       "2019-03-25 09:06:00      NaN         NaN     NaN\n",
       "2019-03-25 09:06:00      NaN         NaN     NaN\n",
       "2019-03-25 09:06:00      NaN         NaN     NaN\n",
       "2019-03-25 09:08:00     14.0        CUNY     7.0\n",
       "2019-03-25 09:08:00     14.0        CUNY     7.0\n",
       "2019-03-25 09:09:00      NaN         NaN     NaN\n",
       "2019-03-25 09:11:00      NaN         NaN     NaN\n",
       "2019-03-25 09:12:00     18.0        CUNY     8.0\n",
       "2019-03-25 09:14:00      NaN         NaN     NaN\n",
       "2019-03-25 09:16:00     20.0        CUNY     9.0\n",
       "2019-03-25 09:16:00     20.0        CUNY     9.0\n",
       "2019-03-25 09:18:00      NaN         NaN     NaN\n",
       "2019-03-25 09:20:00      NaN         NaN     NaN\n",
       "2019-03-25 09:22:00      NaN         NaN     NaN\n",
       "2019-03-25 09:24:00     25.0        CUNY    10.0\n",
       "2019-03-25 09:36:00      NaN         NaN     NaN\n",
       "2019-03-25 09:39:00      NaN         NaN     NaN\n",
       "2019-03-25 09:42:00      NaN         NaN     NaN\n",
       "2019-03-25 09:54:00      NaN         NaN     NaN\n",
       "2019-03-25 09:59:00      NaN         NaN     NaN\n",
       "...                      ...         ...     ...\n",
       "2019-04-20 12:43:00      NaN         NaN     NaN\n",
       "2019-04-20 12:48:00      NaN         NaN     NaN\n",
       "2019-04-20 19:21:00      NaN         NaN     NaN\n",
       "2019-04-20 23:48:00      NaN         NaN     NaN\n",
       "2019-04-21 13:19:00      NaN         NaN     NaN\n",
       "2019-04-21 18:51:00      NaN         NaN     NaN\n",
       "2019-04-22 09:50:00      NaN         NaN     NaN\n",
       "2019-04-22 10:07:00      NaN         NaN     NaN\n",
       "2019-04-22 10:08:00      NaN         NaN     NaN\n",
       "2019-04-22 10:17:00      NaN         NaN     NaN\n",
       "2019-04-22 10:19:00      NaN         NaN     NaN\n",
       "2019-04-22 10:25:00      NaN         NaN     NaN\n",
       "2019-04-22 10:25:00      NaN         NaN     NaN\n",
       "2019-04-22 10:35:00      NaN         NaN     NaN\n",
       "2019-04-22 10:38:00      NaN         NaN     NaN\n",
       "2019-04-22 10:40:00      NaN         NaN     NaN\n",
       "2019-04-22 10:43:00      NaN         NaN     NaN\n",
       "2019-04-22 10:45:00      NaN         NaN     NaN\n",
       "2019-04-22 10:51:00      NaN         NaN     NaN\n",
       "2019-04-22 10:57:00      NaN         NaN     NaN\n",
       "2019-04-22 10:58:00      NaN         NaN     NaN\n",
       "2019-04-22 10:58:00      NaN         NaN     NaN\n",
       "2019-04-22 10:59:00      NaN         NaN     NaN\n",
       "2019-04-22 11:03:00      NaN         NaN     NaN\n",
       "2019-04-22 11:06:00      NaN         NaN     NaN\n",
       "2019-04-22 11:09:00      NaN         NaN     NaN\n",
       "2019-04-22 11:12:00      NaN         NaN     NaN\n",
       "2019-04-22 11:15:00      NaN         NaN     NaN\n",
       "2019-04-22 11:24:00      NaN         NaN     NaN\n",
       "2019-04-22 11:29:00      NaN         NaN     NaN\n",
       "\n",
       "[711 rows x 3 columns]"
      ]
     },
     "execution_count": 12,
     "metadata": {},
     "output_type": "execute_result"
    }
   ],
   "source": [
    "first_df.set_index('time').reindex(df.time)"
   ]
  },
  {
   "cell_type": "code",
   "execution_count": 13,
   "metadata": {},
   "outputs": [
    {
     "data": {
      "text/html": [
       "<div>\n",
       "<style scoped>\n",
       "    .dataframe tbody tr th:only-of-type {\n",
       "        vertical-align: middle;\n",
       "    }\n",
       "\n",
       "    .dataframe tbody tr th {\n",
       "        vertical-align: top;\n",
       "    }\n",
       "\n",
       "    .dataframe thead th {\n",
       "        text-align: right;\n",
       "    }\n",
       "</style>\n",
       "<table border=\"1\" class=\"dataframe\">\n",
       "  <thead>\n",
       "    <tr style=\"text-align: right;\">\n",
       "      <th></th>\n",
       "      <th>rsvp_no</th>\n",
       "      <th>institution</th>\n",
       "      <th>counts</th>\n",
       "    </tr>\n",
       "    <tr>\n",
       "      <th>time</th>\n",
       "      <th></th>\n",
       "      <th></th>\n",
       "      <th></th>\n",
       "    </tr>\n",
       "  </thead>\n",
       "  <tbody>\n",
       "    <tr>\n",
       "      <th>2019-03-25 10:46:00</th>\n",
       "      <td>37</td>\n",
       "      <td>NYU</td>\n",
       "      <td>5</td>\n",
       "    </tr>\n",
       "    <tr>\n",
       "      <th>2019-03-25 10:46:00</th>\n",
       "      <td>38</td>\n",
       "      <td>NYU</td>\n",
       "      <td>6</td>\n",
       "    </tr>\n",
       "    <tr>\n",
       "      <th>2019-03-25 11:29:00</th>\n",
       "      <td>55</td>\n",
       "      <td>NYU</td>\n",
       "      <td>18</td>\n",
       "    </tr>\n",
       "    <tr>\n",
       "      <th>2019-03-25 11:29:00</th>\n",
       "      <td>56</td>\n",
       "      <td>NYU</td>\n",
       "      <td>19</td>\n",
       "    </tr>\n",
       "    <tr>\n",
       "      <th>2019-03-25 11:32:00</th>\n",
       "      <td>57</td>\n",
       "      <td>NYU</td>\n",
       "      <td>20</td>\n",
       "    </tr>\n",
       "    <tr>\n",
       "      <th>2019-03-25 11:32:00</th>\n",
       "      <td>58</td>\n",
       "      <td>NYU</td>\n",
       "      <td>21</td>\n",
       "    </tr>\n",
       "    <tr>\n",
       "      <th>2019-04-10 12:12:00</th>\n",
       "      <td>450</td>\n",
       "      <td>NYU</td>\n",
       "      <td>103</td>\n",
       "    </tr>\n",
       "    <tr>\n",
       "      <th>2019-04-10 12:12:00</th>\n",
       "      <td>451</td>\n",
       "      <td>NYU</td>\n",
       "      <td>104</td>\n",
       "    </tr>\n",
       "  </tbody>\n",
       "</table>\n",
       "</div>"
      ],
      "text/plain": [
       "                     rsvp_no institution  counts\n",
       "time                                            \n",
       "2019-03-25 10:46:00       37         NYU       5\n",
       "2019-03-25 10:46:00       38         NYU       6\n",
       "2019-03-25 11:29:00       55         NYU      18\n",
       "2019-03-25 11:29:00       56         NYU      19\n",
       "2019-03-25 11:32:00       57         NYU      20\n",
       "2019-03-25 11:32:00       58         NYU      21\n",
       "2019-04-10 12:12:00      450         NYU     103\n",
       "2019-04-10 12:12:00      451         NYU     104"
      ]
     },
     "execution_count": 13,
     "metadata": {},
     "output_type": "execute_result"
    }
   ],
   "source": [
    "nyu = df.groupby('institution').get_group('NYU').set_index('time')#.reindex(df.time)\n",
    "nyu[nyu.index.duplicated(keep=False)]"
   ]
  },
  {
   "cell_type": "code",
   "execution_count": 19,
   "metadata": {},
   "outputs": [
    {
     "ename": "ValueError",
     "evalue": "passed window <class 'pandas.tseries.offsets.Hour'> is not compatible with a datetimelike index",
     "output_type": "error",
     "traceback": [
      "\u001b[0;31m---------------------------------------------------------------------------\u001b[0m",
      "\u001b[0;31mTypeError\u001b[0m                                 Traceback (most recent call last)",
      "\u001b[0;32m~/miniconda3/envs/gro/lib/python3.7/site-packages/pandas/tseries/frequencies.py\u001b[0m in \u001b[0;36mto_offset\u001b[0;34m(freq)\u001b[0m\n\u001b[1;32m    135\u001b[0m         \u001b[0;32mtry\u001b[0m\u001b[0;34m:\u001b[0m\u001b[0;34m\u001b[0m\u001b[0;34m\u001b[0m\u001b[0m\n\u001b[0;32m--> 136\u001b[0;31m             \u001b[0msplitted\u001b[0m \u001b[0;34m=\u001b[0m \u001b[0mre\u001b[0m\u001b[0;34m.\u001b[0m\u001b[0msplit\u001b[0m\u001b[0;34m(\u001b[0m\u001b[0mlibfreqs\u001b[0m\u001b[0;34m.\u001b[0m\u001b[0mopattern\u001b[0m\u001b[0;34m,\u001b[0m \u001b[0mfreq\u001b[0m\u001b[0;34m)\u001b[0m\u001b[0;34m\u001b[0m\u001b[0;34m\u001b[0m\u001b[0m\n\u001b[0m\u001b[1;32m    137\u001b[0m             \u001b[0;32mif\u001b[0m \u001b[0msplitted\u001b[0m\u001b[0;34m[\u001b[0m\u001b[0;34m-\u001b[0m\u001b[0;36m1\u001b[0m\u001b[0;34m]\u001b[0m \u001b[0;34m!=\u001b[0m \u001b[0;34m''\u001b[0m \u001b[0;32mand\u001b[0m \u001b[0;32mnot\u001b[0m \u001b[0msplitted\u001b[0m\u001b[0;34m[\u001b[0m\u001b[0;34m-\u001b[0m\u001b[0;36m1\u001b[0m\u001b[0;34m]\u001b[0m\u001b[0;34m.\u001b[0m\u001b[0misspace\u001b[0m\u001b[0;34m(\u001b[0m\u001b[0;34m)\u001b[0m\u001b[0;34m:\u001b[0m\u001b[0;34m\u001b[0m\u001b[0;34m\u001b[0m\u001b[0m\n",
      "\u001b[0;32m~/miniconda3/envs/gro/lib/python3.7/re.py\u001b[0m in \u001b[0;36msplit\u001b[0;34m(pattern, string, maxsplit, flags)\u001b[0m\n\u001b[1;32m    212\u001b[0m     of the list.\"\"\"\n\u001b[0;32m--> 213\u001b[0;31m     \u001b[0;32mreturn\u001b[0m \u001b[0m_compile\u001b[0m\u001b[0;34m(\u001b[0m\u001b[0mpattern\u001b[0m\u001b[0;34m,\u001b[0m \u001b[0mflags\u001b[0m\u001b[0;34m)\u001b[0m\u001b[0;34m.\u001b[0m\u001b[0msplit\u001b[0m\u001b[0;34m(\u001b[0m\u001b[0mstring\u001b[0m\u001b[0;34m,\u001b[0m \u001b[0mmaxsplit\u001b[0m\u001b[0;34m)\u001b[0m\u001b[0;34m\u001b[0m\u001b[0;34m\u001b[0m\u001b[0m\n\u001b[0m\u001b[1;32m    214\u001b[0m \u001b[0;34m\u001b[0m\u001b[0m\n",
      "\u001b[0;31mTypeError\u001b[0m: expected string or bytes-like object",
      "\nDuring handling of the above exception, another exception occurred:\n",
      "\u001b[0;31mValueError\u001b[0m                                Traceback (most recent call last)",
      "\u001b[0;32m~/miniconda3/envs/gro/lib/python3.7/site-packages/pandas/core/window.py\u001b[0m in \u001b[0;36m_validate_freq\u001b[0;34m(self)\u001b[0m\n\u001b[1;32m   1619\u001b[0m         \u001b[0;32mtry\u001b[0m\u001b[0;34m:\u001b[0m\u001b[0;34m\u001b[0m\u001b[0;34m\u001b[0m\u001b[0m\n\u001b[0;32m-> 1620\u001b[0;31m             \u001b[0;32mreturn\u001b[0m \u001b[0mto_offset\u001b[0m\u001b[0;34m(\u001b[0m\u001b[0mself\u001b[0m\u001b[0;34m.\u001b[0m\u001b[0mwindow\u001b[0m\u001b[0;34m)\u001b[0m\u001b[0;34m\u001b[0m\u001b[0;34m\u001b[0m\u001b[0m\n\u001b[0m\u001b[1;32m   1621\u001b[0m         \u001b[0;32mexcept\u001b[0m \u001b[0;34m(\u001b[0m\u001b[0mTypeError\u001b[0m\u001b[0;34m,\u001b[0m \u001b[0mValueError\u001b[0m\u001b[0;34m)\u001b[0m\u001b[0;34m:\u001b[0m\u001b[0;34m\u001b[0m\u001b[0;34m\u001b[0m\u001b[0m\n",
      "\u001b[0;32m~/miniconda3/envs/gro/lib/python3.7/site-packages/pandas/tseries/frequencies.py\u001b[0m in \u001b[0;36mto_offset\u001b[0;34m(freq)\u001b[0m\n\u001b[1;32m    160\u001b[0m         \u001b[0;32mexcept\u001b[0m \u001b[0mException\u001b[0m\u001b[0;34m:\u001b[0m\u001b[0;34m\u001b[0m\u001b[0;34m\u001b[0m\u001b[0m\n\u001b[0;32m--> 161\u001b[0;31m             \u001b[0;32mraise\u001b[0m \u001b[0mValueError\u001b[0m\u001b[0;34m(\u001b[0m\u001b[0mlibfreqs\u001b[0m\u001b[0;34m.\u001b[0m\u001b[0mINVALID_FREQ_ERR_MSG\u001b[0m\u001b[0;34m.\u001b[0m\u001b[0mformat\u001b[0m\u001b[0;34m(\u001b[0m\u001b[0mfreq\u001b[0m\u001b[0;34m)\u001b[0m\u001b[0;34m)\u001b[0m\u001b[0;34m\u001b[0m\u001b[0;34m\u001b[0m\u001b[0m\n\u001b[0m\u001b[1;32m    162\u001b[0m \u001b[0;34m\u001b[0m\u001b[0m\n",
      "\u001b[0;31mValueError\u001b[0m: Invalid frequency: <class 'pandas.tseries.offsets.Hour'>",
      "\nDuring handling of the above exception, another exception occurred:\n",
      "\u001b[0;31mValueError\u001b[0m                                Traceback (most recent call last)",
      "\u001b[0;32m<ipython-input-19-c3b3e7ee130c>\u001b[0m in \u001b[0;36m<module>\u001b[0;34m\u001b[0m\n\u001b[0;32m----> 1\u001b[0;31m \u001b[0mnyu\u001b[0m\u001b[0;34m.\u001b[0m\u001b[0mrolling\u001b[0m\u001b[0;34m(\u001b[0m\u001b[0mpd\u001b[0m\u001b[0;34m.\u001b[0m\u001b[0mtseries\u001b[0m\u001b[0;34m.\u001b[0m\u001b[0moffsets\u001b[0m\u001b[0;34m.\u001b[0m\u001b[0mHour\u001b[0m\u001b[0;34m)\u001b[0m\u001b[0;34m.\u001b[0m\u001b[0mcounts\u001b[0m\u001b[0;34m.\u001b[0m\u001b[0mmean\u001b[0m\u001b[0;34m(\u001b[0m\u001b[0;34m)\u001b[0m\u001b[0;34m\u001b[0m\u001b[0;34m\u001b[0m\u001b[0m\n\u001b[0m",
      "\u001b[0;32m~/miniconda3/envs/gro/lib/python3.7/site-packages/pandas/core/generic.py\u001b[0m in \u001b[0;36mrolling\u001b[0;34m(self, window, min_periods, center, win_type, on, axis, closed)\u001b[0m\n\u001b[1;32m  10145\u001b[0m                                    \u001b[0mmin_periods\u001b[0m\u001b[0;34m=\u001b[0m\u001b[0mmin_periods\u001b[0m\u001b[0;34m,\u001b[0m\u001b[0;34m\u001b[0m\u001b[0;34m\u001b[0m\u001b[0m\n\u001b[1;32m  10146\u001b[0m                                    \u001b[0mcenter\u001b[0m\u001b[0;34m=\u001b[0m\u001b[0mcenter\u001b[0m\u001b[0;34m,\u001b[0m \u001b[0mwin_type\u001b[0m\u001b[0;34m=\u001b[0m\u001b[0mwin_type\u001b[0m\u001b[0;34m,\u001b[0m\u001b[0;34m\u001b[0m\u001b[0;34m\u001b[0m\u001b[0m\n\u001b[0;32m> 10147\u001b[0;31m                                    on=on, axis=axis, closed=closed)\n\u001b[0m\u001b[1;32m  10148\u001b[0m \u001b[0;34m\u001b[0m\u001b[0m\n\u001b[1;32m  10149\u001b[0m         \u001b[0mcls\u001b[0m\u001b[0;34m.\u001b[0m\u001b[0mrolling\u001b[0m \u001b[0;34m=\u001b[0m \u001b[0mrolling\u001b[0m\u001b[0;34m\u001b[0m\u001b[0;34m\u001b[0m\u001b[0m\n",
      "\u001b[0;32m~/miniconda3/envs/gro/lib/python3.7/site-packages/pandas/core/window.py\u001b[0m in \u001b[0;36mrolling\u001b[0;34m(obj, win_type, **kwds)\u001b[0m\n\u001b[1;32m   2624\u001b[0m         \u001b[0;32mreturn\u001b[0m \u001b[0mWindow\u001b[0m\u001b[0;34m(\u001b[0m\u001b[0mobj\u001b[0m\u001b[0;34m,\u001b[0m \u001b[0mwin_type\u001b[0m\u001b[0;34m=\u001b[0m\u001b[0mwin_type\u001b[0m\u001b[0;34m,\u001b[0m \u001b[0;34m**\u001b[0m\u001b[0mkwds\u001b[0m\u001b[0;34m)\u001b[0m\u001b[0;34m\u001b[0m\u001b[0;34m\u001b[0m\u001b[0m\n\u001b[1;32m   2625\u001b[0m \u001b[0;34m\u001b[0m\u001b[0m\n\u001b[0;32m-> 2626\u001b[0;31m     \u001b[0;32mreturn\u001b[0m \u001b[0mRolling\u001b[0m\u001b[0;34m(\u001b[0m\u001b[0mobj\u001b[0m\u001b[0;34m,\u001b[0m \u001b[0;34m**\u001b[0m\u001b[0mkwds\u001b[0m\u001b[0;34m)\u001b[0m\u001b[0;34m\u001b[0m\u001b[0;34m\u001b[0m\u001b[0m\n\u001b[0m\u001b[1;32m   2627\u001b[0m \u001b[0;34m\u001b[0m\u001b[0m\n\u001b[1;32m   2628\u001b[0m \u001b[0;34m\u001b[0m\u001b[0m\n",
      "\u001b[0;32m~/miniconda3/envs/gro/lib/python3.7/site-packages/pandas/core/window.py\u001b[0m in \u001b[0;36m__init__\u001b[0;34m(self, obj, window, min_periods, center, win_type, axis, on, closed, **kwargs)\u001b[0m\n\u001b[1;32m     63\u001b[0m         \u001b[0mself\u001b[0m\u001b[0;34m.\u001b[0m\u001b[0mwin_freq\u001b[0m \u001b[0;34m=\u001b[0m \u001b[0;32mNone\u001b[0m\u001b[0;34m\u001b[0m\u001b[0;34m\u001b[0m\u001b[0m\n\u001b[1;32m     64\u001b[0m         \u001b[0mself\u001b[0m\u001b[0;34m.\u001b[0m\u001b[0maxis\u001b[0m \u001b[0;34m=\u001b[0m \u001b[0mobj\u001b[0m\u001b[0;34m.\u001b[0m\u001b[0m_get_axis_number\u001b[0m\u001b[0;34m(\u001b[0m\u001b[0maxis\u001b[0m\u001b[0;34m)\u001b[0m \u001b[0;32mif\u001b[0m \u001b[0maxis\u001b[0m \u001b[0;32mis\u001b[0m \u001b[0;32mnot\u001b[0m \u001b[0;32mNone\u001b[0m \u001b[0;32melse\u001b[0m \u001b[0;32mNone\u001b[0m\u001b[0;34m\u001b[0m\u001b[0;34m\u001b[0m\u001b[0m\n\u001b[0;32m---> 65\u001b[0;31m         \u001b[0mself\u001b[0m\u001b[0;34m.\u001b[0m\u001b[0mvalidate\u001b[0m\u001b[0;34m(\u001b[0m\u001b[0;34m)\u001b[0m\u001b[0;34m\u001b[0m\u001b[0;34m\u001b[0m\u001b[0m\n\u001b[0m\u001b[1;32m     66\u001b[0m \u001b[0;34m\u001b[0m\u001b[0m\n\u001b[1;32m     67\u001b[0m     \u001b[0;34m@\u001b[0m\u001b[0mproperty\u001b[0m\u001b[0;34m\u001b[0m\u001b[0;34m\u001b[0m\u001b[0m\n",
      "\u001b[0;32m~/miniconda3/envs/gro/lib/python3.7/site-packages/pandas/core/window.py\u001b[0m in \u001b[0;36mvalidate\u001b[0;34m(self)\u001b[0m\n\u001b[1;32m   1577\u001b[0m \u001b[0;34m\u001b[0m\u001b[0m\n\u001b[1;32m   1578\u001b[0m             \u001b[0mself\u001b[0m\u001b[0;34m.\u001b[0m\u001b[0m_validate_monotonic\u001b[0m\u001b[0;34m(\u001b[0m\u001b[0;34m)\u001b[0m\u001b[0;34m\u001b[0m\u001b[0;34m\u001b[0m\u001b[0m\n\u001b[0;32m-> 1579\u001b[0;31m             \u001b[0mfreq\u001b[0m \u001b[0;34m=\u001b[0m \u001b[0mself\u001b[0m\u001b[0;34m.\u001b[0m\u001b[0m_validate_freq\u001b[0m\u001b[0;34m(\u001b[0m\u001b[0;34m)\u001b[0m\u001b[0;34m\u001b[0m\u001b[0;34m\u001b[0m\u001b[0m\n\u001b[0m\u001b[1;32m   1580\u001b[0m \u001b[0;34m\u001b[0m\u001b[0m\n\u001b[1;32m   1581\u001b[0m             \u001b[0;31m# we don't allow center\u001b[0m\u001b[0;34m\u001b[0m\u001b[0;34m\u001b[0m\u001b[0;34m\u001b[0m\u001b[0m\n",
      "\u001b[0;32m~/miniconda3/envs/gro/lib/python3.7/site-packages/pandas/core/window.py\u001b[0m in \u001b[0;36m_validate_freq\u001b[0;34m(self)\u001b[0m\n\u001b[1;32m   1622\u001b[0m             raise ValueError(\"passed window {0} is not \"\n\u001b[1;32m   1623\u001b[0m                              \u001b[0;34m\"compatible with a datetimelike \"\u001b[0m\u001b[0;34m\u001b[0m\u001b[0;34m\u001b[0m\u001b[0m\n\u001b[0;32m-> 1624\u001b[0;31m                              \"index\".format(self.window))\n\u001b[0m\u001b[1;32m   1625\u001b[0m \u001b[0;34m\u001b[0m\u001b[0m\n\u001b[1;32m   1626\u001b[0m     _agg_see_also_doc = dedent(\"\"\"\n",
      "\u001b[0;31mValueError\u001b[0m: passed window <class 'pandas.tseries.offsets.Hour'> is not compatible with a datetimelike index"
     ]
    }
   ],
   "source": [
    "nyu.rolling(pd.tseries.offsets.Hour).counts.mean()"
   ]
  },
  {
   "cell_type": "code",
   "execution_count": 13,
   "metadata": {},
   "outputs": [
    {
     "data": {
      "text/plain": [
       "<matplotlib.axes._subplots.AxesSubplot at 0x7fae12d0bfd0>"
      ]
     },
     "execution_count": 13,
     "metadata": {},
     "output_type": "execute_result"
    },
    {
     "data": {
      "image/png": "[encoded data removed]",
      "text/plain": [
       "<Figure size 432x288 with 1 Axes>"
      ]
     },
     "metadata": {
      "needs_background": "light"
     },
     "output_type": "display_data"
    }
   ],
   "source": [
    "dummy.counts.diff().plot(kind='kde')"
   ]
  },
  {
   "cell_type": "markdown",
   "metadata": {},
   "source": [
    "### What time of the day do people sign up?\n",
    "\n",
    "Conventional wisdom has it that people mostly respond to e-mails in the morning but what time of day do people sign up the most?\n",
    "\n",
    "We do have to take into account here that our results are going to be biased around when we sent e-mails but it might still be interesting to look at."
   ]
  },
  {
   "cell_type": "code",
   "execution_count": 13,
   "metadata": {},
   "outputs": [
    {
     "data": {
      "text/html": [
       "<div>\n",
       "<style scoped>\n",
       "    .dataframe tbody tr th:only-of-type {\n",
       "        vertical-align: middle;\n",
       "    }\n",
       "\n",
       "    .dataframe tbody tr th {\n",
       "        vertical-align: top;\n",
       "    }\n",
       "\n",
       "    .dataframe thead th {\n",
       "        text-align: right;\n",
       "    }\n",
       "</style>\n",
       "<table border=\"1\" class=\"dataframe\">\n",
       "  <thead>\n",
       "    <tr style=\"text-align: right;\">\n",
       "      <th></th>\n",
       "      <th>rsvp_no</th>\n",
       "      <th>institution</th>\n",
       "      <th>counts</th>\n",
       "    </tr>\n",
       "    <tr>\n",
       "      <th>time</th>\n",
       "      <th></th>\n",
       "      <th></th>\n",
       "      <th></th>\n",
       "    </tr>\n",
       "  </thead>\n",
       "  <tbody>\n",
       "    <tr>\n",
       "      <th>2019-03-07 16:58:00</th>\n",
       "      <td>1</td>\n",
       "      <td>Non-academic Institution</td>\n",
       "      <td>1</td>\n",
       "    </tr>\n",
       "    <tr>\n",
       "      <th>2019-03-14 19:11:00</th>\n",
       "      <td>2</td>\n",
       "      <td>Other</td>\n",
       "      <td>1</td>\n",
       "    </tr>\n",
       "    <tr>\n",
       "      <th>2019-03-18 14:28:00</th>\n",
       "      <td>3</td>\n",
       "      <td>Non-academic Institution</td>\n",
       "      <td>2</td>\n",
       "    </tr>\n",
       "    <tr>\n",
       "      <th>2019-03-19 16:33:00</th>\n",
       "      <td>4</td>\n",
       "      <td>CUNY</td>\n",
       "      <td>1</td>\n",
       "    </tr>\n",
       "    <tr>\n",
       "      <th>2019-03-19 16:45:00</th>\n",
       "      <td>5</td>\n",
       "      <td>CUNY</td>\n",
       "      <td>2</td>\n",
       "    </tr>\n",
       "  </tbody>\n",
       "</table>\n",
       "</div>"
      ],
      "text/plain": [
       "                     rsvp_no               institution  counts\n",
       "time                                                          \n",
       "2019-03-07 16:58:00        1  Non-academic Institution       1\n",
       "2019-03-14 19:11:00        2                     Other       1\n",
       "2019-03-18 14:28:00        3  Non-academic Institution       2\n",
       "2019-03-19 16:33:00        4                      CUNY       1\n",
       "2019-03-19 16:45:00        5                      CUNY       2"
      ]
     },
     "execution_count": 13,
     "metadata": {},
     "output_type": "execute_result"
    }
   ],
   "source": [
    "timedf = df.set_index('time')\n",
    "timedf.head()"
   ]
  },
  {
   "cell_type": "code",
   "execution_count": 18,
   "metadata": {},
   "outputs": [
    {
     "data": {
      "text/html": [
       "<div>\n",
       "<style scoped>\n",
       "    .dataframe tbody tr th:only-of-type {\n",
       "        vertical-align: middle;\n",
       "    }\n",
       "\n",
       "    .dataframe tbody tr th {\n",
       "        vertical-align: top;\n",
       "    }\n",
       "\n",
       "    .dataframe thead th {\n",
       "        text-align: right;\n",
       "    }\n",
       "</style>\n",
       "<table border=\"1\" class=\"dataframe\">\n",
       "  <thead>\n",
       "    <tr style=\"text-align: right;\">\n",
       "      <th></th>\n",
       "      <th>rsvp_no</th>\n",
       "      <th>institution</th>\n",
       "      <th>counts</th>\n",
       "    </tr>\n",
       "    <tr>\n",
       "      <th>time</th>\n",
       "      <th></th>\n",
       "      <th></th>\n",
       "      <th></th>\n",
       "    </tr>\n",
       "  </thead>\n",
       "  <tbody>\n",
       "    <tr>\n",
       "      <th>2019-03-07 16:58:00</th>\n",
       "      <td>1</td>\n",
       "      <td>Non-academic Institution</td>\n",
       "      <td>1</td>\n",
       "    </tr>\n",
       "    <tr>\n",
       "      <th>2019-03-14 19:11:00</th>\n",
       "      <td>2</td>\n",
       "      <td>Other</td>\n",
       "      <td>1</td>\n",
       "    </tr>\n",
       "    <tr>\n",
       "      <th>2019-03-18 14:28:00</th>\n",
       "      <td>3</td>\n",
       "      <td>Non-academic Institution</td>\n",
       "      <td>2</td>\n",
       "    </tr>\n",
       "    <tr>\n",
       "      <th>2019-03-19 16:33:00</th>\n",
       "      <td>4</td>\n",
       "      <td>CUNY</td>\n",
       "      <td>1</td>\n",
       "    </tr>\n",
       "    <tr>\n",
       "      <th>2019-03-20 12:58:00</th>\n",
       "      <td>6</td>\n",
       "      <td>CUNY</td>\n",
       "      <td>3</td>\n",
       "    </tr>\n",
       "    <tr>\n",
       "      <th>2019-03-24 23:46:00</th>\n",
       "      <td>7</td>\n",
       "      <td>CUNY</td>\n",
       "      <td>4</td>\n",
       "    </tr>\n",
       "    <tr>\n",
       "      <th>2019-03-25 07:25:00</th>\n",
       "      <td>9</td>\n",
       "      <td>CUNY</td>\n",
       "      <td>6</td>\n",
       "    </tr>\n",
       "    <tr>\n",
       "      <th>2019-03-26 00:00:00</th>\n",
       "      <td>151</td>\n",
       "      <td>NYU</td>\n",
       "      <td>42</td>\n",
       "    </tr>\n",
       "    <tr>\n",
       "      <th>2019-03-27 04:20:00</th>\n",
       "      <td>227</td>\n",
       "      <td>Non-academic Institution</td>\n",
       "      <td>30</td>\n",
       "    </tr>\n",
       "    <tr>\n",
       "      <th>2019-03-28 09:26:00</th>\n",
       "      <td>255</td>\n",
       "      <td>Weill Cornell</td>\n",
       "      <td>34</td>\n",
       "    </tr>\n",
       "    <tr>\n",
       "      <th>2019-03-29 01:02:00</th>\n",
       "      <td>275</td>\n",
       "      <td>Columbia</td>\n",
       "      <td>37</td>\n",
       "    </tr>\n",
       "    <tr>\n",
       "      <th>2019-03-30 18:01:00</th>\n",
       "      <td>288</td>\n",
       "      <td>Rutgers</td>\n",
       "      <td>6</td>\n",
       "    </tr>\n",
       "    <tr>\n",
       "      <th>2019-03-31 06:06:00</th>\n",
       "      <td>291</td>\n",
       "      <td>Non-academic Institution</td>\n",
       "      <td>47</td>\n",
       "    </tr>\n",
       "    <tr>\n",
       "      <th>2019-04-01 09:20:00</th>\n",
       "      <td>293</td>\n",
       "      <td>Non-academic Institution</td>\n",
       "      <td>48</td>\n",
       "    </tr>\n",
       "    <tr>\n",
       "      <th>2019-04-02 01:07:00</th>\n",
       "      <td>317</td>\n",
       "      <td>Other</td>\n",
       "      <td>32</td>\n",
       "    </tr>\n",
       "    <tr>\n",
       "      <th>2019-04-03 00:12:00</th>\n",
       "      <td>357</td>\n",
       "      <td>Rutgers</td>\n",
       "      <td>11</td>\n",
       "    </tr>\n",
       "    <tr>\n",
       "      <th>2019-04-04 09:39:00</th>\n",
       "      <td>391</td>\n",
       "      <td>NYU</td>\n",
       "      <td>91</td>\n",
       "    </tr>\n",
       "    <tr>\n",
       "      <th>2019-04-05 07:49:00</th>\n",
       "      <td>399</td>\n",
       "      <td>Mount Sinai</td>\n",
       "      <td>44</td>\n",
       "    </tr>\n",
       "    <tr>\n",
       "      <th>2019-04-06 14:09:00</th>\n",
       "      <td>405</td>\n",
       "      <td>Other</td>\n",
       "      <td>41</td>\n",
       "    </tr>\n",
       "    <tr>\n",
       "      <th>2019-04-07 14:05:00</th>\n",
       "      <td>407</td>\n",
       "      <td>NYU</td>\n",
       "      <td>93</td>\n",
       "    </tr>\n",
       "    <tr>\n",
       "      <th>2019-04-08 10:21:00</th>\n",
       "      <td>410</td>\n",
       "      <td>NYU</td>\n",
       "      <td>94</td>\n",
       "    </tr>\n",
       "    <tr>\n",
       "      <th>2019-04-09 09:26:00</th>\n",
       "      <td>416</td>\n",
       "      <td>Non-academic Institution</td>\n",
       "      <td>57</td>\n",
       "    </tr>\n",
       "    <tr>\n",
       "      <th>2019-04-10 09:43:00</th>\n",
       "      <td>446</td>\n",
       "      <td>Non-academic Institution</td>\n",
       "      <td>59</td>\n",
       "    </tr>\n",
       "    <tr>\n",
       "      <th>2019-04-11 09:49:00</th>\n",
       "      <td>486</td>\n",
       "      <td>Mount Sinai</td>\n",
       "      <td>53</td>\n",
       "    </tr>\n",
       "    <tr>\n",
       "      <th>2019-04-12 00:49:00</th>\n",
       "      <td>509</td>\n",
       "      <td>Other</td>\n",
       "      <td>55</td>\n",
       "    </tr>\n",
       "    <tr>\n",
       "      <th>2019-04-13 00:03:00</th>\n",
       "      <td>528</td>\n",
       "      <td>Columbia</td>\n",
       "      <td>62</td>\n",
       "    </tr>\n",
       "    <tr>\n",
       "      <th>2019-04-14 01:32:00</th>\n",
       "      <td>536</td>\n",
       "      <td>Non-academic Institution</td>\n",
       "      <td>68</td>\n",
       "    </tr>\n",
       "    <tr>\n",
       "      <th>2019-04-15 00:16:00</th>\n",
       "      <td>538</td>\n",
       "      <td>SUNY (Downstate)</td>\n",
       "      <td>1</td>\n",
       "    </tr>\n",
       "    <tr>\n",
       "      <th>2019-04-16 08:55:00</th>\n",
       "      <td>561</td>\n",
       "      <td>Weill Cornell</td>\n",
       "      <td>45</td>\n",
       "    </tr>\n",
       "    <tr>\n",
       "      <th>2019-04-17 07:41:00</th>\n",
       "      <td>596</td>\n",
       "      <td>Weill Cornell</td>\n",
       "      <td>51</td>\n",
       "    </tr>\n",
       "    <tr>\n",
       "      <th>2019-04-18 06:35:00</th>\n",
       "      <td>644</td>\n",
       "      <td>CUNY (CCNY)</td>\n",
       "      <td>3</td>\n",
       "    </tr>\n",
       "    <tr>\n",
       "      <th>2019-04-19 00:02:00</th>\n",
       "      <td>673</td>\n",
       "      <td>Columbia</td>\n",
       "      <td>125</td>\n",
       "    </tr>\n",
       "    <tr>\n",
       "      <th>2019-04-20 08:50:00</th>\n",
       "      <td>690</td>\n",
       "      <td>CUNY (CCNY)</td>\n",
       "      <td>10</td>\n",
       "    </tr>\n",
       "    <tr>\n",
       "      <th>2019-04-21 13:19:00</th>\n",
       "      <td>698</td>\n",
       "      <td>Columbia</td>\n",
       "      <td>134</td>\n",
       "    </tr>\n",
       "    <tr>\n",
       "      <th>2019-04-22 09:50:00</th>\n",
       "      <td>700</td>\n",
       "      <td>SUNY (Stony Brook)</td>\n",
       "      <td>2</td>\n",
       "    </tr>\n",
       "  </tbody>\n",
       "</table>\n",
       "</div>"
      ],
      "text/plain": [
       "                     rsvp_no               institution  counts\n",
       "time                                                          \n",
       "2019-03-07 16:58:00        1  Non-academic Institution       1\n",
       "2019-03-14 19:11:00        2                     Other       1\n",
       "2019-03-18 14:28:00        3  Non-academic Institution       2\n",
       "2019-03-19 16:33:00        4                      CUNY       1\n",
       "2019-03-20 12:58:00        6                      CUNY       3\n",
       "2019-03-24 23:46:00        7                      CUNY       4\n",
       "2019-03-25 07:25:00        9                      CUNY       6\n",
       "2019-03-26 00:00:00      151                       NYU      42\n",
       "2019-03-27 04:20:00      227  Non-academic Institution      30\n",
       "2019-03-28 09:26:00      255             Weill Cornell      34\n",
       "2019-03-29 01:02:00      275                  Columbia      37\n",
       "2019-03-30 18:01:00      288                   Rutgers       6\n",
       "2019-03-31 06:06:00      291  Non-academic Institution      47\n",
       "2019-04-01 09:20:00      293  Non-academic Institution      48\n",
       "2019-04-02 01:07:00      317                     Other      32\n",
       "2019-04-03 00:12:00      357                   Rutgers      11\n",
       "2019-04-04 09:39:00      391                       NYU      91\n",
       "2019-04-05 07:49:00      399               Mount Sinai      44\n",
       "2019-04-06 14:09:00      405                     Other      41\n",
       "2019-04-07 14:05:00      407                       NYU      93\n",
       "2019-04-08 10:21:00      410                       NYU      94\n",
       "2019-04-09 09:26:00      416  Non-academic Institution      57\n",
       "2019-04-10 09:43:00      446  Non-academic Institution      59\n",
       "2019-04-11 09:49:00      486               Mount Sinai      53\n",
       "2019-04-12 00:49:00      509                     Other      55\n",
       "2019-04-13 00:03:00      528                  Columbia      62\n",
       "2019-04-14 01:32:00      536  Non-academic Institution      68\n",
       "2019-04-15 00:16:00      538          SUNY (Downstate)       1\n",
       "2019-04-16 08:55:00      561             Weill Cornell      45\n",
       "2019-04-17 07:41:00      596             Weill Cornell      51\n",
       "2019-04-18 06:35:00      644               CUNY (CCNY)       3\n",
       "2019-04-19 00:02:00      673                  Columbia     125\n",
       "2019-04-20 08:50:00      690               CUNY (CCNY)      10\n",
       "2019-04-21 13:19:00      698                  Columbia     134\n",
       "2019-04-22 09:50:00      700        SUNY (Stony Brook)       2"
      ]
     },
     "execution_count": 18,
     "metadata": {},
     "output_type": "execute_result"
    }
   ],
   "source": [
    "timedf.groupby(timedf.index.floor('d')).head(1)"
   ]
  },
  {
   "cell_type": "code",
   "execution_count": 9,
   "metadata": {},
   "outputs": [
    {
     "data": {
      "text/html": [
       "<div>\n",
       "<style scoped>\n",
       "    .dataframe tbody tr th:only-of-type {\n",
       "        vertical-align: middle;\n",
       "    }\n",
       "\n",
       "    .dataframe tbody tr th {\n",
       "        vertical-align: top;\n",
       "    }\n",
       "\n",
       "    .dataframe thead th {\n",
       "        text-align: right;\n",
       "    }\n",
       "</style>\n",
       "<table border=\"1\" class=\"dataframe\">\n",
       "  <thead>\n",
       "    <tr style=\"text-align: right;\">\n",
       "      <th></th>\n",
       "      <th>rsvp_no</th>\n",
       "      <th>time</th>\n",
       "      <th>institution</th>\n",
       "      <th>counts</th>\n",
       "    </tr>\n",
       "  </thead>\n",
       "  <tbody>\n",
       "    <tr>\n",
       "      <th>0</th>\n",
       "      <td>1</td>\n",
       "      <td>2019-03-07 16:58:00</td>\n",
       "      <td>Non-academic Institution</td>\n",
       "      <td>1</td>\n",
       "    </tr>\n",
       "    <tr>\n",
       "      <th>1</th>\n",
       "      <td>2</td>\n",
       "      <td>2019-03-14 19:11:00</td>\n",
       "      <td>Other</td>\n",
       "      <td>1</td>\n",
       "    </tr>\n",
       "    <tr>\n",
       "      <th>2</th>\n",
       "      <td>3</td>\n",
       "      <td>2019-03-18 14:28:00</td>\n",
       "      <td>Non-academic Institution</td>\n",
       "      <td>2</td>\n",
       "    </tr>\n",
       "    <tr>\n",
       "      <th>3</th>\n",
       "      <td>4</td>\n",
       "      <td>2019-03-19 16:33:00</td>\n",
       "      <td>CUNY</td>\n",
       "      <td>1</td>\n",
       "    </tr>\n",
       "    <tr>\n",
       "      <th>4</th>\n",
       "      <td>5</td>\n",
       "      <td>2019-03-19 16:45:00</td>\n",
       "      <td>CUNY</td>\n",
       "      <td>2</td>\n",
       "    </tr>\n",
       "    <tr>\n",
       "      <th>5</th>\n",
       "      <td>6</td>\n",
       "      <td>2019-03-20 12:58:00</td>\n",
       "      <td>CUNY</td>\n",
       "      <td>3</td>\n",
       "    </tr>\n",
       "    <tr>\n",
       "      <th>6</th>\n",
       "      <td>7</td>\n",
       "      <td>2019-03-24 23:46:00</td>\n",
       "      <td>CUNY</td>\n",
       "      <td>4</td>\n",
       "    </tr>\n",
       "    <tr>\n",
       "      <th>7</th>\n",
       "      <td>8</td>\n",
       "      <td>2019-03-24 23:48:00</td>\n",
       "      <td>CUNY</td>\n",
       "      <td>5</td>\n",
       "    </tr>\n",
       "    <tr>\n",
       "      <th>8</th>\n",
       "      <td>9</td>\n",
       "      <td>2019-03-25 07:25:00</td>\n",
       "      <td>CUNY</td>\n",
       "      <td>6</td>\n",
       "    </tr>\n",
       "    <tr>\n",
       "      <th>9</th>\n",
       "      <td>10</td>\n",
       "      <td>2019-03-25 09:05:00</td>\n",
       "      <td>Non-academic Institution</td>\n",
       "      <td>3</td>\n",
       "    </tr>\n",
       "    <tr>\n",
       "      <th>10</th>\n",
       "      <td>11</td>\n",
       "      <td>2019-03-25 09:06:00</td>\n",
       "      <td>Mount Sinai</td>\n",
       "      <td>1</td>\n",
       "    </tr>\n",
       "    <tr>\n",
       "      <th>11</th>\n",
       "      <td>12</td>\n",
       "      <td>2019-03-25 09:06:00</td>\n",
       "      <td>Columbia</td>\n",
       "      <td>1</td>\n",
       "    </tr>\n",
       "    <tr>\n",
       "      <th>12</th>\n",
       "      <td>13</td>\n",
       "      <td>2019-03-25 09:06:00</td>\n",
       "      <td>Mount Sinai</td>\n",
       "      <td>2</td>\n",
       "    </tr>\n",
       "    <tr>\n",
       "      <th>150</th>\n",
       "      <td>151</td>\n",
       "      <td>2019-03-26 00:00:00</td>\n",
       "      <td>NYU</td>\n",
       "      <td>42</td>\n",
       "    </tr>\n",
       "    <tr>\n",
       "      <th>151</th>\n",
       "      <td>152</td>\n",
       "      <td>2019-03-26 04:04:00</td>\n",
       "      <td>Columbia</td>\n",
       "      <td>27</td>\n",
       "    </tr>\n",
       "    <tr>\n",
       "      <th>152</th>\n",
       "      <td>153</td>\n",
       "      <td>2019-03-26 04:23:00</td>\n",
       "      <td>Rutgers</td>\n",
       "      <td>3</td>\n",
       "    </tr>\n",
       "    <tr>\n",
       "      <th>153</th>\n",
       "      <td>154</td>\n",
       "      <td>2019-03-26 05:50:00</td>\n",
       "      <td>Non-academic Institution</td>\n",
       "      <td>22</td>\n",
       "    </tr>\n",
       "    <tr>\n",
       "      <th>154</th>\n",
       "      <td>155</td>\n",
       "      <td>2019-03-26 05:55:00</td>\n",
       "      <td>Non-academic Institution</td>\n",
       "      <td>23</td>\n",
       "    </tr>\n",
       "    <tr>\n",
       "      <th>226</th>\n",
       "      <td>227</td>\n",
       "      <td>2019-03-27 04:20:00</td>\n",
       "      <td>Non-academic Institution</td>\n",
       "      <td>30</td>\n",
       "    </tr>\n",
       "    <tr>\n",
       "      <th>227</th>\n",
       "      <td>228</td>\n",
       "      <td>2019-03-27 08:47:00</td>\n",
       "      <td>NYU</td>\n",
       "      <td>51</td>\n",
       "    </tr>\n",
       "    <tr>\n",
       "      <th>228</th>\n",
       "      <td>229</td>\n",
       "      <td>2019-03-27 09:43:00</td>\n",
       "      <td>Other</td>\n",
       "      <td>22</td>\n",
       "    </tr>\n",
       "    <tr>\n",
       "      <th>229</th>\n",
       "      <td>230</td>\n",
       "      <td>2019-03-27 10:00:00</td>\n",
       "      <td>Columbia</td>\n",
       "      <td>33</td>\n",
       "    </tr>\n",
       "    <tr>\n",
       "      <th>230</th>\n",
       "      <td>231</td>\n",
       "      <td>2019-03-27 10:05:00</td>\n",
       "      <td>NYU</td>\n",
       "      <td>52</td>\n",
       "    </tr>\n",
       "    <tr>\n",
       "      <th>253</th>\n",
       "      <td>255</td>\n",
       "      <td>2019-03-28 09:26:00</td>\n",
       "      <td>Weill Cornell</td>\n",
       "      <td>34</td>\n",
       "    </tr>\n",
       "    <tr>\n",
       "      <th>254</th>\n",
       "      <td>256</td>\n",
       "      <td>2019-03-28 09:31:00</td>\n",
       "      <td>CUNY</td>\n",
       "      <td>18</td>\n",
       "    </tr>\n",
       "    <tr>\n",
       "      <th>255</th>\n",
       "      <td>257</td>\n",
       "      <td>2019-03-28 09:43:00</td>\n",
       "      <td>Non-academic Institution</td>\n",
       "      <td>36</td>\n",
       "    </tr>\n",
       "    <tr>\n",
       "      <th>256</th>\n",
       "      <td>258</td>\n",
       "      <td>2019-03-28 09:48:00</td>\n",
       "      <td>Non-academic Institution</td>\n",
       "      <td>37</td>\n",
       "    </tr>\n",
       "    <tr>\n",
       "      <th>257</th>\n",
       "      <td>259</td>\n",
       "      <td>2019-03-28 10:08:00</td>\n",
       "      <td>Non-academic Institution</td>\n",
       "      <td>38</td>\n",
       "    </tr>\n",
       "    <tr>\n",
       "      <th>273</th>\n",
       "      <td>275</td>\n",
       "      <td>2019-03-29 01:02:00</td>\n",
       "      <td>Columbia</td>\n",
       "      <td>37</td>\n",
       "    </tr>\n",
       "    <tr>\n",
       "      <th>274</th>\n",
       "      <td>276</td>\n",
       "      <td>2019-03-29 09:18:00</td>\n",
       "      <td>Non-academic Institution</td>\n",
       "      <td>44</td>\n",
       "    </tr>\n",
       "    <tr>\n",
       "      <th>...</th>\n",
       "      <td>...</td>\n",
       "      <td>...</td>\n",
       "      <td>...</td>\n",
       "      <td>...</td>\n",
       "    </tr>\n",
       "    <tr>\n",
       "      <th>555</th>\n",
       "      <td>563</td>\n",
       "      <td>2019-04-16 10:15:00</td>\n",
       "      <td>Columbia</td>\n",
       "      <td>80</td>\n",
       "    </tr>\n",
       "    <tr>\n",
       "      <th>556</th>\n",
       "      <td>564</td>\n",
       "      <td>2019-04-16 10:20:00</td>\n",
       "      <td>Columbia</td>\n",
       "      <td>81</td>\n",
       "    </tr>\n",
       "    <tr>\n",
       "      <th>557</th>\n",
       "      <td>565</td>\n",
       "      <td>2019-04-16 10:22:00</td>\n",
       "      <td>NYU</td>\n",
       "      <td>130</td>\n",
       "    </tr>\n",
       "    <tr>\n",
       "      <th>588</th>\n",
       "      <td>596</td>\n",
       "      <td>2019-04-17 07:41:00</td>\n",
       "      <td>Weill Cornell</td>\n",
       "      <td>51</td>\n",
       "    </tr>\n",
       "    <tr>\n",
       "      <th>589</th>\n",
       "      <td>597</td>\n",
       "      <td>2019-04-17 09:05:00</td>\n",
       "      <td>Mount Sinai</td>\n",
       "      <td>63</td>\n",
       "    </tr>\n",
       "    <tr>\n",
       "      <th>590</th>\n",
       "      <td>598</td>\n",
       "      <td>2019-04-17 10:00:00</td>\n",
       "      <td>Rutgers</td>\n",
       "      <td>19</td>\n",
       "    </tr>\n",
       "    <tr>\n",
       "      <th>591</th>\n",
       "      <td>599</td>\n",
       "      <td>2019-04-17 10:19:00</td>\n",
       "      <td>Columbia</td>\n",
       "      <td>85</td>\n",
       "    </tr>\n",
       "    <tr>\n",
       "      <th>592</th>\n",
       "      <td>601</td>\n",
       "      <td>2019-04-17 10:48:00</td>\n",
       "      <td>MSKCC</td>\n",
       "      <td>19</td>\n",
       "    </tr>\n",
       "    <tr>\n",
       "      <th>632</th>\n",
       "      <td>644</td>\n",
       "      <td>2019-04-18 06:35:00</td>\n",
       "      <td>CUNY (CCNY)</td>\n",
       "      <td>3</td>\n",
       "    </tr>\n",
       "    <tr>\n",
       "      <th>633</th>\n",
       "      <td>645</td>\n",
       "      <td>2019-04-18 07:14:00</td>\n",
       "      <td>CUNY (CCNY)</td>\n",
       "      <td>4</td>\n",
       "    </tr>\n",
       "    <tr>\n",
       "      <th>634</th>\n",
       "      <td>646</td>\n",
       "      <td>2019-04-18 09:16:00</td>\n",
       "      <td>Weill Cornell</td>\n",
       "      <td>55</td>\n",
       "    </tr>\n",
       "    <tr>\n",
       "      <th>635</th>\n",
       "      <td>647</td>\n",
       "      <td>2019-04-18 11:10:00</td>\n",
       "      <td>Columbia</td>\n",
       "      <td>112</td>\n",
       "    </tr>\n",
       "    <tr>\n",
       "      <th>636</th>\n",
       "      <td>648</td>\n",
       "      <td>2019-04-18 11:46:00</td>\n",
       "      <td>Columbia</td>\n",
       "      <td>113</td>\n",
       "    </tr>\n",
       "    <tr>\n",
       "      <th>661</th>\n",
       "      <td>673</td>\n",
       "      <td>2019-04-19 00:02:00</td>\n",
       "      <td>Columbia</td>\n",
       "      <td>125</td>\n",
       "    </tr>\n",
       "    <tr>\n",
       "      <th>662</th>\n",
       "      <td>674</td>\n",
       "      <td>2019-04-19 00:20:00</td>\n",
       "      <td>Other</td>\n",
       "      <td>71</td>\n",
       "    </tr>\n",
       "    <tr>\n",
       "      <th>663</th>\n",
       "      <td>675</td>\n",
       "      <td>2019-04-19 01:47:00</td>\n",
       "      <td>CUNY (CCNY)</td>\n",
       "      <td>8</td>\n",
       "    </tr>\n",
       "    <tr>\n",
       "      <th>664</th>\n",
       "      <td>676</td>\n",
       "      <td>2019-04-19 08:22:00</td>\n",
       "      <td>Columbia</td>\n",
       "      <td>126</td>\n",
       "    </tr>\n",
       "    <tr>\n",
       "      <th>665</th>\n",
       "      <td>677</td>\n",
       "      <td>2019-04-19 08:57:00</td>\n",
       "      <td>Non-academic Institution</td>\n",
       "      <td>75</td>\n",
       "    </tr>\n",
       "    <tr>\n",
       "      <th>678</th>\n",
       "      <td>690</td>\n",
       "      <td>2019-04-20 08:50:00</td>\n",
       "      <td>CUNY (CCNY)</td>\n",
       "      <td>10</td>\n",
       "    </tr>\n",
       "    <tr>\n",
       "      <th>679</th>\n",
       "      <td>691</td>\n",
       "      <td>2019-04-20 10:50:00</td>\n",
       "      <td>Non-academic Institution</td>\n",
       "      <td>76</td>\n",
       "    </tr>\n",
       "    <tr>\n",
       "      <th>680</th>\n",
       "      <td>692</td>\n",
       "      <td>2019-04-20 12:36:00</td>\n",
       "      <td>Other</td>\n",
       "      <td>74</td>\n",
       "    </tr>\n",
       "    <tr>\n",
       "      <th>681</th>\n",
       "      <td>693</td>\n",
       "      <td>2019-04-20 12:43:00</td>\n",
       "      <td>Non-academic Institution</td>\n",
       "      <td>77</td>\n",
       "    </tr>\n",
       "    <tr>\n",
       "      <th>682</th>\n",
       "      <td>694</td>\n",
       "      <td>2019-04-20 12:48:00</td>\n",
       "      <td>NYU</td>\n",
       "      <td>141</td>\n",
       "    </tr>\n",
       "    <tr>\n",
       "      <th>685</th>\n",
       "      <td>698</td>\n",
       "      <td>2019-04-21 13:19:00</td>\n",
       "      <td>Columbia</td>\n",
       "      <td>134</td>\n",
       "    </tr>\n",
       "    <tr>\n",
       "      <th>686</th>\n",
       "      <td>699</td>\n",
       "      <td>2019-04-21 18:51:00</td>\n",
       "      <td>Other</td>\n",
       "      <td>76</td>\n",
       "    </tr>\n",
       "    <tr>\n",
       "      <th>687</th>\n",
       "      <td>700</td>\n",
       "      <td>2019-04-22 09:50:00</td>\n",
       "      <td>SUNY (Stony Brook)</td>\n",
       "      <td>2</td>\n",
       "    </tr>\n",
       "    <tr>\n",
       "      <th>688</th>\n",
       "      <td>701</td>\n",
       "      <td>2019-04-22 10:07:00</td>\n",
       "      <td>Other</td>\n",
       "      <td>77</td>\n",
       "    </tr>\n",
       "    <tr>\n",
       "      <th>689</th>\n",
       "      <td>702</td>\n",
       "      <td>2019-04-22 10:08:00</td>\n",
       "      <td>CUNY (CCNY)</td>\n",
       "      <td>12</td>\n",
       "    </tr>\n",
       "    <tr>\n",
       "      <th>690</th>\n",
       "      <td>703</td>\n",
       "      <td>2019-04-22 10:17:00</td>\n",
       "      <td>Other</td>\n",
       "      <td>78</td>\n",
       "    </tr>\n",
       "    <tr>\n",
       "      <th>691</th>\n",
       "      <td>704</td>\n",
       "      <td>2019-04-22 10:19:00</td>\n",
       "      <td>Mount Sinai</td>\n",
       "      <td>68</td>\n",
       "    </tr>\n",
       "  </tbody>\n",
       "</table>\n",
       "<p>137 rows × 4 columns</p>\n",
       "</div>"
      ],
      "text/plain": [
       "     rsvp_no                time               institution  counts\n",
       "0          1 2019-03-07 16:58:00  Non-academic Institution       1\n",
       "1          2 2019-03-14 19:11:00                     Other       1\n",
       "2          3 2019-03-18 14:28:00  Non-academic Institution       2\n",
       "3          4 2019-03-19 16:33:00                      CUNY       1\n",
       "4          5 2019-03-19 16:45:00                      CUNY       2\n",
       "5          6 2019-03-20 12:58:00                      CUNY       3\n",
       "6          7 2019-03-24 23:46:00                      CUNY       4\n",
       "7          8 2019-03-24 23:48:00                      CUNY       5\n",
       "8          9 2019-03-25 07:25:00                      CUNY       6\n",
       "9         10 2019-03-25 09:05:00  Non-academic Institution       3\n",
       "10        11 2019-03-25 09:06:00               Mount Sinai       1\n",
       "11        12 2019-03-25 09:06:00                  Columbia       1\n",
       "12        13 2019-03-25 09:06:00               Mount Sinai       2\n",
       "150      151 2019-03-26 00:00:00                       NYU      42\n",
       "151      152 2019-03-26 04:04:00                  Columbia      27\n",
       "152      153 2019-03-26 04:23:00                   Rutgers       3\n",
       "153      154 2019-03-26 05:50:00  Non-academic Institution      22\n",
       "154      155 2019-03-26 05:55:00  Non-academic Institution      23\n",
       "226      227 2019-03-27 04:20:00  Non-academic Institution      30\n",
       "227      228 2019-03-27 08:47:00                       NYU      51\n",
       "228      229 2019-03-27 09:43:00                     Other      22\n",
       "229      230 2019-03-27 10:00:00                  Columbia      33\n",
       "230      231 2019-03-27 10:05:00                       NYU      52\n",
       "253      255 2019-03-28 09:26:00             Weill Cornell      34\n",
       "254      256 2019-03-28 09:31:00                      CUNY      18\n",
       "255      257 2019-03-28 09:43:00  Non-academic Institution      36\n",
       "256      258 2019-03-28 09:48:00  Non-academic Institution      37\n",
       "257      259 2019-03-28 10:08:00  Non-academic Institution      38\n",
       "273      275 2019-03-29 01:02:00                  Columbia      37\n",
       "274      276 2019-03-29 09:18:00  Non-academic Institution      44\n",
       "..       ...                 ...                       ...     ...\n",
       "555      563 2019-04-16 10:15:00                  Columbia      80\n",
       "556      564 2019-04-16 10:20:00                  Columbia      81\n",
       "557      565 2019-04-16 10:22:00                       NYU     130\n",
       "588      596 2019-04-17 07:41:00             Weill Cornell      51\n",
       "589      597 2019-04-17 09:05:00               Mount Sinai      63\n",
       "590      598 2019-04-17 10:00:00                   Rutgers      19\n",
       "591      599 2019-04-17 10:19:00                  Columbia      85\n",
       "592      601 2019-04-17 10:48:00                     MSKCC      19\n",
       "632      644 2019-04-18 06:35:00               CUNY (CCNY)       3\n",
       "633      645 2019-04-18 07:14:00               CUNY (CCNY)       4\n",
       "634      646 2019-04-18 09:16:00             Weill Cornell      55\n",
       "635      647 2019-04-18 11:10:00                  Columbia     112\n",
       "636      648 2019-04-18 11:46:00                  Columbia     113\n",
       "661      673 2019-04-19 00:02:00                  Columbia     125\n",
       "662      674 2019-04-19 00:20:00                     Other      71\n",
       "663      675 2019-04-19 01:47:00               CUNY (CCNY)       8\n",
       "664      676 2019-04-19 08:22:00                  Columbia     126\n",
       "665      677 2019-04-19 08:57:00  Non-academic Institution      75\n",
       "678      690 2019-04-20 08:50:00               CUNY (CCNY)      10\n",
       "679      691 2019-04-20 10:50:00  Non-academic Institution      76\n",
       "680      692 2019-04-20 12:36:00                     Other      74\n",
       "681      693 2019-04-20 12:43:00  Non-academic Institution      77\n",
       "682      694 2019-04-20 12:48:00                       NYU     141\n",
       "685      698 2019-04-21 13:19:00                  Columbia     134\n",
       "686      699 2019-04-21 18:51:00                     Other      76\n",
       "687      700 2019-04-22 09:50:00        SUNY (Stony Brook)       2\n",
       "688      701 2019-04-22 10:07:00                     Other      77\n",
       "689      702 2019-04-22 10:08:00               CUNY (CCNY)      12\n",
       "690      703 2019-04-22 10:17:00                     Other      78\n",
       "691      704 2019-04-22 10:19:00               Mount Sinai      68\n",
       "\n",
       "[137 rows x 4 columns]"
      ]
     },
     "execution_count": 9,
     "metadata": {},
     "output_type": "execute_result"
    }
   ],
   "source": [
    "df.groupby(df.time.dt.floor('d')).head()"
   ]
  },
  {
   "cell_type": "code",
   "execution_count": null,
   "metadata": {},
   "outputs": [],
   "source": []
  }
 ],
 "metadata": {
  "kernelspec": {
   "display_name": "Python 3",
   "language": "python",
   "name": "python3"
  },
  "language_info": {
   "codemirror_mode": {
    "name": "ipython",
    "version": 3
   },
   "file_extension": ".py",
   "mimetype": "text/x-python",
   "name": "python",
   "nbconvert_exporter": "python",
   "pygments_lexer": "ipython3",
   "version": "3.7.3"
  }
 },
 "nbformat": 4,
 "nbformat_minor": 2
}
